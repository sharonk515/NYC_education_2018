{
 "cells": [
  {
   "cell_type": "markdown",
   "metadata": {},
   "source": [
    "# Regression - How does a school's environment affect its students' Math Assessment scores?\n",
    "\n",
    "Predict the percentage of students who will receive a 3+ on the math assessment"
   ]
  },
  {
   "cell_type": "markdown",
   "metadata": {},
   "source": [
    "**Import Packages**"
   ]
  },
  {
   "cell_type": "code",
   "execution_count": 1,
   "metadata": {
    "ExecuteTime": {
     "end_time": "2020-01-24T04:40:32.271163Z",
     "start_time": "2020-01-24T04:40:30.044493Z"
    }
   },
   "outputs": [],
   "source": [
    "import pandas as pd\n",
    "import numpy as np\n",
    "import pickle\n",
    "\n",
    "# libraries for cleaning and preprocessing data\n",
    "from sklearn.preprocessing import StandardScaler\n",
    "\n",
    "# libraries for modeling\n",
    "import statsmodels.api as sm\n",
    "from sklearn.model_selection import train_test_split\n",
    "from sklearn.model_selection import GridSearchCV\n",
    "from sklearn.linear_model import LinearRegression\n",
    "from sklearn.preprocessing import StandardScaler, LabelEncoder\n",
    "from sklearn.linear_model import RidgeCV\n",
    "from sklearn.ensemble import RandomForestRegressor\n",
    "from sklearn.svm import SVR\n",
    "\n",
    "# libraries for visualizations\n",
    "import matplotlib.pyplot as plt\n",
    "import seaborn as sns\n",
    "%matplotlib inline\n",
    "from yellowbrick.regressor import ResidualsPlot\n",
    "sns.set_style('white')\n",
    "\n",
    "import warnings\n",
    "warnings.filterwarnings('ignore')\n",
    "warnings.filterwarnings('ignore', message='numpy.dtype size changed')"
   ]
  },
  {
   "cell_type": "markdown",
   "metadata": {},
   "source": [
    "## Data Preprocessing"
   ]
  },
  {
   "cell_type": "markdown",
   "metadata": {},
   "source": [
    "**Read Data**"
   ]
  },
  {
   "cell_type": "code",
   "execution_count": 2,
   "metadata": {
    "ExecuteTime": {
     "end_time": "2020-01-24T04:40:32.360074Z",
     "start_time": "2020-01-24T04:40:32.273468Z"
    },
    "scrolled": true
   },
   "outputs": [
    {
     "data": {
      "text/html": [
       "<div>\n",
       "<style scoped>\n",
       "    .dataframe tbody tr th:only-of-type {\n",
       "        vertical-align: middle;\n",
       "    }\n",
       "\n",
       "    .dataframe tbody tr th {\n",
       "        vertical-align: top;\n",
       "    }\n",
       "\n",
       "    .dataframe thead th {\n",
       "        text-align: right;\n",
       "    }\n",
       "</style>\n",
       "<table border=\"1\" class=\"dataframe\">\n",
       "  <thead>\n",
       "    <tr style=\"text-align: right;\">\n",
       "      <th></th>\n",
       "      <th>DBN</th>\n",
       "      <th>School Name</th>\n",
       "      <th>Supportive Environment Rating</th>\n",
       "      <th>Interesting and challenging curriculum</th>\n",
       "      <th>Effective teaching and learning</th>\n",
       "      <th>Effective school assessment</th>\n",
       "      <th>Clear communication - high expectations</th>\n",
       "      <th>Teacher collaboration</th>\n",
       "      <th>Safety, inclusivity, social-emotional growth</th>\n",
       "      <th>Resource allocation and management</th>\n",
       "      <th>...</th>\n",
       "      <th>Strong Family-Community Ties Score</th>\n",
       "      <th>Trust Score</th>\n",
       "      <th>Borough</th>\n",
       "      <th>District</th>\n",
       "      <th>Level 1 %</th>\n",
       "      <th>Level 2 %</th>\n",
       "      <th>Level 3 %</th>\n",
       "      <th>Level 4 %</th>\n",
       "      <th>Level 3+ %</th>\n",
       "      <th>% Tested</th>\n",
       "    </tr>\n",
       "  </thead>\n",
       "  <tbody>\n",
       "    <tr>\n",
       "      <th>0</th>\n",
       "      <td>01M015</td>\n",
       "      <td>P.S. 015 Roberto Clemente</td>\n",
       "      <td>4</td>\n",
       "      <td>4</td>\n",
       "      <td>3</td>\n",
       "      <td>3</td>\n",
       "      <td>3</td>\n",
       "      <td>3</td>\n",
       "      <td>4</td>\n",
       "      <td>4</td>\n",
       "      <td>...</td>\n",
       "      <td>3.80</td>\n",
       "      <td>3.99</td>\n",
       "      <td>Manhattan</td>\n",
       "      <td>1</td>\n",
       "      <td>11.940298</td>\n",
       "      <td>29.850746</td>\n",
       "      <td>32.835819</td>\n",
       "      <td>25.373135</td>\n",
       "      <td>58.208954</td>\n",
       "      <td>0.387283</td>\n",
       "    </tr>\n",
       "    <tr>\n",
       "      <th>1</th>\n",
       "      <td>01M019</td>\n",
       "      <td>P.S. 019 Asher Levy</td>\n",
       "      <td>3</td>\n",
       "      <td>4</td>\n",
       "      <td>4</td>\n",
       "      <td>4</td>\n",
       "      <td>4</td>\n",
       "      <td>4</td>\n",
       "      <td>4</td>\n",
       "      <td>4</td>\n",
       "      <td>...</td>\n",
       "      <td>4.10</td>\n",
       "      <td>3.55</td>\n",
       "      <td>Manhattan</td>\n",
       "      <td>1</td>\n",
       "      <td>23.595505</td>\n",
       "      <td>17.977528</td>\n",
       "      <td>29.213484</td>\n",
       "      <td>29.213484</td>\n",
       "      <td>58.426968</td>\n",
       "      <td>0.364754</td>\n",
       "    </tr>\n",
       "    <tr>\n",
       "      <th>2</th>\n",
       "      <td>01M020</td>\n",
       "      <td>P.S. 020 Anna Silver</td>\n",
       "      <td>2</td>\n",
       "      <td>2</td>\n",
       "      <td>2</td>\n",
       "      <td>2</td>\n",
       "      <td>3</td>\n",
       "      <td>2</td>\n",
       "      <td>3</td>\n",
       "      <td>3</td>\n",
       "      <td>...</td>\n",
       "      <td>3.64</td>\n",
       "      <td>3.12</td>\n",
       "      <td>Manhattan</td>\n",
       "      <td>1</td>\n",
       "      <td>41.509434</td>\n",
       "      <td>23.113207</td>\n",
       "      <td>17.924528</td>\n",
       "      <td>17.452829</td>\n",
       "      <td>35.377357</td>\n",
       "      <td>0.457883</td>\n",
       "    </tr>\n",
       "    <tr>\n",
       "      <th>3</th>\n",
       "      <td>01M034</td>\n",
       "      <td>P.S. 034 Franklin D. Roosevelt</td>\n",
       "      <td>2</td>\n",
       "      <td>2</td>\n",
       "      <td>2</td>\n",
       "      <td>2</td>\n",
       "      <td>3</td>\n",
       "      <td>3</td>\n",
       "      <td>2</td>\n",
       "      <td>3</td>\n",
       "      <td>...</td>\n",
       "      <td>3.33</td>\n",
       "      <td>2.32</td>\n",
       "      <td>Manhattan</td>\n",
       "      <td>1</td>\n",
       "      <td>54.751133</td>\n",
       "      <td>29.411764</td>\n",
       "      <td>10.859729</td>\n",
       "      <td>4.977376</td>\n",
       "      <td>15.837104</td>\n",
       "      <td>0.690625</td>\n",
       "    </tr>\n",
       "    <tr>\n",
       "      <th>4</th>\n",
       "      <td>01M063</td>\n",
       "      <td>The STAR Academy - P.S.63</td>\n",
       "      <td>3</td>\n",
       "      <td>4</td>\n",
       "      <td>3</td>\n",
       "      <td>4</td>\n",
       "      <td>3</td>\n",
       "      <td>4</td>\n",
       "      <td>4</td>\n",
       "      <td>4</td>\n",
       "      <td>...</td>\n",
       "      <td>4.01</td>\n",
       "      <td>3.95</td>\n",
       "      <td>Manhattan</td>\n",
       "      <td>1</td>\n",
       "      <td>18.750000</td>\n",
       "      <td>23.437500</td>\n",
       "      <td>37.500000</td>\n",
       "      <td>20.312500</td>\n",
       "      <td>57.812500</td>\n",
       "      <td>0.361582</td>\n",
       "    </tr>\n",
       "  </tbody>\n",
       "</table>\n",
       "<p>5 rows × 41 columns</p>\n",
       "</div>"
      ],
      "text/plain": [
       "      DBN                     School Name  Supportive Environment Rating  \\\n",
       "0  01M015       P.S. 015 Roberto Clemente                              4   \n",
       "1  01M019             P.S. 019 Asher Levy                              3   \n",
       "2  01M020            P.S. 020 Anna Silver                              2   \n",
       "3  01M034  P.S. 034 Franklin D. Roosevelt                              2   \n",
       "4  01M063       The STAR Academy - P.S.63                              3   \n",
       "\n",
       "   Interesting and challenging curriculum  Effective teaching and learning  \\\n",
       "0                                       4                                3   \n",
       "1                                       4                                4   \n",
       "2                                       2                                2   \n",
       "3                                       2                                2   \n",
       "4                                       4                                3   \n",
       "\n",
       "   Effective school assessment  Clear communication - high expectations  \\\n",
       "0                            3                                        3   \n",
       "1                            4                                        4   \n",
       "2                            2                                        3   \n",
       "3                            2                                        3   \n",
       "4                            4                                        3   \n",
       "\n",
       "   Teacher collaboration  Safety, inclusivity, social-emotional growth  \\\n",
       "0                      3                                             4   \n",
       "1                      4                                             4   \n",
       "2                      2                                             3   \n",
       "3                      3                                             2   \n",
       "4                      4                                             4   \n",
       "\n",
       "   Resource allocation and management  ...  \\\n",
       "0                                   4  ...   \n",
       "1                                   4  ...   \n",
       "2                                   3  ...   \n",
       "3                                   3  ...   \n",
       "4                                   4  ...   \n",
       "\n",
       "   Strong Family-Community Ties Score  Trust Score    Borough  District  \\\n",
       "0                                3.80         3.99  Manhattan         1   \n",
       "1                                4.10         3.55  Manhattan         1   \n",
       "2                                3.64         3.12  Manhattan         1   \n",
       "3                                3.33         2.32  Manhattan         1   \n",
       "4                                4.01         3.95  Manhattan         1   \n",
       "\n",
       "   Level 1 %  Level 2 %  Level 3 %  Level 4 %  Level 3+ %  % Tested  \n",
       "0  11.940298  29.850746  32.835819  25.373135   58.208954  0.387283  \n",
       "1  23.595505  17.977528  29.213484  29.213484   58.426968  0.364754  \n",
       "2  41.509434  23.113207  17.924528  17.452829   35.377357  0.457883  \n",
       "3  54.751133  29.411764  10.859729   4.977376   15.837104  0.690625  \n",
       "4  18.750000  23.437500  37.500000  20.312500   57.812500  0.361582  \n",
       "\n",
       "[5 rows x 41 columns]"
      ]
     },
     "execution_count": 2,
     "metadata": {},
     "output_type": "execute_result"
    }
   ],
   "source": [
    "nyc_schools_math = pd.read_csv('Data/nyc_schools_math.csv')\n",
    "nyc_schools_math.head()"
   ]
  },
  {
   "cell_type": "code",
   "execution_count": 3,
   "metadata": {
    "ExecuteTime": {
     "end_time": "2020-01-24T04:40:47.689057Z",
     "start_time": "2020-01-24T04:40:47.683280Z"
    }
   },
   "outputs": [],
   "source": [
    "nyc_schools_math = nyc_schools_math.drop(['Percent English Language Learners',\n",
    "                                          'Percent Students with Disabilities', 'Percent Self-Contained',\n",
    "                                          'Economic Need Index', 'Percent in Temp Housing',\n",
    "                                          'Percent HRA Eligible', 'Percent Asian', 'Percent Black',\n",
    "                                          'Percent Hispanic', 'Percent White',\n",
    "                                          'Principal experience at this school',\n",
    "                                          'Percent of teachers with 3+ years of experience',\n",
    "                                          'Student Attendance Rate', 'Percent of Students Chronically Absent',\n",
    "                                          'Teacher Attendance Rate', 'District', 'Borough', '% Tested'], axis=1)"
   ]
  },
  {
   "cell_type": "markdown",
   "metadata": {},
   "source": [
    "**Define features and target**"
   ]
  },
  {
   "cell_type": "code",
   "execution_count": 4,
   "metadata": {
    "ExecuteTime": {
     "end_time": "2020-01-24T04:40:49.935965Z",
     "start_time": "2020-01-24T04:40:49.931164Z"
    }
   },
   "outputs": [],
   "source": [
    "X = nyc_schools_math.drop(['DBN', 'School Name', 'Level 1 %', 'Level 2 %',\n",
    "                           'Level 3 %', 'Level 4 %', 'Level 3+ %', ],\n",
    "                          axis=1)\n",
    "y = nyc_schools_math['Level 3+ %']"
   ]
  },
  {
   "cell_type": "markdown",
   "metadata": {},
   "source": [
    "**Encode categorical variables**"
   ]
  },
  {
   "cell_type": "code",
   "execution_count": 5,
   "metadata": {
    "ExecuteTime": {
     "end_time": "2020-01-24T04:40:52.191356Z",
     "start_time": "2020-01-24T04:40:52.179019Z"
    }
   },
   "outputs": [],
   "source": [
    "X = pd.get_dummies(X, drop_first=True)"
   ]
  },
  {
   "cell_type": "markdown",
   "metadata": {},
   "source": [
    "**Train-test split**"
   ]
  },
  {
   "cell_type": "code",
   "execution_count": 6,
   "metadata": {
    "ExecuteTime": {
     "end_time": "2020-01-24T04:40:53.837877Z",
     "start_time": "2020-01-24T04:40:53.832228Z"
    }
   },
   "outputs": [],
   "source": [
    "X_train, X_test, y_train, y_test = train_test_split(X, y, test_size=0.2,\n",
    "                                                    random_state=220)"
   ]
  },
  {
   "cell_type": "markdown",
   "metadata": {},
   "source": [
    "**Standardize variables**"
   ]
  },
  {
   "cell_type": "code",
   "execution_count": 7,
   "metadata": {
    "ExecuteTime": {
     "end_time": "2020-01-24T04:40:55.524285Z",
     "start_time": "2020-01-24T04:40:55.515814Z"
    }
   },
   "outputs": [],
   "source": [
    "scale = StandardScaler()\n",
    "X_train_scale = pd.DataFrame(scale.fit_transform(X_train),\n",
    "                             columns=X.columns)\n",
    "X_test_scale = pd.DataFrame(scale.transform(X_test),\n",
    "                            columns=X.columns)"
   ]
  },
  {
   "cell_type": "markdown",
   "metadata": {},
   "source": [
    "## Modeling"
   ]
  },
  {
   "cell_type": "markdown",
   "metadata": {
    "heading_collapsed": true
   },
   "source": [
    "### Multiple Linear Regression"
   ]
  },
  {
   "cell_type": "markdown",
   "metadata": {
    "hidden": true
   },
   "source": [
    "**Scikit-learn Regression**"
   ]
  },
  {
   "cell_type": "code",
   "execution_count": 7,
   "metadata": {
    "ExecuteTime": {
     "end_time": "2020-01-14T20:31:04.682620Z",
     "start_time": "2020-01-14T20:31:04.243797Z"
    },
    "hidden": true
   },
   "outputs": [],
   "source": [
    "linreg = LinearRegression().fit(X_train, y_train)"
   ]
  },
  {
   "cell_type": "code",
   "execution_count": 8,
   "metadata": {
    "ExecuteTime": {
     "end_time": "2020-01-14T20:31:10.014962Z",
     "start_time": "2020-01-14T20:31:09.992863Z"
    },
    "hidden": true,
    "scrolled": false
   },
   "outputs": [
    {
     "name": "stdout",
     "output_type": "stream",
     "text": [
      "Train Score: 0.8183989188005184\n",
      "Test Score: 0.7927703711393624\n",
      "Intercept: -213.42592102140532\n",
      "Coefficients: [ 2.44494740e+00 -1.93075756e+00 -1.71014860e+00 -3.89673957e-01\n",
      "  2.07957331e-01  6.90400983e-01  4.32708299e-01  6.20270954e-01\n",
      "  1.05256843e+00  2.99246058e-01  2.77700523e-01 -2.54075411e+01\n",
      " -4.26074321e+01  5.58440932e+00 -1.73511395e+01  6.94896396e+00\n",
      " -1.19620660e+01  4.92106330e+01  5.73598618e+00  1.69902934e+01\n",
      "  2.82789016e+01  1.67644609e-01  5.57687870e+00  1.78505208e+02\n",
      "  9.34353422e+00  9.48135825e+01 -2.41290274e+00  4.22452818e-01\n",
      "  6.49850569e+00 -1.87098809e+00  1.01694219e+00 -3.51088682e-01\n",
      " -2.35172676e+01  5.05466456e+00  3.44963806e-01  3.30367192e+00\n",
      "  6.88478399e+00]\n"
     ]
    }
   ],
   "source": [
    "print('Train Score:', linreg.score(X_train, y_train))\n",
    "print('Test Score:', linreg.score(X_test, y_test))\n",
    "print('Intercept:', linreg.intercept_)\n",
    "print('Coefficients:', linreg.coef_)"
   ]
  },
  {
   "cell_type": "markdown",
   "metadata": {
    "hidden": true
   },
   "source": [
    "**Statsmodels Linear Regression**"
   ]
  },
  {
   "cell_type": "code",
   "execution_count": 7,
   "metadata": {
    "ExecuteTime": {
     "end_time": "2020-01-15T02:27:12.967877Z",
     "start_time": "2020-01-15T02:27:12.943238Z"
    },
    "hidden": true
   },
   "outputs": [],
   "source": [
    "linreg_ols = sm.OLS(y_train,\n",
    "                    sm.add_constant(X_train)).fit()"
   ]
  },
  {
   "cell_type": "code",
   "execution_count": 8,
   "metadata": {
    "ExecuteTime": {
     "end_time": "2020-01-15T02:27:13.769693Z",
     "start_time": "2020-01-15T02:27:13.743809Z"
    },
    "hidden": true,
    "scrolled": true
   },
   "outputs": [
    {
     "name": "stdout",
     "output_type": "stream",
     "text": [
      "                            OLS Regression Results                            \n",
      "==============================================================================\n",
      "Dep. Variable:             Level 3+ %   R-squared:                       0.818\n",
      "Model:                            OLS   Adj. R-squared:                  0.810\n",
      "Method:                 Least Squares   F-statistic:                     101.6\n",
      "Date:                Tue, 14 Jan 2020   Prob (F-statistic):          2.38e-280\n",
      "Time:                        21:27:13   Log-Likelihood:                -3228.1\n",
      "No. Observations:                 872   AIC:                             6532.\n",
      "Df Residuals:                     834   BIC:                             6713.\n",
      "Df Model:                          37                                         \n",
      "Covariance Type:            nonrobust                                         \n",
      "===================================================================================================================\n",
      "                                                      coef    std err          t      P>|t|      [0.025      0.975]\n",
      "-------------------------------------------------------------------------------------------------------------------\n",
      "const                                            -213.4259     87.843     -2.430      0.015    -385.845     -41.007\n",
      "Supportive Environment Rating                       2.4449      0.881      2.774      0.006       0.715       4.175\n",
      "Interesting and challenging curriculum             -1.9308      0.990     -1.951      0.051      -3.873       0.012\n",
      "Effective teaching and learning                    -1.7101      0.981     -1.742      0.082      -3.637       0.216\n",
      "Effective school assessment                        -0.3897      0.954     -0.408      0.683      -2.263       1.483\n",
      "Clear communication - high expectations             0.2080      0.957      0.217      0.828      -1.670       2.086\n",
      "Teacher collaboration                               0.6904      1.124      0.614      0.539      -1.516       2.897\n",
      "Safety, inclusivity, social-emotional growth        0.4327      1.012      0.427      0.669      -1.554       2.420\n",
      "Resource allocation and management                  0.6203      1.266      0.490      0.624      -1.865       3.106\n",
      "Identifying, tracking, and meeting goals            1.0526      1.212      0.869      0.385      -1.326       3.431\n",
      "Thoughtful teacher development and evaluation       0.2992      1.203      0.249      0.804      -2.062       2.661\n",
      "School decision evaluation and adjustment           0.2777      1.115      0.249      0.803      -1.910       2.465\n",
      "Percent English Language Learners                 -25.4075      4.713     -5.391      0.000     -34.658     -16.157\n",
      "Percent Students with Disabilities                -42.6074      7.447     -5.722      0.000     -57.224     -27.991\n",
      "Percent Self-Contained                              5.5844     10.229      0.546      0.585     -14.493      25.662\n",
      "Economic Need Index                               -17.3511     15.515     -1.118      0.264     -47.804      13.102\n",
      "Percent in Temp Housing                             6.9490      6.349      1.094      0.274      -5.514      19.411\n",
      "Percent HRA Eligible                              -11.9621     14.860     -0.805      0.421     -41.130      17.205\n",
      "Percent Asian                                      49.2106     15.586      3.157      0.002      18.619      79.803\n",
      "Percent Black                                       5.7360     15.524      0.369      0.712     -24.734      36.206\n",
      "Percent Hispanic                                   16.9903     15.312      1.110      0.267     -13.065      47.046\n",
      "Percent White                                      28.2789     15.319      1.846      0.065      -1.789      58.346\n",
      "Principal experience at this school                 0.1676      0.071      2.359      0.019       0.028       0.307\n",
      "Percent of teachers with 3+ years of experience     5.5769      2.847      1.959      0.050      -0.010      11.164\n",
      "Student Attendance Rate                           178.5052     81.724      2.184      0.029      18.096     338.914\n",
      "Percent of Students Chronically Absent              9.3435     17.025      0.549      0.583     -24.073      42.760\n",
      "Teacher Attendance Rate                            94.8136     37.449      2.532      0.012      21.309     168.318\n",
      "Collaborative Teachers Score                       -2.4129      1.647     -1.465      0.143      -5.645       0.819\n",
      "Effective School Leadership Score                   0.4225      1.072      0.394      0.694      -1.681       2.526\n",
      "Rigorous Instruction Score                          6.4985      1.727      3.762      0.000       3.108       9.889\n",
      "Strong Family-Community Ties Score                 -1.8710      0.900     -2.078      0.038      -3.638      -0.104\n",
      "Trust Score                                         1.0169      0.944      1.077      0.282      -0.837       2.871\n",
      "District                                           -0.3511      0.126     -2.786      0.005      -0.598      -0.104\n",
      "% Tested                                          -23.5173      1.935    -12.151      0.000     -27.316     -19.719\n",
      "Borough_Brooklyn                                    5.0547      1.758      2.876      0.004       1.605       8.505\n",
      "Borough_Manhattan                                   0.3450      1.413      0.244      0.807      -2.429       3.119\n",
      "Borough_Queens                                      3.3037      2.646      1.249      0.212      -1.890       8.497\n",
      "Borough_Staten Island                               6.8848      3.538      1.946      0.052      -0.060      13.830\n",
      "==============================================================================\n",
      "Omnibus:                       81.486   Durbin-Watson:                   1.924\n",
      "Prob(Omnibus):                  0.000   Jarque-Bera (JB):              295.841\n",
      "Skew:                           0.383   Prob(JB):                     5.74e-65\n",
      "Kurtosis:                       5.749   Cond. No.                     8.29e+03\n",
      "==============================================================================\n",
      "\n",
      "Warnings:\n",
      "[1] Standard Errors assume that the covariance matrix of the errors is correctly specified.\n",
      "[2] The condition number is large, 8.29e+03. This might indicate that there are\n",
      "strong multicollinearity or other numerical problems.\n"
     ]
    }
   ],
   "source": [
    "model_sum = linreg_ols.summary()\n",
    "print(model_sum)"
   ]
  },
  {
   "cell_type": "code",
   "execution_count": 9,
   "metadata": {
    "ExecuteTime": {
     "end_time": "2020-01-15T02:27:15.685128Z",
     "start_time": "2020-01-15T02:27:15.653452Z"
    },
    "hidden": true,
    "scrolled": true
   },
   "outputs": [
    {
     "data": {
      "text/html": [
       "<div>\n",
       "<style scoped>\n",
       "    .dataframe tbody tr th:only-of-type {\n",
       "        vertical-align: middle;\n",
       "    }\n",
       "\n",
       "    .dataframe tbody tr th {\n",
       "        vertical-align: top;\n",
       "    }\n",
       "\n",
       "    .dataframe thead th {\n",
       "        text-align: right;\n",
       "    }\n",
       "</style>\n",
       "<table border=\"1\" class=\"dataframe\">\n",
       "  <thead>\n",
       "    <tr style=\"text-align: right;\">\n",
       "      <th></th>\n",
       "      <th>coef</th>\n",
       "      <th>std err</th>\n",
       "      <th>t</th>\n",
       "      <th>P&gt;|t|</th>\n",
       "      <th>[0.025</th>\n",
       "      <th>0.975]</th>\n",
       "    </tr>\n",
       "    <tr>\n",
       "      <th></th>\n",
       "      <th></th>\n",
       "      <th></th>\n",
       "      <th></th>\n",
       "      <th></th>\n",
       "      <th></th>\n",
       "      <th></th>\n",
       "    </tr>\n",
       "  </thead>\n",
       "  <tbody>\n",
       "    <tr>\n",
       "      <th>const</th>\n",
       "      <td>-213.4259</td>\n",
       "      <td>87.843</td>\n",
       "      <td>-2.430</td>\n",
       "      <td>0.015</td>\n",
       "      <td>-385.845</td>\n",
       "      <td>-41.007</td>\n",
       "    </tr>\n",
       "    <tr>\n",
       "      <th>Supportive Environment Rating</th>\n",
       "      <td>2.4449</td>\n",
       "      <td>0.881</td>\n",
       "      <td>2.774</td>\n",
       "      <td>0.006</td>\n",
       "      <td>0.715</td>\n",
       "      <td>4.175</td>\n",
       "    </tr>\n",
       "    <tr>\n",
       "      <th>Interesting and challenging curriculum</th>\n",
       "      <td>-1.9308</td>\n",
       "      <td>0.990</td>\n",
       "      <td>-1.951</td>\n",
       "      <td>0.051</td>\n",
       "      <td>-3.873</td>\n",
       "      <td>0.012</td>\n",
       "    </tr>\n",
       "    <tr>\n",
       "      <th>Effective teaching and learning</th>\n",
       "      <td>-1.7101</td>\n",
       "      <td>0.981</td>\n",
       "      <td>-1.742</td>\n",
       "      <td>0.082</td>\n",
       "      <td>-3.637</td>\n",
       "      <td>0.216</td>\n",
       "    </tr>\n",
       "    <tr>\n",
       "      <th>Effective school assessment</th>\n",
       "      <td>-0.3897</td>\n",
       "      <td>0.954</td>\n",
       "      <td>-0.408</td>\n",
       "      <td>0.683</td>\n",
       "      <td>-2.263</td>\n",
       "      <td>1.483</td>\n",
       "    </tr>\n",
       "    <tr>\n",
       "      <th>Clear communication - high expectations</th>\n",
       "      <td>0.2080</td>\n",
       "      <td>0.957</td>\n",
       "      <td>0.217</td>\n",
       "      <td>0.828</td>\n",
       "      <td>-1.670</td>\n",
       "      <td>2.086</td>\n",
       "    </tr>\n",
       "    <tr>\n",
       "      <th>Teacher collaboration</th>\n",
       "      <td>0.6904</td>\n",
       "      <td>1.124</td>\n",
       "      <td>0.614</td>\n",
       "      <td>0.539</td>\n",
       "      <td>-1.516</td>\n",
       "      <td>2.897</td>\n",
       "    </tr>\n",
       "    <tr>\n",
       "      <th>Safety, inclusivity, social-emotional growth</th>\n",
       "      <td>0.4327</td>\n",
       "      <td>1.012</td>\n",
       "      <td>0.427</td>\n",
       "      <td>0.669</td>\n",
       "      <td>-1.554</td>\n",
       "      <td>2.420</td>\n",
       "    </tr>\n",
       "    <tr>\n",
       "      <th>Resource allocation and management</th>\n",
       "      <td>0.6203</td>\n",
       "      <td>1.266</td>\n",
       "      <td>0.490</td>\n",
       "      <td>0.624</td>\n",
       "      <td>-1.865</td>\n",
       "      <td>3.106</td>\n",
       "    </tr>\n",
       "    <tr>\n",
       "      <th>Identifying, tracking, and meeting goals</th>\n",
       "      <td>1.0526</td>\n",
       "      <td>1.212</td>\n",
       "      <td>0.869</td>\n",
       "      <td>0.385</td>\n",
       "      <td>-1.326</td>\n",
       "      <td>3.431</td>\n",
       "    </tr>\n",
       "    <tr>\n",
       "      <th>Thoughtful teacher development and evaluation</th>\n",
       "      <td>0.2992</td>\n",
       "      <td>1.203</td>\n",
       "      <td>0.249</td>\n",
       "      <td>0.804</td>\n",
       "      <td>-2.062</td>\n",
       "      <td>2.661</td>\n",
       "    </tr>\n",
       "    <tr>\n",
       "      <th>School decision evaluation and adjustment</th>\n",
       "      <td>0.2777</td>\n",
       "      <td>1.115</td>\n",
       "      <td>0.249</td>\n",
       "      <td>0.803</td>\n",
       "      <td>-1.910</td>\n",
       "      <td>2.465</td>\n",
       "    </tr>\n",
       "    <tr>\n",
       "      <th>Percent English Language Learners</th>\n",
       "      <td>-25.4075</td>\n",
       "      <td>4.713</td>\n",
       "      <td>-5.391</td>\n",
       "      <td>0.000</td>\n",
       "      <td>-34.658</td>\n",
       "      <td>-16.157</td>\n",
       "    </tr>\n",
       "    <tr>\n",
       "      <th>Percent Students with Disabilities</th>\n",
       "      <td>-42.6074</td>\n",
       "      <td>7.447</td>\n",
       "      <td>-5.722</td>\n",
       "      <td>0.000</td>\n",
       "      <td>-57.224</td>\n",
       "      <td>-27.991</td>\n",
       "    </tr>\n",
       "    <tr>\n",
       "      <th>Percent Self-Contained</th>\n",
       "      <td>5.5844</td>\n",
       "      <td>10.229</td>\n",
       "      <td>0.546</td>\n",
       "      <td>0.585</td>\n",
       "      <td>-14.493</td>\n",
       "      <td>25.662</td>\n",
       "    </tr>\n",
       "    <tr>\n",
       "      <th>Economic Need Index</th>\n",
       "      <td>-17.3511</td>\n",
       "      <td>15.515</td>\n",
       "      <td>-1.118</td>\n",
       "      <td>0.264</td>\n",
       "      <td>-47.804</td>\n",
       "      <td>13.102</td>\n",
       "    </tr>\n",
       "    <tr>\n",
       "      <th>Percent in Temp Housing</th>\n",
       "      <td>6.9490</td>\n",
       "      <td>6.349</td>\n",
       "      <td>1.094</td>\n",
       "      <td>0.274</td>\n",
       "      <td>-5.514</td>\n",
       "      <td>19.411</td>\n",
       "    </tr>\n",
       "    <tr>\n",
       "      <th>Percent HRA Eligible</th>\n",
       "      <td>-11.9621</td>\n",
       "      <td>14.860</td>\n",
       "      <td>-0.805</td>\n",
       "      <td>0.421</td>\n",
       "      <td>-41.130</td>\n",
       "      <td>17.205</td>\n",
       "    </tr>\n",
       "    <tr>\n",
       "      <th>Percent Asian</th>\n",
       "      <td>49.2106</td>\n",
       "      <td>15.586</td>\n",
       "      <td>3.157</td>\n",
       "      <td>0.002</td>\n",
       "      <td>18.619</td>\n",
       "      <td>79.803</td>\n",
       "    </tr>\n",
       "    <tr>\n",
       "      <th>Percent Black</th>\n",
       "      <td>5.7360</td>\n",
       "      <td>15.524</td>\n",
       "      <td>0.369</td>\n",
       "      <td>0.712</td>\n",
       "      <td>-24.734</td>\n",
       "      <td>36.206</td>\n",
       "    </tr>\n",
       "    <tr>\n",
       "      <th>Percent Hispanic</th>\n",
       "      <td>16.9903</td>\n",
       "      <td>15.312</td>\n",
       "      <td>1.110</td>\n",
       "      <td>0.267</td>\n",
       "      <td>-13.065</td>\n",
       "      <td>47.046</td>\n",
       "    </tr>\n",
       "    <tr>\n",
       "      <th>Percent White</th>\n",
       "      <td>28.2789</td>\n",
       "      <td>15.319</td>\n",
       "      <td>1.846</td>\n",
       "      <td>0.065</td>\n",
       "      <td>-1.789</td>\n",
       "      <td>58.346</td>\n",
       "    </tr>\n",
       "    <tr>\n",
       "      <th>Principal experience at this school</th>\n",
       "      <td>0.1676</td>\n",
       "      <td>0.071</td>\n",
       "      <td>2.359</td>\n",
       "      <td>0.019</td>\n",
       "      <td>0.028</td>\n",
       "      <td>0.307</td>\n",
       "    </tr>\n",
       "    <tr>\n",
       "      <th>Percent of teachers with 3+ years of experience</th>\n",
       "      <td>5.5769</td>\n",
       "      <td>2.847</td>\n",
       "      <td>1.959</td>\n",
       "      <td>0.050</td>\n",
       "      <td>-0.010</td>\n",
       "      <td>11.164</td>\n",
       "    </tr>\n",
       "    <tr>\n",
       "      <th>Student Attendance Rate</th>\n",
       "      <td>178.5052</td>\n",
       "      <td>81.724</td>\n",
       "      <td>2.184</td>\n",
       "      <td>0.029</td>\n",
       "      <td>18.096</td>\n",
       "      <td>338.914</td>\n",
       "    </tr>\n",
       "    <tr>\n",
       "      <th>Percent of Students Chronically Absent</th>\n",
       "      <td>9.3435</td>\n",
       "      <td>17.025</td>\n",
       "      <td>0.549</td>\n",
       "      <td>0.583</td>\n",
       "      <td>-24.073</td>\n",
       "      <td>42.760</td>\n",
       "    </tr>\n",
       "    <tr>\n",
       "      <th>Teacher Attendance Rate</th>\n",
       "      <td>94.8136</td>\n",
       "      <td>37.449</td>\n",
       "      <td>2.532</td>\n",
       "      <td>0.012</td>\n",
       "      <td>21.309</td>\n",
       "      <td>168.318</td>\n",
       "    </tr>\n",
       "    <tr>\n",
       "      <th>Collaborative Teachers Score</th>\n",
       "      <td>-2.4129</td>\n",
       "      <td>1.647</td>\n",
       "      <td>-1.465</td>\n",
       "      <td>0.143</td>\n",
       "      <td>-5.645</td>\n",
       "      <td>0.819</td>\n",
       "    </tr>\n",
       "    <tr>\n",
       "      <th>Effective School Leadership Score</th>\n",
       "      <td>0.4225</td>\n",
       "      <td>1.072</td>\n",
       "      <td>0.394</td>\n",
       "      <td>0.694</td>\n",
       "      <td>-1.681</td>\n",
       "      <td>2.526</td>\n",
       "    </tr>\n",
       "    <tr>\n",
       "      <th>Rigorous Instruction Score</th>\n",
       "      <td>6.4985</td>\n",
       "      <td>1.727</td>\n",
       "      <td>3.762</td>\n",
       "      <td>0.000</td>\n",
       "      <td>3.108</td>\n",
       "      <td>9.889</td>\n",
       "    </tr>\n",
       "    <tr>\n",
       "      <th>Strong Family-Community Ties Score</th>\n",
       "      <td>-1.8710</td>\n",
       "      <td>0.900</td>\n",
       "      <td>-2.078</td>\n",
       "      <td>0.038</td>\n",
       "      <td>-3.638</td>\n",
       "      <td>-0.104</td>\n",
       "    </tr>\n",
       "    <tr>\n",
       "      <th>Trust Score</th>\n",
       "      <td>1.0169</td>\n",
       "      <td>0.944</td>\n",
       "      <td>1.077</td>\n",
       "      <td>0.282</td>\n",
       "      <td>-0.837</td>\n",
       "      <td>2.871</td>\n",
       "    </tr>\n",
       "    <tr>\n",
       "      <th>District</th>\n",
       "      <td>-0.3511</td>\n",
       "      <td>0.126</td>\n",
       "      <td>-2.786</td>\n",
       "      <td>0.005</td>\n",
       "      <td>-0.598</td>\n",
       "      <td>-0.104</td>\n",
       "    </tr>\n",
       "    <tr>\n",
       "      <th>% Tested</th>\n",
       "      <td>-23.5173</td>\n",
       "      <td>1.935</td>\n",
       "      <td>-12.151</td>\n",
       "      <td>0.000</td>\n",
       "      <td>-27.316</td>\n",
       "      <td>-19.719</td>\n",
       "    </tr>\n",
       "    <tr>\n",
       "      <th>Borough_Brooklyn</th>\n",
       "      <td>5.0547</td>\n",
       "      <td>1.758</td>\n",
       "      <td>2.876</td>\n",
       "      <td>0.004</td>\n",
       "      <td>1.605</td>\n",
       "      <td>8.505</td>\n",
       "    </tr>\n",
       "    <tr>\n",
       "      <th>Borough_Manhattan</th>\n",
       "      <td>0.3450</td>\n",
       "      <td>1.413</td>\n",
       "      <td>0.244</td>\n",
       "      <td>0.807</td>\n",
       "      <td>-2.429</td>\n",
       "      <td>3.119</td>\n",
       "    </tr>\n",
       "    <tr>\n",
       "      <th>Borough_Queens</th>\n",
       "      <td>3.3037</td>\n",
       "      <td>2.646</td>\n",
       "      <td>1.249</td>\n",
       "      <td>0.212</td>\n",
       "      <td>-1.890</td>\n",
       "      <td>8.497</td>\n",
       "    </tr>\n",
       "    <tr>\n",
       "      <th>Borough_Staten Island</th>\n",
       "      <td>6.8848</td>\n",
       "      <td>3.538</td>\n",
       "      <td>1.946</td>\n",
       "      <td>0.052</td>\n",
       "      <td>-0.060</td>\n",
       "      <td>13.830</td>\n",
       "    </tr>\n",
       "  </tbody>\n",
       "</table>\n",
       "</div>"
      ],
      "text/plain": [
       "0                                                    coef  std err       t  \\\n",
       "                                                                             \n",
       "const                                           -213.4259   87.843  -2.430   \n",
       "Supportive Environment Rating                      2.4449    0.881   2.774   \n",
       "Interesting and challenging curriculum            -1.9308    0.990  -1.951   \n",
       "Effective teaching and learning                   -1.7101    0.981  -1.742   \n",
       "Effective school assessment                       -0.3897    0.954  -0.408   \n",
       "Clear communication - high expectations            0.2080    0.957   0.217   \n",
       "Teacher collaboration                              0.6904    1.124   0.614   \n",
       "Safety, inclusivity, social-emotional growth       0.4327    1.012   0.427   \n",
       "Resource allocation and management                 0.6203    1.266   0.490   \n",
       "Identifying, tracking, and meeting goals           1.0526    1.212   0.869   \n",
       "Thoughtful teacher development and evaluation      0.2992    1.203   0.249   \n",
       "School decision evaluation and adjustment          0.2777    1.115   0.249   \n",
       "Percent English Language Learners                -25.4075    4.713  -5.391   \n",
       "Percent Students with Disabilities               -42.6074    7.447  -5.722   \n",
       "Percent Self-Contained                             5.5844   10.229   0.546   \n",
       "Economic Need Index                              -17.3511   15.515  -1.118   \n",
       "Percent in Temp Housing                            6.9490    6.349   1.094   \n",
       "Percent HRA Eligible                             -11.9621   14.860  -0.805   \n",
       "Percent Asian                                     49.2106   15.586   3.157   \n",
       "Percent Black                                      5.7360   15.524   0.369   \n",
       "Percent Hispanic                                  16.9903   15.312   1.110   \n",
       "Percent White                                     28.2789   15.319   1.846   \n",
       "Principal experience at this school                0.1676    0.071   2.359   \n",
       "Percent of teachers with 3+ years of experience    5.5769    2.847   1.959   \n",
       "Student Attendance Rate                          178.5052   81.724   2.184   \n",
       "Percent of Students Chronically Absent             9.3435   17.025   0.549   \n",
       "Teacher Attendance Rate                           94.8136   37.449   2.532   \n",
       "Collaborative Teachers Score                      -2.4129    1.647  -1.465   \n",
       "Effective School Leadership Score                  0.4225    1.072   0.394   \n",
       "Rigorous Instruction Score                         6.4985    1.727   3.762   \n",
       "Strong Family-Community Ties Score                -1.8710    0.900  -2.078   \n",
       "Trust Score                                        1.0169    0.944   1.077   \n",
       "District                                          -0.3511    0.126  -2.786   \n",
       "% Tested                                         -23.5173    1.935 -12.151   \n",
       "Borough_Brooklyn                                   5.0547    1.758   2.876   \n",
       "Borough_Manhattan                                  0.3450    1.413   0.244   \n",
       "Borough_Queens                                     3.3037    2.646   1.249   \n",
       "Borough_Staten Island                              6.8848    3.538   1.946   \n",
       "\n",
       "0                                                P>|t|   [0.025   0.975]  \n",
       "                                                                          \n",
       "const                                            0.015 -385.845  -41.007  \n",
       "Supportive Environment Rating                    0.006    0.715    4.175  \n",
       "Interesting and challenging curriculum           0.051   -3.873    0.012  \n",
       "Effective teaching and learning                  0.082   -3.637    0.216  \n",
       "Effective school assessment                      0.683   -2.263    1.483  \n",
       "Clear communication - high expectations          0.828   -1.670    2.086  \n",
       "Teacher collaboration                            0.539   -1.516    2.897  \n",
       "Safety, inclusivity, social-emotional growth     0.669   -1.554    2.420  \n",
       "Resource allocation and management               0.624   -1.865    3.106  \n",
       "Identifying, tracking, and meeting goals         0.385   -1.326    3.431  \n",
       "Thoughtful teacher development and evaluation    0.804   -2.062    2.661  \n",
       "School decision evaluation and adjustment        0.803   -1.910    2.465  \n",
       "Percent English Language Learners                0.000  -34.658  -16.157  \n",
       "Percent Students with Disabilities               0.000  -57.224  -27.991  \n",
       "Percent Self-Contained                           0.585  -14.493   25.662  \n",
       "Economic Need Index                              0.264  -47.804   13.102  \n",
       "Percent in Temp Housing                          0.274   -5.514   19.411  \n",
       "Percent HRA Eligible                             0.421  -41.130   17.205  \n",
       "Percent Asian                                    0.002   18.619   79.803  \n",
       "Percent Black                                    0.712  -24.734   36.206  \n",
       "Percent Hispanic                                 0.267  -13.065   47.046  \n",
       "Percent White                                    0.065   -1.789   58.346  \n",
       "Principal experience at this school              0.019    0.028    0.307  \n",
       "Percent of teachers with 3+ years of experience  0.050   -0.010   11.164  \n",
       "Student Attendance Rate                          0.029   18.096  338.914  \n",
       "Percent of Students Chronically Absent           0.583  -24.073   42.760  \n",
       "Teacher Attendance Rate                          0.012   21.309  168.318  \n",
       "Collaborative Teachers Score                     0.143   -5.645    0.819  \n",
       "Effective School Leadership Score                0.694   -1.681    2.526  \n",
       "Rigorous Instruction Score                       0.000    3.108    9.889  \n",
       "Strong Family-Community Ties Score               0.038   -3.638   -0.104  \n",
       "Trust Score                                      0.282   -0.837    2.871  \n",
       "District                                         0.005   -0.598   -0.104  \n",
       "% Tested                                         0.000  -27.316  -19.719  \n",
       "Borough_Brooklyn                                 0.004    1.605    8.505  \n",
       "Borough_Manhattan                                0.807   -2.429    3.119  \n",
       "Borough_Queens                                   0.212   -1.890    8.497  \n",
       "Borough_Staten Island                            0.052   -0.060   13.830  "
      ]
     },
     "execution_count": 9,
     "metadata": {},
     "output_type": "execute_result"
    }
   ],
   "source": [
    "# Create a dataframe from our regression results\n",
    "lin_table = linreg_ols.summary().tables[1]\n",
    "lin_table = pd.DataFrame(lin_table.data)\n",
    "lin_table.columns = lin_table.iloc[0]\n",
    "lin_table.drop(0, inplace=True)\n",
    "lin_table = lin_table.set_index(lin_table.columns[0])\n",
    "lin_table = lin_table.astype(float)\n",
    "lin_table"
   ]
  },
  {
   "cell_type": "markdown",
   "metadata": {
    "heading_collapsed": true
   },
   "source": [
    "### Ridge Regression"
   ]
  },
  {
   "cell_type": "code",
   "execution_count": 27,
   "metadata": {
    "ExecuteTime": {
     "end_time": "2020-01-15T19:48:05.942757Z",
     "start_time": "2020-01-15T19:48:05.921826Z"
    },
    "hidden": true
   },
   "outputs": [
    {
     "data": {
      "text/plain": [
       "RidgeCV(alphas=array([ 0.1,  1. , 10. ]), cv=None, fit_intercept=True,\n",
       "        gcv_mode=None, normalize=False, scoring=None, store_cv_values=False)"
      ]
     },
     "execution_count": 27,
     "metadata": {},
     "output_type": "execute_result"
    }
   ],
   "source": [
    "lin_l2 = RidgeCV()\n",
    "lin_l2.fit(X_train, y_train)"
   ]
  },
  {
   "cell_type": "code",
   "execution_count": 28,
   "metadata": {
    "ExecuteTime": {
     "end_time": "2020-01-15T19:48:06.579625Z",
     "start_time": "2020-01-15T19:48:06.571980Z"
    },
    "hidden": true
   },
   "outputs": [
    {
     "name": "stdout",
     "output_type": "stream",
     "text": [
      "Train Score: 0.8169815356688217\n",
      "Test Score: 0.8003444602679642\n"
     ]
    }
   ],
   "source": [
    "print('Train Score:', lin_l2.score(X_train, y_train))\n",
    "print('Test Score:', lin_l2.score(X_test, y_test))"
   ]
  },
  {
   "cell_type": "markdown",
   "metadata": {},
   "source": [
    "### SVR"
   ]
  },
  {
   "cell_type": "code",
   "execution_count": 8,
   "metadata": {
    "ExecuteTime": {
     "end_time": "2020-01-24T04:41:19.739105Z",
     "start_time": "2020-01-24T04:41:19.681106Z"
    }
   },
   "outputs": [
    {
     "data": {
      "text/plain": [
       "SVR(C=1.0, cache_size=200, coef0=0.0, degree=3, epsilon=0.1,\n",
       "    gamma='auto_deprecated', kernel='linear', max_iter=-1, shrinking=True,\n",
       "    tol=0.001, verbose=False)"
      ]
     },
     "execution_count": 8,
     "metadata": {},
     "output_type": "execute_result"
    }
   ],
   "source": [
    "svm_r = SVR(kernel='linear')\n",
    "\n",
    "svm_r.fit(X_train_scale, y_train)"
   ]
  },
  {
   "cell_type": "code",
   "execution_count": 9,
   "metadata": {
    "ExecuteTime": {
     "end_time": "2020-01-24T04:41:20.530419Z",
     "start_time": "2020-01-24T04:41:20.521152Z"
    }
   },
   "outputs": [
    {
     "name": "stdout",
     "output_type": "stream",
     "text": [
      "Model Score: 0.38213743062979566\n"
     ]
    }
   ],
   "source": [
    "print('Model Score:', svm_r.score(X_test_scale, y_test))"
   ]
  },
  {
   "cell_type": "markdown",
   "metadata": {},
   "source": [
    "**Tuning hyperparameters**"
   ]
  },
  {
   "cell_type": "code",
   "execution_count": 23,
   "metadata": {
    "ExecuteTime": {
     "end_time": "2020-01-24T04:44:30.804607Z",
     "start_time": "2020-01-24T04:44:30.801496Z"
    }
   },
   "outputs": [],
   "source": [
    "svm_grid = {'C': [0.01, 0.1, 1, 10]}"
   ]
  },
  {
   "cell_type": "code",
   "execution_count": 24,
   "metadata": {
    "ExecuteTime": {
     "end_time": "2020-01-24T04:44:40.592026Z",
     "start_time": "2020-01-24T04:44:40.218964Z"
    }
   },
   "outputs": [
    {
     "name": "stdout",
     "output_type": "stream",
     "text": [
      "Fitting 5 folds for each of 4 candidates, totalling 20 fits\n"
     ]
    },
    {
     "name": "stderr",
     "output_type": "stream",
     "text": [
      "[Parallel(n_jobs=-1)]: Using backend LokyBackend with 8 concurrent workers.\n",
      "[Parallel(n_jobs=-1)]: Done   5 out of  20 | elapsed:    0.1s remaining:    0.2s\n",
      "[Parallel(n_jobs=-1)]: Done  20 out of  20 | elapsed:    0.3s finished\n"
     ]
    },
    {
     "data": {
      "text/plain": [
       "GridSearchCV(cv=5, error_score='raise-deprecating',\n",
       "             estimator=SVR(C=1.0, cache_size=200, coef0=0.0, degree=3,\n",
       "                           epsilon=0.1, gamma='auto_deprecated',\n",
       "                           kernel='linear', max_iter=-1, shrinking=True,\n",
       "                           tol=0.001, verbose=False),\n",
       "             iid='warn', n_jobs=-1, param_grid={'C': [0.01, 0.1, 1, 10]},\n",
       "             pre_dispatch='2*n_jobs', refit=True, return_train_score=False,\n",
       "             scoring='r2', verbose=1)"
      ]
     },
     "execution_count": 24,
     "metadata": {},
     "output_type": "execute_result"
    }
   ],
   "source": [
    "svm_gs = GridSearchCV(estimator=SVR(kernel='linear'),\n",
    "                      param_grid=svm_grid,\n",
    "                      scoring='r2',\n",
    "                      cv=5, verbose=1, n_jobs=-1)\n",
    "\n",
    "svm_gs.fit(X_train_scale, y_train)\n",
    "\n",
    "# pickle.dump(svm_gs, open('Models/svm_math.sav', 'wb'))"
   ]
  },
  {
   "cell_type": "code",
   "execution_count": 25,
   "metadata": {
    "ExecuteTime": {
     "end_time": "2020-01-24T04:44:41.792821Z",
     "start_time": "2020-01-24T04:44:41.783911Z"
    }
   },
   "outputs": [
    {
     "name": "stdout",
     "output_type": "stream",
     "text": [
      "Best params: {'C': 1}\n",
      "Train score: 0.367\n",
      "Test score: 0.382\n"
     ]
    }
   ],
   "source": [
    "# svm_gs = pickle.load(open('Models/svm_math.sav', 'rb'))\n",
    "\n",
    "print('Best params:', svm_gs.best_params_)\n",
    "print('Train score: %.3f' % svm_gs.best_score_)\n",
    "print('Test score: %.3f' % svm_gs.score(X_test_scale, y_test))"
   ]
  },
  {
   "cell_type": "markdown",
   "metadata": {
    "heading_collapsed": true
   },
   "source": [
    "### Random Forest Regressor"
   ]
  },
  {
   "cell_type": "code",
   "execution_count": 34,
   "metadata": {
    "ExecuteTime": {
     "end_time": "2020-01-14T20:38:41.469151Z",
     "start_time": "2020-01-14T20:38:41.298635Z"
    },
    "hidden": true
   },
   "outputs": [
    {
     "data": {
      "text/plain": [
       "RandomForestRegressor(bootstrap=True, criterion='mse', max_depth=None,\n",
       "                      max_features='auto', max_leaf_nodes=None,\n",
       "                      min_impurity_decrease=0.0, min_impurity_split=None,\n",
       "                      min_samples_leaf=1, min_samples_split=2,\n",
       "                      min_weight_fraction_leaf=0.0, n_estimators=10,\n",
       "                      n_jobs=None, oob_score=False, random_state=220, verbose=0,\n",
       "                      warm_start=False)"
      ]
     },
     "execution_count": 34,
     "metadata": {},
     "output_type": "execute_result"
    }
   ],
   "source": [
    "rf_v = RandomForestRegressor(random_state=220)\n",
    "\n",
    "rf_v.fit(X_train, y_train)"
   ]
  },
  {
   "cell_type": "code",
   "execution_count": 35,
   "metadata": {
    "ExecuteTime": {
     "end_time": "2020-01-14T20:39:04.853328Z",
     "start_time": "2020-01-14T20:39:04.844353Z"
    },
    "hidden": true
   },
   "outputs": [
    {
     "name": "stdout",
     "output_type": "stream",
     "text": [
      "Model Score: 0.7684040732122961\n"
     ]
    }
   ],
   "source": [
    "print('Model Score:', rf_v.score(X_test, y_test))"
   ]
  },
  {
   "cell_type": "markdown",
   "metadata": {
    "hidden": true
   },
   "source": [
    "**Tuning hyperparameters**"
   ]
  },
  {
   "cell_type": "code",
   "execution_count": 42,
   "metadata": {
    "ExecuteTime": {
     "end_time": "2020-01-14T21:10:25.849760Z",
     "start_time": "2020-01-14T21:10:25.845369Z"
    },
    "hidden": true
   },
   "outputs": [],
   "source": [
    "rf_grid = {'n_estimators': [600, 700, 800],\n",
    "          'max_depth': [18, 20, 22],\n",
    "          'min_samples_split': [2, 3],\n",
    "          'min_samples_leaf': [1, 2]}"
   ]
  },
  {
   "cell_type": "code",
   "execution_count": 43,
   "metadata": {
    "ExecuteTime": {
     "end_time": "2020-01-14T21:15:32.999620Z",
     "start_time": "2020-01-14T21:10:27.008448Z"
    },
    "hidden": true
   },
   "outputs": [
    {
     "name": "stdout",
     "output_type": "stream",
     "text": [
      "Fitting 5 folds for each of 36 candidates, totalling 180 fits\n"
     ]
    },
    {
     "name": "stderr",
     "output_type": "stream",
     "text": [
      "[Parallel(n_jobs=-1)]: Using backend LokyBackend with 8 concurrent workers.\n",
      "[Parallel(n_jobs=-1)]: Done  34 tasks      | elapsed:  1.3min\n",
      "[Parallel(n_jobs=-1)]: Done 180 out of 180 | elapsed:  5.0min finished\n"
     ]
    },
    {
     "data": {
      "text/plain": [
       "GridSearchCV(cv=5, error_score='raise-deprecating',\n",
       "             estimator=RandomForestRegressor(bootstrap=True, criterion='mse',\n",
       "                                             max_depth=None,\n",
       "                                             max_features='auto',\n",
       "                                             max_leaf_nodes=None,\n",
       "                                             min_impurity_decrease=0.0,\n",
       "                                             min_impurity_split=None,\n",
       "                                             min_samples_leaf=1,\n",
       "                                             min_samples_split=2,\n",
       "                                             min_weight_fraction_leaf=0.0,\n",
       "                                             n_estimators='warn', n_jobs=None,\n",
       "                                             oob_score=False, random_state=220,\n",
       "                                             verbose=0, warm_start=False),\n",
       "             iid='warn', n_jobs=-1,\n",
       "             param_grid={'max_depth': [18, 20, 22], 'min_samples_leaf': [1, 2],\n",
       "                         'min_samples_split': [2, 3],\n",
       "                         'n_estimators': [600, 700, 800]},\n",
       "             pre_dispatch='2*n_jobs', refit=True, return_train_score=False,\n",
       "             scoring='r2', verbose=1)"
      ]
     },
     "execution_count": 43,
     "metadata": {},
     "output_type": "execute_result"
    }
   ],
   "source": [
    "rf_gs = GridSearchCV(estimator=RandomForestRegressor(random_state=220),\n",
    "                     param_grid=rf_grid,\n",
    "                     scoring='r2',\n",
    "                     cv=5, verbose=1, n_jobs=-1)\n",
    "\n",
    "rf_gs.fit(X_train, y_train)"
   ]
  },
  {
   "cell_type": "code",
   "execution_count": 19,
   "metadata": {
    "ExecuteTime": {
     "end_time": "2020-01-15T03:07:09.315677Z",
     "start_time": "2020-01-15T03:07:09.190776Z"
    },
    "hidden": true,
    "scrolled": true
   },
   "outputs": [
    {
     "name": "stdout",
     "output_type": "stream",
     "text": [
      "Best params: {'max_depth': 20, 'min_samples_leaf': 2, 'min_samples_split': 2, 'n_estimators': 600}\n",
      "Train score: 0.801\n",
      "Test score: 0.786\n"
     ]
    }
   ],
   "source": [
    "print('Best params:', rf_gs.best_params_)\n",
    "print('Train score: %.3f' % rf_gs.best_score_)\n",
    "print('Test score: %.3f' % rf_gs.score(X_test, y_test))"
   ]
  },
  {
   "cell_type": "markdown",
   "metadata": {},
   "source": [
    "## Interpreting the Results"
   ]
  },
  {
   "cell_type": "code",
   "execution_count": 26,
   "metadata": {
    "ExecuteTime": {
     "end_time": "2020-01-24T04:44:45.832303Z",
     "start_time": "2020-01-24T04:44:45.107003Z"
    }
   },
   "outputs": [
    {
     "data": {
      "image/png": "[encoded data removed]",
      "text/plain": [
       "<Figure size 576x396 with 2 Axes>"
      ]
     },
     "metadata": {},
     "output_type": "display_data"
    }
   ],
   "source": [
    "visualizer = ResidualsPlot(svm_gs)\n",
    "\n",
    "visualizer.fit(X_train, y_train)\n",
    "visualizer.score(X_test, y_test)\n",
    "visualizer.show();"
   ]
  },
  {
   "cell_type": "code",
   "execution_count": 27,
   "metadata": {
    "ExecuteTime": {
     "end_time": "2020-01-24T04:44:48.941122Z",
     "start_time": "2020-01-24T04:44:48.924945Z"
    }
   },
   "outputs": [
    {
     "data": {
      "text/html": [
       "<div>\n",
       "<style scoped>\n",
       "    .dataframe tbody tr th:only-of-type {\n",
       "        vertical-align: middle;\n",
       "    }\n",
       "\n",
       "    .dataframe tbody tr th {\n",
       "        vertical-align: top;\n",
       "    }\n",
       "\n",
       "    .dataframe thead th {\n",
       "        text-align: right;\n",
       "    }\n",
       "</style>\n",
       "<table border=\"1\" class=\"dataframe\">\n",
       "  <thead>\n",
       "    <tr style=\"text-align: right;\">\n",
       "      <th></th>\n",
       "      <th>Feature</th>\n",
       "      <th>Coefficient</th>\n",
       "      <th>Absolute Coefficient</th>\n",
       "    </tr>\n",
       "  </thead>\n",
       "  <tbody>\n",
       "    <tr>\n",
       "      <th>15</th>\n",
       "      <td>Trust Score</td>\n",
       "      <td>-1.463903</td>\n",
       "      <td>1.463903</td>\n",
       "    </tr>\n",
       "    <tr>\n",
       "      <th>3</th>\n",
       "      <td>Effective school assessment</td>\n",
       "      <td>2.003009</td>\n",
       "      <td>2.003009</td>\n",
       "    </tr>\n",
       "    <tr>\n",
       "      <th>1</th>\n",
       "      <td>Interesting and challenging curriculum</td>\n",
       "      <td>2.017833</td>\n",
       "      <td>2.017833</td>\n",
       "    </tr>\n",
       "    <tr>\n",
       "      <th>9</th>\n",
       "      <td>Thoughtful teacher development and evaluation</td>\n",
       "      <td>-2.439445</td>\n",
       "      <td>2.439445</td>\n",
       "    </tr>\n",
       "    <tr>\n",
       "      <th>2</th>\n",
       "      <td>Effective teaching and learning</td>\n",
       "      <td>3.031353</td>\n",
       "      <td>3.031353</td>\n",
       "    </tr>\n",
       "    <tr>\n",
       "      <th>11</th>\n",
       "      <td>Collaborative Teachers Score</td>\n",
       "      <td>3.776979</td>\n",
       "      <td>3.776979</td>\n",
       "    </tr>\n",
       "    <tr>\n",
       "      <th>14</th>\n",
       "      <td>Strong Family-Community Ties Score</td>\n",
       "      <td>3.937522</td>\n",
       "      <td>3.937522</td>\n",
       "    </tr>\n",
       "    <tr>\n",
       "      <th>12</th>\n",
       "      <td>Effective School Leadership Score</td>\n",
       "      <td>-5.173410</td>\n",
       "      <td>5.173410</td>\n",
       "    </tr>\n",
       "    <tr>\n",
       "      <th>8</th>\n",
       "      <td>Identifying, tracking, and meeting goals</td>\n",
       "      <td>5.302602</td>\n",
       "      <td>5.302602</td>\n",
       "    </tr>\n",
       "    <tr>\n",
       "      <th>0</th>\n",
       "      <td>Supportive Environment Rating</td>\n",
       "      <td>6.551651</td>\n",
       "      <td>6.551651</td>\n",
       "    </tr>\n",
       "  </tbody>\n",
       "</table>\n",
       "</div>"
      ],
      "text/plain": [
       "                                          Feature  Coefficient  \\\n",
       "15                                    Trust Score    -1.463903   \n",
       "3                     Effective school assessment     2.003009   \n",
       "1          Interesting and challenging curriculum     2.017833   \n",
       "9   Thoughtful teacher development and evaluation    -2.439445   \n",
       "2                 Effective teaching and learning     3.031353   \n",
       "11                   Collaborative Teachers Score     3.776979   \n",
       "14             Strong Family-Community Ties Score     3.937522   \n",
       "12              Effective School Leadership Score    -5.173410   \n",
       "8        Identifying, tracking, and meeting goals     5.302602   \n",
       "0                   Supportive Environment Rating     6.551651   \n",
       "\n",
       "    Absolute Coefficient  \n",
       "15              1.463903  \n",
       "3               2.003009  \n",
       "1               2.017833  \n",
       "9               2.439445  \n",
       "2               3.031353  \n",
       "11              3.776979  \n",
       "14              3.937522  \n",
       "12              5.173410  \n",
       "8               5.302602  \n",
       "0               6.551651  "
      ]
     },
     "execution_count": 27,
     "metadata": {},
     "output_type": "execute_result"
    }
   ],
   "source": [
    "# create a DataFrame of the features and coefficients\n",
    "svm_feat_imp = pd.DataFrame(zip(X_train_scale.columns,\n",
    "                                svm_gs.best_estimator_.coef_[0],\n",
    "                                np.abs(svm_gs.best_estimator_.coef_[0])),\n",
    "                            columns=['Feature', 'Coefficient',\n",
    "                                     'Absolute Coefficient'])\n",
    "\n",
    "# sort values by the absolute coefficient\n",
    "svm_feat_imp.sort_values(by=['Absolute Coefficient'],\n",
    "                         ascending=True, inplace=True)\n",
    "\n",
    "svm_feat_imp.tail(10)"
   ]
  },
  {
   "cell_type": "code",
   "execution_count": 30,
   "metadata": {
    "ExecuteTime": {
     "end_time": "2020-01-24T04:45:02.121058Z",
     "start_time": "2020-01-24T04:45:01.740418Z"
    },
    "scrolled": true
   },
   "outputs": [
    {
     "data": {
      "image/png": "[encoded data removed]",
      "text/plain": [
       "<Figure size 720x576 with 1 Axes>"
      ]
     },
     "metadata": {},
     "output_type": "display_data"
    }
   ],
   "source": [
    "plt.figure(figsize=(10, 8))\n",
    "plt.barh(svm_feat_imp['Feature'][-10:],\n",
    "         svm_feat_imp['Absolute Coefficient'][-10:],\n",
    "         align='center')\n",
    "sns.despine(left=False, bottom=False)\n",
    "plt.xlabel('Feature importance', fontsize=12)\n",
    "plt.ylabel('Feature', fontsize=13)\n",
    "plt.xticks(fontsize=13)\n",
    "plt.yticks(fontsize=13)\n",
    "plt.title(f'Feature importance in predicting Math scores \\n', fontsize=16);\n",
    "# plt.savefig('Images/math_feat_imp.png', bbox_inches='tight');"
   ]
  },
  {
   "cell_type": "markdown",
   "metadata": {
    "ExecuteTime": {
     "end_time": "2020-01-15T17:42:47.914450Z",
     "start_time": "2020-01-15T17:42:47.905622Z"
    }
   },
   "source": [
    "## Summary\n",
    "\n",
    "After running Multiple Linear Regression, Ridge Regression, SVR, and Random Forest Regressor, Random Forest Regressor resulted with the best score, an $R^2$ of 38.2%. $$R^2 = \\frac{Model Variance}{Total Variance}$$\n",
    "\n",
    "The following list shows the top 10 features in predicting a school's percentage of students receiving Level 3 or 4 on the Math assessment. Those marked with a <font color='red'>(-)</font> has a negative correlation with the percentage of students receiving Level 3 or 4: lower values of the following result in a higher percentage of Level 3 or 4 students. Those marked with a <font color='blue'>(+)</font> has a positive correlation with the percentage of students receiving Level 3 or 4: higher values of the following result in a higher percentage of Level 3 or 4 students.\n",
    "\n",
    "1. Trust <font color='red'>(-)</font>\n",
    "2. Effective school assessment <font color='blue'>(+)</font>\n",
    "3. Interesting and challenging curriculum <font color='blue'>(+)</font>\n",
    "4. Thoughtful teacher development and evaluation <font color='red'>(-)</font>\n",
    "5. Effective teaching and learning <font color='blue'>(+)</font>\n",
    "6. Collaborative teachers <font color='blue'>(+)</font>\n",
    "7. Strong family-community ties <font color='blue'>(+)</font>\n",
    "8. Effective school leadership <font color='red'>(-)</font>\n",
    "9. Identifying, tracking, and meeting goals <font color='blue'>(+)</font>\n",
    "10. Supportive environment <font color='blue'>(+)</font>"
   ]
  }
 ],
 "metadata": {
  "kernelspec": {
   "display_name": "Python 3",
   "language": "python",
   "name": "python3"
  },
  "language_info": {
   "codemirror_mode": {
    "name": "ipython",
    "version": 3
   },
   "file_extension": ".py",
   "mimetype": "text/x-python",
   "name": "python",
   "nbconvert_exporter": "python",
   "pygments_lexer": "ipython3",
   "version": "3.7.3"
  },
  "toc": {
   "base_numbering": 1,
   "nav_menu": {},
   "number_sections": true,
   "sideBar": true,
   "skip_h1_title": false,
   "title_cell": "Table of Contents",
   "title_sidebar": "Contents",
   "toc_cell": false,
   "toc_position": {},
   "toc_section_display": true,
   "toc_window_display": false
  }
 },
 "nbformat": 4,
 "nbformat_minor": 2
}
