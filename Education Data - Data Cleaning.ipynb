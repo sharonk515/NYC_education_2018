{
 "cells": [
  {
   "cell_type": "markdown",
   "metadata": {},
   "source": [
    "# Data Cleaning - NYC Department of Education Quality Review and Surveys"
   ]
  },
  {
   "cell_type": "markdown",
   "metadata": {},
   "source": [
    "**Import Packages**"
   ]
  },
  {
   "cell_type": "code",
   "execution_count": 1,
   "metadata": {
    "ExecuteTime": {
     "end_time": "2020-01-14T19:29:10.083277Z",
     "start_time": "2020-01-14T19:29:09.230363Z"
    }
   },
   "outputs": [],
   "source": [
    "import pandas as pd\n",
    "import numpy as np\n",
    "import scipy.stats as stats\n",
    "import seaborn as sns\n",
    "import matplotlib.pyplot as plt\n",
    "%matplotlib inline"
   ]
  },
  {
   "cell_type": "markdown",
   "metadata": {},
   "source": [
    "## (Classification) How does a school's environment affect its overall student achievement rating?\n",
    "\n",
    "Predict whether a school will not meet (1), approach (2), meet (3), or exceed (4) target\n",
    "\n",
    "### Read Data"
   ]
  },
  {
   "cell_type": "code",
   "execution_count": 2,
   "metadata": {
    "ExecuteTime": {
     "end_time": "2020-01-14T19:29:46.349860Z",
     "start_time": "2020-01-14T19:29:10.723040Z"
    }
   },
   "outputs": [],
   "source": [
    "#read data\n",
    "quality = pd.read_excel('Data/2018_school_quality.xlsx', header=1)\n",
    "teacher = pd.read_excel('Data/teacher.xlsx')"
   ]
  },
  {
   "cell_type": "code",
   "execution_count": 3,
   "metadata": {
    "ExecuteTime": {
     "end_time": "2020-01-14T19:24:14.869222Z",
     "start_time": "2020-01-14T19:24:14.860454Z"
    },
    "scrolled": true
   },
   "outputs": [
    {
     "data": {
      "text/plain": [
       "Index(['DBN', 'School Name', 'School Type', 'Enrollment',\n",
       "       'Rigorous Instruction Rating', 'Collaborative Teachers Rating',\n",
       "       'Supportive Environment Rating', 'Effective School Leadership Rating',\n",
       "       'Strong Family-Community Ties Rating', 'Trust Rating',\n",
       "       'Student Achievement Rating', 'Rigorous Instruction - Percent Positive',\n",
       "       'Collaborative Teachers - Percent Positive',\n",
       "       'Supportive Environment - Percent Positive',\n",
       "       'Effective School Leadership - Percent Positive',\n",
       "       'Strong Family-Community Ties - Percent Positive',\n",
       "       'Trust - Percent Positive',\n",
       "       'Quality Review - How interesting and challenging is the curriculum?',\n",
       "       'Quality Review - How effective is the teaching and learning?',\n",
       "       'Quality Review - How well does the school assess what students are learning?',\n",
       "       'Quality Review - How clearly are high expectations communicated to students and staff?',\n",
       "       'Quality Review - How well do teachers work with each other?',\n",
       "       'Quality Review - How safe and inclusive is the school while supporting social-emotional growth?',\n",
       "       'Quality Review - How well does the school allocate and manage resources?',\n",
       "       'Quality Review - How well does the school identify, track, and meet its goals?',\n",
       "       'Quality Review - How thoughtful is the school’s approach to teacher development and evaluation?',\n",
       "       'Quality Review - How well are school decisions evaluated and adjusted?',\n",
       "       'Quality Review - Dates of Review',\n",
       "       'Average Incoming ELA Proficiency (Based on 5th Grade)',\n",
       "       'Average Incoming Math Proficiency (Based on 5th Grade)',\n",
       "       'Percent English Language Learners',\n",
       "       'Percent Students with Disabilities', 'Percent Self-Contained',\n",
       "       'Economic Need Index', 'Percent in Temp Housing',\n",
       "       'Percent HRA Eligible', 'Percent Asian', 'Percent Black',\n",
       "       'Percent Hispanic', 'Percent White',\n",
       "       'Years of principal experience at this school',\n",
       "       'Percent of teachers with 3 or more years of experience',\n",
       "       'Student Attendance Rate', 'Percent of Students Chronically Absent',\n",
       "       'Teacher Attendance Rate'],\n",
       "      dtype='object')"
      ]
     },
     "execution_count": 3,
     "metadata": {},
     "output_type": "execute_result"
    }
   ],
   "source": [
    "quality.columns"
   ]
  },
  {
   "cell_type": "code",
   "execution_count": 3,
   "metadata": {
    "ExecuteTime": {
     "end_time": "2020-01-14T19:29:46.359123Z",
     "start_time": "2020-01-14T19:29:46.352150Z"
    }
   },
   "outputs": [],
   "source": [
    "# drop unnecessary columns from quality df\n",
    "quality.drop(columns=['School Type', 'Rigorous Instruction - Percent Positive',\n",
    "                      'Rigorous Instruction Rating', 'Collaborative Teachers Rating',\n",
    "                      'Effective School Leadership Rating',\n",
    "                      'Strong Family-Community Ties Rating', 'Trust Rating',\n",
    "                      'Collaborative Teachers - Percent Positive',\n",
    "                      'Supportive Environment - Percent Positive',\n",
    "                      'Effective School Leadership - Percent Positive',\n",
    "                      'Strong Family-Community Ties - Percent Positive',\n",
    "                      'Trust - Percent Positive', 'Quality Review - Dates of Review',\n",
    "                      'Average Incoming ELA Proficiency (Based on 5th Grade)',\n",
    "                      'Average Incoming Math Proficiency (Based on 5th Grade)'],\n",
    "             inplace=True)"
   ]
  },
  {
   "cell_type": "code",
   "execution_count": 4,
   "metadata": {
    "ExecuteTime": {
     "end_time": "2020-01-14T19:29:46.368519Z",
     "start_time": "2020-01-14T19:29:46.361936Z"
    }
   },
   "outputs": [],
   "source": [
    "quality.columns = ['DBN', 'School Name', 'Enrollment',\n",
    "                   'Supportive Environment Rating',\n",
    "                   'Student Achievement Rating',\n",
    "                   'Interesting and challenging curriculum',\n",
    "                   'Effective teaching and learning',\n",
    "                   'Effective school assessment',\n",
    "                   'Clear communication - high expectations',\n",
    "                   'Teacher collaboration',\n",
    "                   'Safety, inclusivity, social-emotional growth',\n",
    "                   'Resource allocation and management',\n",
    "                   'Identifying, tracking, and meeting goals',\n",
    "                   'Thoughtful teacher development and evaluation',\n",
    "                   'School decision evaluation and adjustment',\n",
    "                   'Percent English Language Learners',\n",
    "                   'Percent Students with Disabilities',\n",
    "                   'Percent Self-Contained', 'Economic Need Index',\n",
    "                   'Percent in Temp Housing', 'Percent HRA Eligible',\n",
    "                   'Percent Asian', 'Percent Black',\n",
    "                   'Percent Hispanic', 'Percent White',\n",
    "                   'Principal experience at this school',\n",
    "                   'Percent of teachers with 3+ years of experience',\n",
    "                   'Student Attendance Rate',\n",
    "                   'Percent of Students Chronically Absent',\n",
    "                   'Teacher Attendance Rate']"
   ]
  },
  {
   "cell_type": "code",
   "execution_count": 5,
   "metadata": {
    "ExecuteTime": {
     "end_time": "2020-01-14T19:29:46.404289Z",
     "start_time": "2020-01-14T19:29:46.371486Z"
    },
    "scrolled": true
   },
   "outputs": [
    {
     "data": {
      "text/html": [
       "<div>\n",
       "<style scoped>\n",
       "    .dataframe tbody tr th:only-of-type {\n",
       "        vertical-align: middle;\n",
       "    }\n",
       "\n",
       "    .dataframe tbody tr th {\n",
       "        vertical-align: top;\n",
       "    }\n",
       "\n",
       "    .dataframe thead th {\n",
       "        text-align: right;\n",
       "    }\n",
       "</style>\n",
       "<table border=\"1\" class=\"dataframe\">\n",
       "  <thead>\n",
       "    <tr style=\"text-align: right;\">\n",
       "      <th></th>\n",
       "      <th>DBN</th>\n",
       "      <th>School Name</th>\n",
       "      <th>Enrollment</th>\n",
       "      <th>Supportive Environment Rating</th>\n",
       "      <th>Student Achievement Rating</th>\n",
       "      <th>Interesting and challenging curriculum</th>\n",
       "      <th>Effective teaching and learning</th>\n",
       "      <th>Effective school assessment</th>\n",
       "      <th>Clear communication - high expectations</th>\n",
       "      <th>Teacher collaboration</th>\n",
       "      <th>...</th>\n",
       "      <th>Percent HRA Eligible</th>\n",
       "      <th>Percent Asian</th>\n",
       "      <th>Percent Black</th>\n",
       "      <th>Percent Hispanic</th>\n",
       "      <th>Percent White</th>\n",
       "      <th>Principal experience at this school</th>\n",
       "      <th>Percent of teachers with 3+ years of experience</th>\n",
       "      <th>Student Attendance Rate</th>\n",
       "      <th>Percent of Students Chronically Absent</th>\n",
       "      <th>Teacher Attendance Rate</th>\n",
       "    </tr>\n",
       "  </thead>\n",
       "  <tbody>\n",
       "    <tr>\n",
       "      <th>0</th>\n",
       "      <td>01M015</td>\n",
       "      <td>P.S. 015 Roberto Clemente</td>\n",
       "      <td>173</td>\n",
       "      <td>Exceeding Target</td>\n",
       "      <td>Exceeding Target</td>\n",
       "      <td>Well Developed</td>\n",
       "      <td>Proficient</td>\n",
       "      <td>Proficient</td>\n",
       "      <td>Proficient</td>\n",
       "      <td>Proficient</td>\n",
       "      <td>...</td>\n",
       "      <td>0.786</td>\n",
       "      <td>0.098</td>\n",
       "      <td>0.254</td>\n",
       "      <td>0.601</td>\n",
       "      <td>0.035</td>\n",
       "      <td>7.8</td>\n",
       "      <td>0.625</td>\n",
       "      <td>0.939</td>\n",
       "      <td>0.186</td>\n",
       "      <td>0.985</td>\n",
       "    </tr>\n",
       "    <tr>\n",
       "      <th>1</th>\n",
       "      <td>01M019</td>\n",
       "      <td>P.S. 019 Asher Levy</td>\n",
       "      <td>244</td>\n",
       "      <td>Meeting Target</td>\n",
       "      <td>Exceeding Target</td>\n",
       "      <td>Well Developed</td>\n",
       "      <td>Well Developed</td>\n",
       "      <td>Well Developed</td>\n",
       "      <td>Well Developed</td>\n",
       "      <td>Well Developed</td>\n",
       "      <td>...</td>\n",
       "      <td>0.549</td>\n",
       "      <td>0.094</td>\n",
       "      <td>0.197</td>\n",
       "      <td>0.631</td>\n",
       "      <td>0.066</td>\n",
       "      <td>8.8</td>\n",
       "      <td>0.762</td>\n",
       "      <td>0.914</td>\n",
       "      <td>0.353</td>\n",
       "      <td>0.968</td>\n",
       "    </tr>\n",
       "    <tr>\n",
       "      <th>2</th>\n",
       "      <td>01M020</td>\n",
       "      <td>P.S. 020 Anna Silver</td>\n",
       "      <td>463</td>\n",
       "      <td>Approaching Target</td>\n",
       "      <td>Approaching Target</td>\n",
       "      <td>Developing</td>\n",
       "      <td>Developing</td>\n",
       "      <td>Developing</td>\n",
       "      <td>Proficient</td>\n",
       "      <td>Developing</td>\n",
       "      <td>...</td>\n",
       "      <td>0.693</td>\n",
       "      <td>0.309</td>\n",
       "      <td>0.102</td>\n",
       "      <td>0.523</td>\n",
       "      <td>0.026</td>\n",
       "      <td>1.8</td>\n",
       "      <td>0.622</td>\n",
       "      <td>0.930</td>\n",
       "      <td>0.274</td>\n",
       "      <td>0.967</td>\n",
       "    </tr>\n",
       "    <tr>\n",
       "      <th>3</th>\n",
       "      <td>01M034</td>\n",
       "      <td>P.S. 034 Franklin D. Roosevelt</td>\n",
       "      <td>320</td>\n",
       "      <td>Approaching Target</td>\n",
       "      <td>Approaching Target</td>\n",
       "      <td>Developing</td>\n",
       "      <td>Developing</td>\n",
       "      <td>Developing</td>\n",
       "      <td>Proficient</td>\n",
       "      <td>Proficient</td>\n",
       "      <td>...</td>\n",
       "      <td>0.863</td>\n",
       "      <td>0.034</td>\n",
       "      <td>0.316</td>\n",
       "      <td>0.613</td>\n",
       "      <td>0.031</td>\n",
       "      <td>1.7</td>\n",
       "      <td>0.737</td>\n",
       "      <td>0.901</td>\n",
       "      <td>0.391</td>\n",
       "      <td>0.976</td>\n",
       "    </tr>\n",
       "    <tr>\n",
       "      <th>4</th>\n",
       "      <td>01M063</td>\n",
       "      <td>The STAR Academy - P.S.63</td>\n",
       "      <td>177</td>\n",
       "      <td>Meeting Target</td>\n",
       "      <td>Exceeding Target</td>\n",
       "      <td>Well Developed</td>\n",
       "      <td>Proficient</td>\n",
       "      <td>Well Developed</td>\n",
       "      <td>Proficient</td>\n",
       "      <td>Well Developed</td>\n",
       "      <td>...</td>\n",
       "      <td>0.638</td>\n",
       "      <td>0.028</td>\n",
       "      <td>0.175</td>\n",
       "      <td>0.650</td>\n",
       "      <td>0.107</td>\n",
       "      <td>10.9</td>\n",
       "      <td>0.474</td>\n",
       "      <td>0.927</td>\n",
       "      <td>0.261</td>\n",
       "      <td>0.980</td>\n",
       "    </tr>\n",
       "  </tbody>\n",
       "</table>\n",
       "<p>5 rows × 30 columns</p>\n",
       "</div>"
      ],
      "text/plain": [
       "      DBN                     School Name  Enrollment  \\\n",
       "0  01M015       P.S. 015 Roberto Clemente         173   \n",
       "1  01M019             P.S. 019 Asher Levy         244   \n",
       "2  01M020            P.S. 020 Anna Silver         463   \n",
       "3  01M034  P.S. 034 Franklin D. Roosevelt         320   \n",
       "4  01M063       The STAR Academy - P.S.63         177   \n",
       "\n",
       "  Supportive Environment Rating Student Achievement Rating  \\\n",
       "0              Exceeding Target           Exceeding Target   \n",
       "1                Meeting Target           Exceeding Target   \n",
       "2            Approaching Target         Approaching Target   \n",
       "3            Approaching Target         Approaching Target   \n",
       "4                Meeting Target           Exceeding Target   \n",
       "\n",
       "  Interesting and challenging curriculum Effective teaching and learning  \\\n",
       "0                         Well Developed                      Proficient   \n",
       "1                         Well Developed                  Well Developed   \n",
       "2                             Developing                      Developing   \n",
       "3                             Developing                      Developing   \n",
       "4                         Well Developed                      Proficient   \n",
       "\n",
       "  Effective school assessment Clear communication - high expectations  \\\n",
       "0                  Proficient                              Proficient   \n",
       "1              Well Developed                          Well Developed   \n",
       "2                  Developing                              Proficient   \n",
       "3                  Developing                              Proficient   \n",
       "4              Well Developed                              Proficient   \n",
       "\n",
       "  Teacher collaboration  ... Percent HRA Eligible Percent Asian Percent Black  \\\n",
       "0            Proficient  ...                0.786         0.098         0.254   \n",
       "1        Well Developed  ...                0.549         0.094         0.197   \n",
       "2            Developing  ...                0.693         0.309         0.102   \n",
       "3            Proficient  ...                0.863         0.034         0.316   \n",
       "4        Well Developed  ...                0.638         0.028         0.175   \n",
       "\n",
       "  Percent Hispanic Percent White  Principal experience at this school  \\\n",
       "0            0.601         0.035                                  7.8   \n",
       "1            0.631         0.066                                  8.8   \n",
       "2            0.523         0.026                                  1.8   \n",
       "3            0.613         0.031                                  1.7   \n",
       "4            0.650         0.107                                 10.9   \n",
       "\n",
       "   Percent of teachers with 3+ years of experience  Student Attendance Rate  \\\n",
       "0                                            0.625                    0.939   \n",
       "1                                            0.762                    0.914   \n",
       "2                                            0.622                    0.930   \n",
       "3                                            0.737                    0.901   \n",
       "4                                            0.474                    0.927   \n",
       "\n",
       "   Percent of Students Chronically Absent  Teacher Attendance Rate  \n",
       "0                                   0.186                    0.985  \n",
       "1                                   0.353                    0.968  \n",
       "2                                   0.274                    0.967  \n",
       "3                                   0.391                    0.976  \n",
       "4                                   0.261                    0.980  \n",
       "\n",
       "[5 rows x 30 columns]"
      ]
     },
     "execution_count": 5,
     "metadata": {},
     "output_type": "execute_result"
    }
   ],
   "source": [
    "quality.head()"
   ]
  },
  {
   "cell_type": "code",
   "execution_count": 7,
   "metadata": {
    "ExecuteTime": {
     "end_time": "2020-01-14T19:24:14.959411Z",
     "start_time": "2020-01-14T19:24:14.949770Z"
    }
   },
   "outputs": [
    {
     "data": {
      "text/plain": [
       "Index(['DBN', 'School Name', 'Total Parent \\nResponse Rate',\n",
       "       'Total Teacher Response Rate', 'Total Student Response Rate',\n",
       "       'Collaborative Teachers Score', 'Effective School Leadership Score',\n",
       "       'Rigorous Instruction Score', 'Supportive Environment Score',\n",
       "       'Strong Family-Community Ties Score', 'Trust Score'],\n",
       "      dtype='object')"
      ]
     },
     "execution_count": 7,
     "metadata": {},
     "output_type": "execute_result"
    }
   ],
   "source": [
    "teacher.columns"
   ]
  },
  {
   "cell_type": "code",
   "execution_count": 6,
   "metadata": {
    "ExecuteTime": {
     "end_time": "2020-01-14T19:29:46.413616Z",
     "start_time": "2020-01-14T19:29:46.406915Z"
    }
   },
   "outputs": [],
   "source": [
    "# drop unnecessary columns from teacher df\n",
    "teacher.drop(teacher.index[0],\n",
    "             inplace=True)\n",
    "teacher.drop(columns=['School Name', 'Total Parent \\nResponse Rate',\n",
    "                      'Total Teacher Response Rate',\n",
    "                      'Total Student Response Rate',\n",
    "                      'Supportive Environment Score'],\n",
    "             inplace=True)"
   ]
  },
  {
   "cell_type": "code",
   "execution_count": 7,
   "metadata": {
    "ExecuteTime": {
     "end_time": "2020-01-14T19:29:46.427147Z",
     "start_time": "2020-01-14T19:29:46.415871Z"
    },
    "scrolled": true
   },
   "outputs": [
    {
     "data": {
      "text/html": [
       "<div>\n",
       "<style scoped>\n",
       "    .dataframe tbody tr th:only-of-type {\n",
       "        vertical-align: middle;\n",
       "    }\n",
       "\n",
       "    .dataframe tbody tr th {\n",
       "        vertical-align: top;\n",
       "    }\n",
       "\n",
       "    .dataframe thead th {\n",
       "        text-align: right;\n",
       "    }\n",
       "</style>\n",
       "<table border=\"1\" class=\"dataframe\">\n",
       "  <thead>\n",
       "    <tr style=\"text-align: right;\">\n",
       "      <th></th>\n",
       "      <th>DBN</th>\n",
       "      <th>Collaborative Teachers Score</th>\n",
       "      <th>Effective School Leadership Score</th>\n",
       "      <th>Rigorous Instruction Score</th>\n",
       "      <th>Strong Family-Community Ties Score</th>\n",
       "      <th>Trust Score</th>\n",
       "    </tr>\n",
       "  </thead>\n",
       "  <tbody>\n",
       "    <tr>\n",
       "      <th>1</th>\n",
       "      <td>01M015</td>\n",
       "      <td>4.12</td>\n",
       "      <td>4.09</td>\n",
       "      <td>3.91</td>\n",
       "      <td>3.80</td>\n",
       "      <td>3.99</td>\n",
       "    </tr>\n",
       "    <tr>\n",
       "      <th>2</th>\n",
       "      <td>01M019</td>\n",
       "      <td>4.27</td>\n",
       "      <td>4.25</td>\n",
       "      <td>4.64</td>\n",
       "      <td>4.10</td>\n",
       "      <td>3.55</td>\n",
       "    </tr>\n",
       "    <tr>\n",
       "      <th>3</th>\n",
       "      <td>01M020</td>\n",
       "      <td>2.76</td>\n",
       "      <td>3.04</td>\n",
       "      <td>1.94</td>\n",
       "      <td>3.64</td>\n",
       "      <td>3.12</td>\n",
       "    </tr>\n",
       "    <tr>\n",
       "      <th>4</th>\n",
       "      <td>01M034</td>\n",
       "      <td>2.40</td>\n",
       "      <td>2.45</td>\n",
       "      <td>2.04</td>\n",
       "      <td>3.33</td>\n",
       "      <td>2.32</td>\n",
       "    </tr>\n",
       "    <tr>\n",
       "      <th>5</th>\n",
       "      <td>01M063</td>\n",
       "      <td>4.53</td>\n",
       "      <td>4.07</td>\n",
       "      <td>4.14</td>\n",
       "      <td>4.01</td>\n",
       "      <td>3.95</td>\n",
       "    </tr>\n",
       "  </tbody>\n",
       "</table>\n",
       "</div>"
      ],
      "text/plain": [
       "      DBN  Collaborative Teachers Score  Effective School Leadership Score  \\\n",
       "1  01M015                          4.12                               4.09   \n",
       "2  01M019                          4.27                               4.25   \n",
       "3  01M020                          2.76                               3.04   \n",
       "4  01M034                          2.40                               2.45   \n",
       "5  01M063                          4.53                               4.07   \n",
       "\n",
       "   Rigorous Instruction Score  Strong Family-Community Ties Score  Trust Score  \n",
       "1                        3.91                                3.80         3.99  \n",
       "2                        4.64                                4.10         3.55  \n",
       "3                        1.94                                3.64         3.12  \n",
       "4                        2.04                                3.33         2.32  \n",
       "5                        4.14                                4.01         3.95  "
      ]
     },
     "execution_count": 7,
     "metadata": {},
     "output_type": "execute_result"
    }
   ],
   "source": [
    "teacher.head()"
   ]
  },
  {
   "cell_type": "code",
   "execution_count": 8,
   "metadata": {
    "ExecuteTime": {
     "end_time": "2020-01-14T19:29:46.439108Z",
     "start_time": "2020-01-14T19:29:46.429500Z"
    }
   },
   "outputs": [],
   "source": [
    "# merge quality and teacher dfs\n",
    "nyc_schools = pd.merge(quality, teacher, on='DBN')"
   ]
  },
  {
   "cell_type": "code",
   "execution_count": 9,
   "metadata": {
    "ExecuteTime": {
     "end_time": "2020-01-14T19:29:46.468836Z",
     "start_time": "2020-01-14T19:29:46.442006Z"
    },
    "scrolled": true
   },
   "outputs": [
    {
     "data": {
      "text/html": [
       "<div>\n",
       "<style scoped>\n",
       "    .dataframe tbody tr th:only-of-type {\n",
       "        vertical-align: middle;\n",
       "    }\n",
       "\n",
       "    .dataframe tbody tr th {\n",
       "        vertical-align: top;\n",
       "    }\n",
       "\n",
       "    .dataframe thead th {\n",
       "        text-align: right;\n",
       "    }\n",
       "</style>\n",
       "<table border=\"1\" class=\"dataframe\">\n",
       "  <thead>\n",
       "    <tr style=\"text-align: right;\">\n",
       "      <th></th>\n",
       "      <th>DBN</th>\n",
       "      <th>School Name</th>\n",
       "      <th>Enrollment</th>\n",
       "      <th>Supportive Environment Rating</th>\n",
       "      <th>Student Achievement Rating</th>\n",
       "      <th>Interesting and challenging curriculum</th>\n",
       "      <th>Effective teaching and learning</th>\n",
       "      <th>Effective school assessment</th>\n",
       "      <th>Clear communication - high expectations</th>\n",
       "      <th>Teacher collaboration</th>\n",
       "      <th>...</th>\n",
       "      <th>Principal experience at this school</th>\n",
       "      <th>Percent of teachers with 3+ years of experience</th>\n",
       "      <th>Student Attendance Rate</th>\n",
       "      <th>Percent of Students Chronically Absent</th>\n",
       "      <th>Teacher Attendance Rate</th>\n",
       "      <th>Collaborative Teachers Score</th>\n",
       "      <th>Effective School Leadership Score</th>\n",
       "      <th>Rigorous Instruction Score</th>\n",
       "      <th>Strong Family-Community Ties Score</th>\n",
       "      <th>Trust Score</th>\n",
       "    </tr>\n",
       "  </thead>\n",
       "  <tbody>\n",
       "    <tr>\n",
       "      <th>0</th>\n",
       "      <td>01M015</td>\n",
       "      <td>P.S. 015 Roberto Clemente</td>\n",
       "      <td>173</td>\n",
       "      <td>Exceeding Target</td>\n",
       "      <td>Exceeding Target</td>\n",
       "      <td>Well Developed</td>\n",
       "      <td>Proficient</td>\n",
       "      <td>Proficient</td>\n",
       "      <td>Proficient</td>\n",
       "      <td>Proficient</td>\n",
       "      <td>...</td>\n",
       "      <td>7.8</td>\n",
       "      <td>0.625</td>\n",
       "      <td>0.939</td>\n",
       "      <td>0.186</td>\n",
       "      <td>0.985</td>\n",
       "      <td>4.12</td>\n",
       "      <td>4.09</td>\n",
       "      <td>3.91</td>\n",
       "      <td>3.80</td>\n",
       "      <td>3.99</td>\n",
       "    </tr>\n",
       "    <tr>\n",
       "      <th>1</th>\n",
       "      <td>01M019</td>\n",
       "      <td>P.S. 019 Asher Levy</td>\n",
       "      <td>244</td>\n",
       "      <td>Meeting Target</td>\n",
       "      <td>Exceeding Target</td>\n",
       "      <td>Well Developed</td>\n",
       "      <td>Well Developed</td>\n",
       "      <td>Well Developed</td>\n",
       "      <td>Well Developed</td>\n",
       "      <td>Well Developed</td>\n",
       "      <td>...</td>\n",
       "      <td>8.8</td>\n",
       "      <td>0.762</td>\n",
       "      <td>0.914</td>\n",
       "      <td>0.353</td>\n",
       "      <td>0.968</td>\n",
       "      <td>4.27</td>\n",
       "      <td>4.25</td>\n",
       "      <td>4.64</td>\n",
       "      <td>4.10</td>\n",
       "      <td>3.55</td>\n",
       "    </tr>\n",
       "    <tr>\n",
       "      <th>2</th>\n",
       "      <td>01M020</td>\n",
       "      <td>P.S. 020 Anna Silver</td>\n",
       "      <td>463</td>\n",
       "      <td>Approaching Target</td>\n",
       "      <td>Approaching Target</td>\n",
       "      <td>Developing</td>\n",
       "      <td>Developing</td>\n",
       "      <td>Developing</td>\n",
       "      <td>Proficient</td>\n",
       "      <td>Developing</td>\n",
       "      <td>...</td>\n",
       "      <td>1.8</td>\n",
       "      <td>0.622</td>\n",
       "      <td>0.930</td>\n",
       "      <td>0.274</td>\n",
       "      <td>0.967</td>\n",
       "      <td>2.76</td>\n",
       "      <td>3.04</td>\n",
       "      <td>1.94</td>\n",
       "      <td>3.64</td>\n",
       "      <td>3.12</td>\n",
       "    </tr>\n",
       "    <tr>\n",
       "      <th>3</th>\n",
       "      <td>01M034</td>\n",
       "      <td>P.S. 034 Franklin D. Roosevelt</td>\n",
       "      <td>320</td>\n",
       "      <td>Approaching Target</td>\n",
       "      <td>Approaching Target</td>\n",
       "      <td>Developing</td>\n",
       "      <td>Developing</td>\n",
       "      <td>Developing</td>\n",
       "      <td>Proficient</td>\n",
       "      <td>Proficient</td>\n",
       "      <td>...</td>\n",
       "      <td>1.7</td>\n",
       "      <td>0.737</td>\n",
       "      <td>0.901</td>\n",
       "      <td>0.391</td>\n",
       "      <td>0.976</td>\n",
       "      <td>2.40</td>\n",
       "      <td>2.45</td>\n",
       "      <td>2.04</td>\n",
       "      <td>3.33</td>\n",
       "      <td>2.32</td>\n",
       "    </tr>\n",
       "    <tr>\n",
       "      <th>4</th>\n",
       "      <td>01M063</td>\n",
       "      <td>The STAR Academy - P.S.63</td>\n",
       "      <td>177</td>\n",
       "      <td>Meeting Target</td>\n",
       "      <td>Exceeding Target</td>\n",
       "      <td>Well Developed</td>\n",
       "      <td>Proficient</td>\n",
       "      <td>Well Developed</td>\n",
       "      <td>Proficient</td>\n",
       "      <td>Well Developed</td>\n",
       "      <td>...</td>\n",
       "      <td>10.9</td>\n",
       "      <td>0.474</td>\n",
       "      <td>0.927</td>\n",
       "      <td>0.261</td>\n",
       "      <td>0.980</td>\n",
       "      <td>4.53</td>\n",
       "      <td>4.07</td>\n",
       "      <td>4.14</td>\n",
       "      <td>4.01</td>\n",
       "      <td>3.95</td>\n",
       "    </tr>\n",
       "  </tbody>\n",
       "</table>\n",
       "<p>5 rows × 35 columns</p>\n",
       "</div>"
      ],
      "text/plain": [
       "      DBN                     School Name  Enrollment  \\\n",
       "0  01M015       P.S. 015 Roberto Clemente         173   \n",
       "1  01M019             P.S. 019 Asher Levy         244   \n",
       "2  01M020            P.S. 020 Anna Silver         463   \n",
       "3  01M034  P.S. 034 Franklin D. Roosevelt         320   \n",
       "4  01M063       The STAR Academy - P.S.63         177   \n",
       "\n",
       "  Supportive Environment Rating Student Achievement Rating  \\\n",
       "0              Exceeding Target           Exceeding Target   \n",
       "1                Meeting Target           Exceeding Target   \n",
       "2            Approaching Target         Approaching Target   \n",
       "3            Approaching Target         Approaching Target   \n",
       "4                Meeting Target           Exceeding Target   \n",
       "\n",
       "  Interesting and challenging curriculum Effective teaching and learning  \\\n",
       "0                         Well Developed                      Proficient   \n",
       "1                         Well Developed                  Well Developed   \n",
       "2                             Developing                      Developing   \n",
       "3                             Developing                      Developing   \n",
       "4                         Well Developed                      Proficient   \n",
       "\n",
       "  Effective school assessment Clear communication - high expectations  \\\n",
       "0                  Proficient                              Proficient   \n",
       "1              Well Developed                          Well Developed   \n",
       "2                  Developing                              Proficient   \n",
       "3                  Developing                              Proficient   \n",
       "4              Well Developed                              Proficient   \n",
       "\n",
       "  Teacher collaboration  ... Principal experience at this school  \\\n",
       "0            Proficient  ...                                 7.8   \n",
       "1        Well Developed  ...                                 8.8   \n",
       "2            Developing  ...                                 1.8   \n",
       "3            Proficient  ...                                 1.7   \n",
       "4        Well Developed  ...                                10.9   \n",
       "\n",
       "  Percent of teachers with 3+ years of experience Student Attendance Rate  \\\n",
       "0                                           0.625                   0.939   \n",
       "1                                           0.762                   0.914   \n",
       "2                                           0.622                   0.930   \n",
       "3                                           0.737                   0.901   \n",
       "4                                           0.474                   0.927   \n",
       "\n",
       "  Percent of Students Chronically Absent Teacher Attendance Rate  \\\n",
       "0                                  0.186                   0.985   \n",
       "1                                  0.353                   0.968   \n",
       "2                                  0.274                   0.967   \n",
       "3                                  0.391                   0.976   \n",
       "4                                  0.261                   0.980   \n",
       "\n",
       "   Collaborative Teachers Score  Effective School Leadership Score  \\\n",
       "0                          4.12                               4.09   \n",
       "1                          4.27                               4.25   \n",
       "2                          2.76                               3.04   \n",
       "3                          2.40                               2.45   \n",
       "4                          4.53                               4.07   \n",
       "\n",
       "   Rigorous Instruction Score  Strong Family-Community Ties Score  Trust Score  \n",
       "0                        3.91                                3.80         3.99  \n",
       "1                        4.64                                4.10         3.55  \n",
       "2                        1.94                                3.64         3.12  \n",
       "3                        2.04                                3.33         2.32  \n",
       "4                        4.14                                4.01         3.95  \n",
       "\n",
       "[5 rows x 35 columns]"
      ]
     },
     "execution_count": 9,
     "metadata": {},
     "output_type": "execute_result"
    }
   ],
   "source": [
    "nyc_schools.head()"
   ]
  },
  {
   "cell_type": "markdown",
   "metadata": {},
   "source": [
    "### Data Transformation"
   ]
  },
  {
   "cell_type": "code",
   "execution_count": 12,
   "metadata": {
    "ExecuteTime": {
     "end_time": "2020-01-14T19:24:15.106033Z",
     "start_time": "2020-01-14T19:24:15.094838Z"
    }
   },
   "outputs": [
    {
     "data": {
      "text/plain": [
       "Proficient         578\n",
       "Well Developed     432\n",
       "Developing          90\n",
       "Under Developed      4\n",
       "Name: Teacher collaboration, dtype: int64"
      ]
     },
     "execution_count": 12,
     "metadata": {},
     "output_type": "execute_result"
    }
   ],
   "source": [
    "nyc_schools['Teacher collaboration'].value_counts()"
   ]
  },
  {
   "cell_type": "code",
   "execution_count": 13,
   "metadata": {
    "ExecuteTime": {
     "end_time": "2020-01-14T19:24:15.118702Z",
     "start_time": "2020-01-14T19:24:15.108697Z"
    }
   },
   "outputs": [
    {
     "data": {
      "text/plain": [
       "Meeting Target        698\n",
       "Approaching Target    279\n",
       "Exceeding Target      220\n",
       "Not Meeting Target     14\n",
       "Name: Supportive Environment Rating, dtype: int64"
      ]
     },
     "execution_count": 13,
     "metadata": {},
     "output_type": "execute_result"
    }
   ],
   "source": [
    "nyc_schools[\"Supportive Environment Rating\"].value_counts()"
   ]
  },
  {
   "cell_type": "code",
   "execution_count": 10,
   "metadata": {
    "ExecuteTime": {
     "end_time": "2020-01-14T19:29:46.482462Z",
     "start_time": "2020-01-14T19:29:46.472138Z"
    }
   },
   "outputs": [],
   "source": [
    "# convert target ratings into numbers\n",
    "for col in nyc_schools.columns[3:5]:\n",
    "    nyc_schools[col] = nyc_schools[col].map(lambda x:\n",
    "                                            1 if x == 'Not Meeting Target'\n",
    "                                            else (2 if x == 'Approaching Target' else\n",
    "                                                  (3 if x == 'Meeting Target' else 4)))"
   ]
  },
  {
   "cell_type": "code",
   "execution_count": 11,
   "metadata": {
    "ExecuteTime": {
     "end_time": "2020-01-14T19:29:46.490593Z",
     "start_time": "2020-01-14T19:29:46.485597Z"
    }
   },
   "outputs": [],
   "source": [
    "# function to convert categorical ratings into number ratings\n",
    "def rating_to_number(df, column):\n",
    "    df[column] = df[column].map(lambda x:\n",
    "                                1 if x == 'Under Developed'\n",
    "                                else (2 if x == 'Developing' else\n",
    "                                      (3 if x == 'Proficient' else 4)))\n",
    "    return df[column]"
   ]
  },
  {
   "cell_type": "code",
   "execution_count": 12,
   "metadata": {
    "ExecuteTime": {
     "end_time": "2020-01-14T19:29:46.509910Z",
     "start_time": "2020-01-14T19:29:46.493465Z"
    },
    "scrolled": true
   },
   "outputs": [],
   "source": [
    "# convert quality review ratings into numbers\n",
    "for column in nyc_schools.columns[5:15]:\n",
    "    rating_to_number(nyc_schools, column)"
   ]
  },
  {
   "cell_type": "code",
   "execution_count": 13,
   "metadata": {
    "ExecuteTime": {
     "end_time": "2020-01-14T19:29:46.518680Z",
     "start_time": "2020-01-14T19:29:46.512607Z"
    }
   },
   "outputs": [],
   "source": [
    "# create column for borough\n",
    "nyc_schools['Borough'] = nyc_schools['DBN'].map(lambda x:\n",
    "                                               'Manhattan' if x[2] == 'M'\n",
    "                                               else ('Bronx' if x[2] == 'X'\n",
    "                                                    else ('Brooklyn' if x[2] == 'K'\n",
    "                                                         else 'Queens' if x[2] == 'Q'\n",
    "                                                          else 'Staten Island')))"
   ]
  },
  {
   "cell_type": "code",
   "execution_count": 14,
   "metadata": {
    "ExecuteTime": {
     "end_time": "2020-01-14T19:29:46.530025Z",
     "start_time": "2020-01-14T19:29:46.521055Z"
    }
   },
   "outputs": [],
   "source": [
    "# create column for district\n",
    "nyc_schools['District'] = nyc_schools['DBN'].apply(lambda x:\n",
    "                                                   841 if x[:3] == '84M'\n",
    "                                                   else (842 if x[:3] == '84X'\n",
    "                                                         else (843 if x[:3] == '84K'\n",
    "                                                               else(844 if x[:3] == '84Q'\n",
    "                                                                    else (845 if x[:3] == '84R'\n",
    "                                                                          else x[:2])))))\n",
    "\n",
    "nyc_schools['District'] = pd.to_numeric(nyc_schools['District'])"
   ]
  },
  {
   "cell_type": "markdown",
   "metadata": {},
   "source": [
    "### Missing Values"
   ]
  },
  {
   "cell_type": "code",
   "execution_count": 19,
   "metadata": {
    "ExecuteTime": {
     "end_time": "2020-01-14T19:24:38.169085Z",
     "start_time": "2020-01-14T19:24:38.163956Z"
    },
    "scrolled": true
   },
   "outputs": [
    {
     "data": {
      "text/plain": [
       "Index(['DBN', 'School Name', 'Enrollment', 'Supportive Environment Rating',\n",
       "       'Student Achievement Rating', 'Interesting and challenging curriculum',\n",
       "       'Effective teaching and learning', 'Effective school assessment',\n",
       "       'Clear communication - high expectations', 'Teacher collaboration',\n",
       "       'Safety, inclusivity, social-emotional growth',\n",
       "       'Resource allocation and management',\n",
       "       'Identifying, tracking, and meeting goals',\n",
       "       'Thoughtful teacher development and evaluation',\n",
       "       'School decision evaluation and adjustment',\n",
       "       'Percent English Language Learners',\n",
       "       'Percent Students with Disabilities', 'Percent Self-Contained',\n",
       "       'Economic Need Index', 'Percent in Temp Housing',\n",
       "       'Percent HRA Eligible', 'Percent Asian', 'Percent Black',\n",
       "       'Percent Hispanic', 'Percent White',\n",
       "       'Principal experience at this school',\n",
       "       'Percent of teachers with 3+ years of experience',\n",
       "       'Student Attendance Rate', 'Percent of Students Chronically Absent',\n",
       "       'Teacher Attendance Rate', 'Collaborative Teachers Score',\n",
       "       'Effective School Leadership Score', 'Rigorous Instruction Score',\n",
       "       'Strong Family-Community Ties Score', 'Trust Score', 'Borough',\n",
       "       'District'],\n",
       "      dtype='object')"
      ]
     },
     "execution_count": 19,
     "metadata": {},
     "output_type": "execute_result"
    }
   ],
   "source": [
    "nyc_schools.columns"
   ]
  },
  {
   "cell_type": "code",
   "execution_count": 20,
   "metadata": {
    "ExecuteTime": {
     "end_time": "2020-01-14T19:24:39.232271Z",
     "start_time": "2020-01-14T19:24:39.216898Z"
    },
    "scrolled": true
   },
   "outputs": [
    {
     "name": "stdout",
     "output_type": "stream",
     "text": [
      "<class 'pandas.core.frame.DataFrame'>\n",
      "Int64Index: 1276 entries, 0 to 1275\n",
      "Data columns (total 37 columns):\n",
      "DBN                                                1276 non-null object\n",
      "School Name                                        1276 non-null object\n",
      "Enrollment                                         1276 non-null int64\n",
      "Supportive Environment Rating                      1276 non-null int64\n",
      "Student Achievement Rating                         1276 non-null int64\n",
      "Interesting and challenging curriculum             1276 non-null int64\n",
      "Effective teaching and learning                    1276 non-null int64\n",
      "Effective school assessment                        1276 non-null int64\n",
      "Clear communication - high expectations            1276 non-null int64\n",
      "Teacher collaboration                              1276 non-null int64\n",
      "Safety, inclusivity, social-emotional growth       1276 non-null int64\n",
      "Resource allocation and management                 1276 non-null int64\n",
      "Identifying, tracking, and meeting goals           1276 non-null int64\n",
      "Thoughtful teacher development and evaluation      1276 non-null int64\n",
      "School decision evaluation and adjustment          1276 non-null int64\n",
      "Percent English Language Learners                  1276 non-null float64\n",
      "Percent Students with Disabilities                 1276 non-null float64\n",
      "Percent Self-Contained                             1276 non-null float64\n",
      "Economic Need Index                                1276 non-null float64\n",
      "Percent in Temp Housing                            1276 non-null float64\n",
      "Percent HRA Eligible                               1276 non-null float64\n",
      "Percent Asian                                      1276 non-null float64\n",
      "Percent Black                                      1276 non-null float64\n",
      "Percent Hispanic                                   1276 non-null float64\n",
      "Percent White                                      1276 non-null float64\n",
      "Principal experience at this school                1099 non-null float64\n",
      "Percent of teachers with 3+ years of experience    1107 non-null float64\n",
      "Student Attendance Rate                            1250 non-null float64\n",
      "Percent of Students Chronically Absent             1246 non-null float64\n",
      "Teacher Attendance Rate                            1107 non-null float64\n",
      "Collaborative Teachers Score                       1069 non-null float64\n",
      "Effective School Leadership Score                  1069 non-null float64\n",
      "Rigorous Instruction Score                         1068 non-null float64\n",
      "Strong Family-Community Ties Score                 1067 non-null float64\n",
      "Trust Score                                        1216 non-null float64\n",
      "Borough                                            1276 non-null object\n",
      "District                                           1276 non-null object\n",
      "dtypes: float64(20), int64(13), object(4)\n",
      "memory usage: 378.8+ KB\n"
     ]
    }
   ],
   "source": [
    "nyc_schools.info()"
   ]
  },
  {
   "cell_type": "code",
   "execution_count": 15,
   "metadata": {
    "ExecuteTime": {
     "end_time": "2020-01-14T19:29:46.567515Z",
     "start_time": "2020-01-14T19:29:46.532312Z"
    },
    "scrolled": true
   },
   "outputs": [
    {
     "name": "stdout",
     "output_type": "stream",
     "text": [
      "Principal experience at this school: 13.87%\n",
      "Percent of teachers with 3+ years of experience: 13.24%\n",
      "Student Attendance Rate: 2.04%\n",
      "Percent of Students Chronically Absent: 2.35%\n",
      "Teacher Attendance Rate: 13.24%\n",
      "Collaborative Teachers Score: 16.22%\n",
      "Effective School Leadership Score: 16.22%\n",
      "Rigorous Instruction Score: 16.3%\n",
      "Strong Family-Community Ties Score: 16.38%\n",
      "Trust Score: 4.7%\n"
     ]
    }
   ],
   "source": [
    "# percent of missing values for each column\n",
    "for col in nyc_schools.columns:\n",
    "    if nyc_schools[col].isna().any() == True:\n",
    "        per_missing = len(nyc_schools.loc[nyc_schools[col].isna()\n",
    "                                          == True]\n",
    "                          )/len(nyc_schools) * 100\n",
    "        print(f'{col}: {round(per_missing,2)}%')"
   ]
  },
  {
   "cell_type": "code",
   "execution_count": 16,
   "metadata": {
    "ExecuteTime": {
     "end_time": "2020-01-14T19:29:46.598004Z",
     "start_time": "2020-01-14T19:29:46.571927Z"
    }
   },
   "outputs": [],
   "source": [
    "# replace missing values with median\n",
    "for col in nyc_schools.columns:\n",
    "    if nyc_schools[col].isna().any() == True:\n",
    "        nyc_schools[col].fillna(nyc_schools[col].median(),\n",
    "                                inplace=True)"
   ]
  },
  {
   "cell_type": "code",
   "execution_count": 17,
   "metadata": {
    "ExecuteTime": {
     "end_time": "2020-01-14T19:29:46.664675Z",
     "start_time": "2020-01-14T19:29:46.601232Z"
    }
   },
   "outputs": [],
   "source": [
    "nyc_schools.to_csv('Data/nyc_schools.csv', index=False)"
   ]
  },
  {
   "cell_type": "markdown",
   "metadata": {},
   "source": [
    "## (Regression) How does a school's environment affect its students' ELA Assessment scores?\n",
    "\n",
    "Predict percentage of students who will receive 3+ on the ELA assessment"
   ]
  },
  {
   "cell_type": "code",
   "execution_count": 18,
   "metadata": {
    "ExecuteTime": {
     "end_time": "2020-01-14T19:29:50.628997Z",
     "start_time": "2020-01-14T19:29:50.615120Z"
    }
   },
   "outputs": [],
   "source": [
    "nyc_schools = pd.read_csv('Data/nyc_schools.csv')"
   ]
  },
  {
   "cell_type": "code",
   "execution_count": 19,
   "metadata": {
    "ExecuteTime": {
     "end_time": "2020-01-14T19:29:52.740498Z",
     "start_time": "2020-01-14T19:29:51.751503Z"
    }
   },
   "outputs": [],
   "source": [
    "ela = pd.read_excel(\"Data/school-ela-results-2018.xlsx\",\n",
    "                    header=None)"
   ]
  },
  {
   "cell_type": "code",
   "execution_count": 20,
   "metadata": {
    "ExecuteTime": {
     "end_time": "2020-01-14T19:29:53.638049Z",
     "start_time": "2020-01-14T19:29:53.630012Z"
    }
   },
   "outputs": [],
   "source": [
    "# columns to keep from ela df\n",
    "ela = ela.loc[ela[3] == \"All Grades\"]\n",
    "ela = ela.drop(columns=[0, 2, 3, 4, 5, 7, 8, 10, 12, 14, 16])\n",
    "ela.columns = [\"DBN\", \"Number Tested\", \"Level 1 %\", \"Level 2 %\",\n",
    "               \"Level 3 %\", \"Level 4 %\", \"Level 3+ %\"]"
   ]
  },
  {
   "cell_type": "code",
   "execution_count": 21,
   "metadata": {
    "ExecuteTime": {
     "end_time": "2020-01-14T19:29:54.389967Z",
     "start_time": "2020-01-14T19:29:54.379638Z"
    }
   },
   "outputs": [],
   "source": [
    "# merge df with survey results and df with ela assessment scores\n",
    "nyc_schools_ela = pd.merge(nyc_schools.drop('Student Achievement Rating',\n",
    "                                             axis=1),\n",
    "                            ela, on=\"DBN\")"
   ]
  },
  {
   "cell_type": "code",
   "execution_count": 22,
   "metadata": {
    "ExecuteTime": {
     "end_time": "2020-01-14T19:29:55.061083Z",
     "start_time": "2020-01-14T19:29:55.039177Z"
    },
    "scrolled": true
   },
   "outputs": [
    {
     "data": {
      "text/html": [
       "<div>\n",
       "<style scoped>\n",
       "    .dataframe tbody tr th:only-of-type {\n",
       "        vertical-align: middle;\n",
       "    }\n",
       "\n",
       "    .dataframe tbody tr th {\n",
       "        vertical-align: top;\n",
       "    }\n",
       "\n",
       "    .dataframe thead th {\n",
       "        text-align: right;\n",
       "    }\n",
       "</style>\n",
       "<table border=\"1\" class=\"dataframe\">\n",
       "  <thead>\n",
       "    <tr style=\"text-align: right;\">\n",
       "      <th></th>\n",
       "      <th>DBN</th>\n",
       "      <th>School Name</th>\n",
       "      <th>Enrollment</th>\n",
       "      <th>Supportive Environment Rating</th>\n",
       "      <th>Interesting and challenging curriculum</th>\n",
       "      <th>Effective teaching and learning</th>\n",
       "      <th>Effective school assessment</th>\n",
       "      <th>Clear communication - high expectations</th>\n",
       "      <th>Teacher collaboration</th>\n",
       "      <th>Safety, inclusivity, social-emotional growth</th>\n",
       "      <th>...</th>\n",
       "      <th>Strong Family-Community Ties Score</th>\n",
       "      <th>Trust Score</th>\n",
       "      <th>Borough</th>\n",
       "      <th>District</th>\n",
       "      <th>Number Tested</th>\n",
       "      <th>Level 1 %</th>\n",
       "      <th>Level 2 %</th>\n",
       "      <th>Level 3 %</th>\n",
       "      <th>Level 4 %</th>\n",
       "      <th>Level 3+ %</th>\n",
       "    </tr>\n",
       "  </thead>\n",
       "  <tbody>\n",
       "    <tr>\n",
       "      <th>0</th>\n",
       "      <td>01M015</td>\n",
       "      <td>P.S. 015 Roberto Clemente</td>\n",
       "      <td>173</td>\n",
       "      <td>4</td>\n",
       "      <td>4</td>\n",
       "      <td>3</td>\n",
       "      <td>3</td>\n",
       "      <td>3</td>\n",
       "      <td>3</td>\n",
       "      <td>4</td>\n",
       "      <td>...</td>\n",
       "      <td>3.80</td>\n",
       "      <td>3.99</td>\n",
       "      <td>Manhattan</td>\n",
       "      <td>1</td>\n",
       "      <td>67</td>\n",
       "      <td>7.46269</td>\n",
       "      <td>25.3731</td>\n",
       "      <td>46.2687</td>\n",
       "      <td>20.8955</td>\n",
       "      <td>67.1642</td>\n",
       "    </tr>\n",
       "    <tr>\n",
       "      <th>1</th>\n",
       "      <td>01M019</td>\n",
       "      <td>P.S. 019 Asher Levy</td>\n",
       "      <td>244</td>\n",
       "      <td>3</td>\n",
       "      <td>4</td>\n",
       "      <td>4</td>\n",
       "      <td>4</td>\n",
       "      <td>4</td>\n",
       "      <td>4</td>\n",
       "      <td>4</td>\n",
       "      <td>...</td>\n",
       "      <td>4.10</td>\n",
       "      <td>3.55</td>\n",
       "      <td>Manhattan</td>\n",
       "      <td>1</td>\n",
       "      <td>92</td>\n",
       "      <td>11.9565</td>\n",
       "      <td>32.6087</td>\n",
       "      <td>39.1304</td>\n",
       "      <td>16.3043</td>\n",
       "      <td>55.4348</td>\n",
       "    </tr>\n",
       "    <tr>\n",
       "      <th>2</th>\n",
       "      <td>01M020</td>\n",
       "      <td>P.S. 020 Anna Silver</td>\n",
       "      <td>463</td>\n",
       "      <td>2</td>\n",
       "      <td>2</td>\n",
       "      <td>2</td>\n",
       "      <td>2</td>\n",
       "      <td>3</td>\n",
       "      <td>2</td>\n",
       "      <td>3</td>\n",
       "      <td>...</td>\n",
       "      <td>3.64</td>\n",
       "      <td>3.12</td>\n",
       "      <td>Manhattan</td>\n",
       "      <td>1</td>\n",
       "      <td>209</td>\n",
       "      <td>30.1435</td>\n",
       "      <td>30.1435</td>\n",
       "      <td>28.2297</td>\n",
       "      <td>11.4833</td>\n",
       "      <td>39.7129</td>\n",
       "    </tr>\n",
       "    <tr>\n",
       "      <th>3</th>\n",
       "      <td>01M034</td>\n",
       "      <td>P.S. 034 Franklin D. Roosevelt</td>\n",
       "      <td>320</td>\n",
       "      <td>2</td>\n",
       "      <td>2</td>\n",
       "      <td>2</td>\n",
       "      <td>2</td>\n",
       "      <td>3</td>\n",
       "      <td>3</td>\n",
       "      <td>2</td>\n",
       "      <td>...</td>\n",
       "      <td>3.33</td>\n",
       "      <td>2.32</td>\n",
       "      <td>Manhattan</td>\n",
       "      <td>1</td>\n",
       "      <td>214</td>\n",
       "      <td>33.6449</td>\n",
       "      <td>39.7196</td>\n",
       "      <td>18.2243</td>\n",
       "      <td>8.41121</td>\n",
       "      <td>26.6355</td>\n",
       "    </tr>\n",
       "    <tr>\n",
       "      <th>4</th>\n",
       "      <td>01M063</td>\n",
       "      <td>The STAR Academy - P.S.63</td>\n",
       "      <td>177</td>\n",
       "      <td>3</td>\n",
       "      <td>4</td>\n",
       "      <td>3</td>\n",
       "      <td>4</td>\n",
       "      <td>3</td>\n",
       "      <td>4</td>\n",
       "      <td>4</td>\n",
       "      <td>...</td>\n",
       "      <td>4.01</td>\n",
       "      <td>3.95</td>\n",
       "      <td>Manhattan</td>\n",
       "      <td>1</td>\n",
       "      <td>64</td>\n",
       "      <td>6.25</td>\n",
       "      <td>35.9375</td>\n",
       "      <td>42.1875</td>\n",
       "      <td>15.625</td>\n",
       "      <td>57.8125</td>\n",
       "    </tr>\n",
       "  </tbody>\n",
       "</table>\n",
       "<p>5 rows × 42 columns</p>\n",
       "</div>"
      ],
      "text/plain": [
       "      DBN                     School Name  Enrollment  \\\n",
       "0  01M015       P.S. 015 Roberto Clemente         173   \n",
       "1  01M019             P.S. 019 Asher Levy         244   \n",
       "2  01M020            P.S. 020 Anna Silver         463   \n",
       "3  01M034  P.S. 034 Franklin D. Roosevelt         320   \n",
       "4  01M063       The STAR Academy - P.S.63         177   \n",
       "\n",
       "   Supportive Environment Rating  Interesting and challenging curriculum  \\\n",
       "0                              4                                       4   \n",
       "1                              3                                       4   \n",
       "2                              2                                       2   \n",
       "3                              2                                       2   \n",
       "4                              3                                       4   \n",
       "\n",
       "   Effective teaching and learning  Effective school assessment  \\\n",
       "0                                3                            3   \n",
       "1                                4                            4   \n",
       "2                                2                            2   \n",
       "3                                2                            2   \n",
       "4                                3                            4   \n",
       "\n",
       "   Clear communication - high expectations  Teacher collaboration  \\\n",
       "0                                        3                      3   \n",
       "1                                        4                      4   \n",
       "2                                        3                      2   \n",
       "3                                        3                      3   \n",
       "4                                        3                      4   \n",
       "\n",
       "   Safety, inclusivity, social-emotional growth  ...  \\\n",
       "0                                             4  ...   \n",
       "1                                             4  ...   \n",
       "2                                             3  ...   \n",
       "3                                             2  ...   \n",
       "4                                             4  ...   \n",
       "\n",
       "   Strong Family-Community Ties Score  Trust Score    Borough  District  \\\n",
       "0                                3.80         3.99  Manhattan         1   \n",
       "1                                4.10         3.55  Manhattan         1   \n",
       "2                                3.64         3.12  Manhattan         1   \n",
       "3                                3.33         2.32  Manhattan         1   \n",
       "4                                4.01         3.95  Manhattan         1   \n",
       "\n",
       "   Number Tested  Level 1 %  Level 2 %  Level 3 %  Level 4 %  Level 3+ %  \n",
       "0             67    7.46269    25.3731    46.2687    20.8955     67.1642  \n",
       "1             92    11.9565    32.6087    39.1304    16.3043     55.4348  \n",
       "2            209    30.1435    30.1435    28.2297    11.4833     39.7129  \n",
       "3            214    33.6449    39.7196    18.2243    8.41121     26.6355  \n",
       "4             64       6.25    35.9375    42.1875     15.625     57.8125  \n",
       "\n",
       "[5 rows x 42 columns]"
      ]
     },
     "execution_count": 22,
     "metadata": {},
     "output_type": "execute_result"
    }
   ],
   "source": [
    "nyc_schools_ela.head()"
   ]
  },
  {
   "cell_type": "code",
   "execution_count": 23,
   "metadata": {
    "ExecuteTime": {
     "end_time": "2020-01-14T19:29:59.958412Z",
     "start_time": "2020-01-14T19:29:59.824104Z"
    }
   },
   "outputs": [],
   "source": [
    "nyc_schools_ela['% Tested'] = nyc_schools_ela['Number Tested'] / nyc_schools_ela['Enrollment']\n",
    "nyc_schools_ela.drop(['Enrollment', 'Number Tested'], axis=1, inplace=True)"
   ]
  },
  {
   "cell_type": "code",
   "execution_count": 24,
   "metadata": {
    "ExecuteTime": {
     "end_time": "2020-01-14T19:30:00.629013Z",
     "start_time": "2020-01-14T19:30:00.573265Z"
    }
   },
   "outputs": [],
   "source": [
    "nyc_schools_ela.to_csv('Data/nyc_schools_ela.csv', index=False)"
   ]
  },
  {
   "cell_type": "markdown",
   "metadata": {},
   "source": [
    "## (Regression) How does a school's environment affect its students' Math Assessment scores?\n",
    "\n",
    "Predict the percentage of students who will receive a 3+ on the math assessment"
   ]
  },
  {
   "cell_type": "code",
   "execution_count": 25,
   "metadata": {
    "ExecuteTime": {
     "end_time": "2020-01-14T19:30:02.818262Z",
     "start_time": "2020-01-14T19:30:01.928704Z"
    }
   },
   "outputs": [],
   "source": [
    "math = pd.read_excel(\"Data/school-math-results-2018.xlsx\",\n",
    "                     header=None)"
   ]
  },
  {
   "cell_type": "code",
   "execution_count": 26,
   "metadata": {
    "ExecuteTime": {
     "end_time": "2020-01-14T19:30:02.876259Z",
     "start_time": "2020-01-14T19:30:02.820369Z"
    }
   },
   "outputs": [],
   "source": [
    "# columns to keep from math df\n",
    "math = math.loc[math[3]==\"All Grades\"]\n",
    "math = math.drop(columns=[0, 2, 3, 4, 5, 7, 8, 10, 12, 14, 16])\n",
    "math.columns = [\"DBN\", \"Number Tested\", \"Level 1 %\", \"Level 2 %\",\n",
    "                \"Level 3 %\", \"Level 4 %\", \"Level 3+ %\"]"
   ]
  },
  {
   "cell_type": "code",
   "execution_count": 27,
   "metadata": {
    "ExecuteTime": {
     "end_time": "2020-01-14T19:30:03.347456Z",
     "start_time": "2020-01-14T19:30:03.336526Z"
    }
   },
   "outputs": [],
   "source": [
    "# merge df with survey results and df with ela assessment scores\n",
    "nyc_schools_math = pd.merge(nyc_schools.drop('Student Achievement Rating',\n",
    "                                             axis=1),\n",
    "                            math, on=\"DBN\")"
   ]
  },
  {
   "cell_type": "code",
   "execution_count": 28,
   "metadata": {
    "ExecuteTime": {
     "end_time": "2020-01-14T19:30:04.232210Z",
     "start_time": "2020-01-14T19:30:04.212732Z"
    },
    "scrolled": true
   },
   "outputs": [
    {
     "data": {
      "text/html": [
       "<div>\n",
       "<style scoped>\n",
       "    .dataframe tbody tr th:only-of-type {\n",
       "        vertical-align: middle;\n",
       "    }\n",
       "\n",
       "    .dataframe tbody tr th {\n",
       "        vertical-align: top;\n",
       "    }\n",
       "\n",
       "    .dataframe thead th {\n",
       "        text-align: right;\n",
       "    }\n",
       "</style>\n",
       "<table border=\"1\" class=\"dataframe\">\n",
       "  <thead>\n",
       "    <tr style=\"text-align: right;\">\n",
       "      <th></th>\n",
       "      <th>DBN</th>\n",
       "      <th>School Name</th>\n",
       "      <th>Enrollment</th>\n",
       "      <th>Supportive Environment Rating</th>\n",
       "      <th>Interesting and challenging curriculum</th>\n",
       "      <th>Effective teaching and learning</th>\n",
       "      <th>Effective school assessment</th>\n",
       "      <th>Clear communication - high expectations</th>\n",
       "      <th>Teacher collaboration</th>\n",
       "      <th>Safety, inclusivity, social-emotional growth</th>\n",
       "      <th>...</th>\n",
       "      <th>Strong Family-Community Ties Score</th>\n",
       "      <th>Trust Score</th>\n",
       "      <th>Borough</th>\n",
       "      <th>District</th>\n",
       "      <th>Number Tested</th>\n",
       "      <th>Level 1 %</th>\n",
       "      <th>Level 2 %</th>\n",
       "      <th>Level 3 %</th>\n",
       "      <th>Level 4 %</th>\n",
       "      <th>Level 3+ %</th>\n",
       "    </tr>\n",
       "  </thead>\n",
       "  <tbody>\n",
       "    <tr>\n",
       "      <th>0</th>\n",
       "      <td>01M015</td>\n",
       "      <td>P.S. 015 Roberto Clemente</td>\n",
       "      <td>173</td>\n",
       "      <td>4</td>\n",
       "      <td>4</td>\n",
       "      <td>3</td>\n",
       "      <td>3</td>\n",
       "      <td>3</td>\n",
       "      <td>3</td>\n",
       "      <td>4</td>\n",
       "      <td>...</td>\n",
       "      <td>3.80</td>\n",
       "      <td>3.99</td>\n",
       "      <td>Manhattan</td>\n",
       "      <td>1</td>\n",
       "      <td>67</td>\n",
       "      <td>11.9403</td>\n",
       "      <td>29.8507</td>\n",
       "      <td>32.8358</td>\n",
       "      <td>25.3731</td>\n",
       "      <td>58.209</td>\n",
       "    </tr>\n",
       "    <tr>\n",
       "      <th>1</th>\n",
       "      <td>01M019</td>\n",
       "      <td>P.S. 019 Asher Levy</td>\n",
       "      <td>244</td>\n",
       "      <td>3</td>\n",
       "      <td>4</td>\n",
       "      <td>4</td>\n",
       "      <td>4</td>\n",
       "      <td>4</td>\n",
       "      <td>4</td>\n",
       "      <td>4</td>\n",
       "      <td>...</td>\n",
       "      <td>4.10</td>\n",
       "      <td>3.55</td>\n",
       "      <td>Manhattan</td>\n",
       "      <td>1</td>\n",
       "      <td>89</td>\n",
       "      <td>23.5955</td>\n",
       "      <td>17.9775</td>\n",
       "      <td>29.2135</td>\n",
       "      <td>29.2135</td>\n",
       "      <td>58.427</td>\n",
       "    </tr>\n",
       "    <tr>\n",
       "      <th>2</th>\n",
       "      <td>01M020</td>\n",
       "      <td>P.S. 020 Anna Silver</td>\n",
       "      <td>463</td>\n",
       "      <td>2</td>\n",
       "      <td>2</td>\n",
       "      <td>2</td>\n",
       "      <td>2</td>\n",
       "      <td>3</td>\n",
       "      <td>2</td>\n",
       "      <td>3</td>\n",
       "      <td>...</td>\n",
       "      <td>3.64</td>\n",
       "      <td>3.12</td>\n",
       "      <td>Manhattan</td>\n",
       "      <td>1</td>\n",
       "      <td>212</td>\n",
       "      <td>41.5094</td>\n",
       "      <td>23.1132</td>\n",
       "      <td>17.9245</td>\n",
       "      <td>17.4528</td>\n",
       "      <td>35.3774</td>\n",
       "    </tr>\n",
       "    <tr>\n",
       "      <th>3</th>\n",
       "      <td>01M034</td>\n",
       "      <td>P.S. 034 Franklin D. Roosevelt</td>\n",
       "      <td>320</td>\n",
       "      <td>2</td>\n",
       "      <td>2</td>\n",
       "      <td>2</td>\n",
       "      <td>2</td>\n",
       "      <td>3</td>\n",
       "      <td>3</td>\n",
       "      <td>2</td>\n",
       "      <td>...</td>\n",
       "      <td>3.33</td>\n",
       "      <td>2.32</td>\n",
       "      <td>Manhattan</td>\n",
       "      <td>1</td>\n",
       "      <td>221</td>\n",
       "      <td>54.7511</td>\n",
       "      <td>29.4118</td>\n",
       "      <td>10.8597</td>\n",
       "      <td>4.97738</td>\n",
       "      <td>15.8371</td>\n",
       "    </tr>\n",
       "    <tr>\n",
       "      <th>4</th>\n",
       "      <td>01M063</td>\n",
       "      <td>The STAR Academy - P.S.63</td>\n",
       "      <td>177</td>\n",
       "      <td>3</td>\n",
       "      <td>4</td>\n",
       "      <td>3</td>\n",
       "      <td>4</td>\n",
       "      <td>3</td>\n",
       "      <td>4</td>\n",
       "      <td>4</td>\n",
       "      <td>...</td>\n",
       "      <td>4.01</td>\n",
       "      <td>3.95</td>\n",
       "      <td>Manhattan</td>\n",
       "      <td>1</td>\n",
       "      <td>64</td>\n",
       "      <td>18.75</td>\n",
       "      <td>23.4375</td>\n",
       "      <td>37.5</td>\n",
       "      <td>20.3125</td>\n",
       "      <td>57.8125</td>\n",
       "    </tr>\n",
       "  </tbody>\n",
       "</table>\n",
       "<p>5 rows × 42 columns</p>\n",
       "</div>"
      ],
      "text/plain": [
       "      DBN                     School Name  Enrollment  \\\n",
       "0  01M015       P.S. 015 Roberto Clemente         173   \n",
       "1  01M019             P.S. 019 Asher Levy         244   \n",
       "2  01M020            P.S. 020 Anna Silver         463   \n",
       "3  01M034  P.S. 034 Franklin D. Roosevelt         320   \n",
       "4  01M063       The STAR Academy - P.S.63         177   \n",
       "\n",
       "   Supportive Environment Rating  Interesting and challenging curriculum  \\\n",
       "0                              4                                       4   \n",
       "1                              3                                       4   \n",
       "2                              2                                       2   \n",
       "3                              2                                       2   \n",
       "4                              3                                       4   \n",
       "\n",
       "   Effective teaching and learning  Effective school assessment  \\\n",
       "0                                3                            3   \n",
       "1                                4                            4   \n",
       "2                                2                            2   \n",
       "3                                2                            2   \n",
       "4                                3                            4   \n",
       "\n",
       "   Clear communication - high expectations  Teacher collaboration  \\\n",
       "0                                        3                      3   \n",
       "1                                        4                      4   \n",
       "2                                        3                      2   \n",
       "3                                        3                      3   \n",
       "4                                        3                      4   \n",
       "\n",
       "   Safety, inclusivity, social-emotional growth  ...  \\\n",
       "0                                             4  ...   \n",
       "1                                             4  ...   \n",
       "2                                             3  ...   \n",
       "3                                             2  ...   \n",
       "4                                             4  ...   \n",
       "\n",
       "   Strong Family-Community Ties Score  Trust Score    Borough  District  \\\n",
       "0                                3.80         3.99  Manhattan         1   \n",
       "1                                4.10         3.55  Manhattan         1   \n",
       "2                                3.64         3.12  Manhattan         1   \n",
       "3                                3.33         2.32  Manhattan         1   \n",
       "4                                4.01         3.95  Manhattan         1   \n",
       "\n",
       "   Number Tested  Level 1 %  Level 2 %  Level 3 %  Level 4 %  Level 3+ %  \n",
       "0             67    11.9403    29.8507    32.8358    25.3731      58.209  \n",
       "1             89    23.5955    17.9775    29.2135    29.2135      58.427  \n",
       "2            212    41.5094    23.1132    17.9245    17.4528     35.3774  \n",
       "3            221    54.7511    29.4118    10.8597    4.97738     15.8371  \n",
       "4             64      18.75    23.4375       37.5    20.3125     57.8125  \n",
       "\n",
       "[5 rows x 42 columns]"
      ]
     },
     "execution_count": 28,
     "metadata": {},
     "output_type": "execute_result"
    }
   ],
   "source": [
    "nyc_schools_math.head()"
   ]
  },
  {
   "cell_type": "code",
   "execution_count": 29,
   "metadata": {
    "ExecuteTime": {
     "end_time": "2020-01-14T19:30:07.851866Z",
     "start_time": "2020-01-14T19:30:07.845403Z"
    }
   },
   "outputs": [],
   "source": [
    "nyc_schools_math['% Tested'] = nyc_schools_math['Number Tested'] / nyc_schools_math['Enrollment']\n",
    "nyc_schools_math.drop(['Enrollment', 'Number Tested'], axis=1, inplace=True)"
   ]
  },
  {
   "cell_type": "code",
   "execution_count": 30,
   "metadata": {
    "ExecuteTime": {
     "end_time": "2020-01-14T19:30:08.651226Z",
     "start_time": "2020-01-14T19:30:08.592579Z"
    }
   },
   "outputs": [],
   "source": [
    "nyc_schools_math.to_csv('Data/nyc_schools_math.csv', index=False)"
   ]
  }
 ],
 "metadata": {
  "kernelspec": {
   "display_name": "Python 3",
   "language": "python",
   "name": "python3"
  },
  "language_info": {
   "codemirror_mode": {
    "name": "ipython",
    "version": 3
   },
   "file_extension": ".py",
   "mimetype": "text/x-python",
   "name": "python",
   "nbconvert_exporter": "python",
   "pygments_lexer": "ipython3",
   "version": "3.7.3"
  },
  "toc": {
   "base_numbering": 1,
   "nav_menu": {},
   "number_sections": true,
   "sideBar": true,
   "skip_h1_title": false,
   "title_cell": "Table of Contents",
   "title_sidebar": "Contents",
   "toc_cell": false,
   "toc_position": {},
   "toc_section_display": true,
   "toc_window_display": false
  }
 },
 "nbformat": 4,
 "nbformat_minor": 2
}
