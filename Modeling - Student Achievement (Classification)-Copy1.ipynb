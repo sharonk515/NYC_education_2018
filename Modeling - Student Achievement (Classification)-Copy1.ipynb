{
 "cells": [
  {
   "cell_type": "markdown",
   "metadata": {},
   "source": [
    "# Classification - How does a school's environment affect its overall student achievement rating?\n",
    "\n",
    "Predict whether a school will not meet (1), approach (2), meet (3), or exceed (4) target"
   ]
  },
  {
   "cell_type": "markdown",
   "metadata": {},
   "source": [
    "**Import Packages**"
   ]
  },
  {
   "cell_type": "code",
   "execution_count": 1,
   "metadata": {
    "ExecuteTime": {
     "end_time": "2020-01-24T04:18:21.082454Z",
     "start_time": "2020-01-24T04:18:19.880331Z"
    },
    "scrolled": true
   },
   "outputs": [
    {
     "name": "stderr",
     "output_type": "stream",
     "text": [
      "/Users/sharonkwak/anaconda3/lib/python3.7/site-packages/lightgbm/__init__.py:48: UserWarning: Starting from version 2.2.1, the library file in distribution wheels for macOS is built by the Apple Clang (Xcode_8.3.3) compiler.\n",
      "This means that in case of installing LightGBM from PyPI via the ``pip install lightgbm`` command, you don't need to install the gcc compiler anymore.\n",
      "Instead of that, you need to install the OpenMP library, which is required for running LightGBM on the system with the Apple Clang compiler.\n",
      "You can install the OpenMP library by the following command: ``brew install libomp``.\n",
      "  \"You can install the OpenMP library by the following command: ``brew install libomp``.\", UserWarning)\n"
     ]
    }
   ],
   "source": [
    "import pandas as pd\n",
    "import numpy as np\n",
    "import pickle\n",
    "\n",
    "# libraries for cleaning and preprocessing data\n",
    "from sklearn.preprocessing import StandardScaler\n",
    "\n",
    "# libraries for modeling\n",
    "from sklearn.model_selection import train_test_split\n",
    "from sklearn.model_selection import GridSearchCV\n",
    "from sklearn.ensemble import RandomForestClassifier\n",
    "from sklearn.linear_model import LogisticRegression\n",
    "from sklearn.neighbors import KNeighborsClassifier\n",
    "from sklearn.svm import SVC\n",
    "import lightgbm as lgb\n",
    "\n",
    "# libraries for evaluating models\n",
    "from sklearn.metrics import classification_report\n",
    "from sklearn.metrics import confusion_matrix\n",
    "from sklearn.metrics import roc_curve, roc_auc_score\n",
    "\n",
    "# libraries for visualizations\n",
    "import matplotlib.pyplot as plt\n",
    "import seaborn as sns\n",
    "%matplotlib inline\n",
    "sns.set_style('white')\n",
    "\n",
    "import warnings\n",
    "warnings.filterwarnings('ignore')\n",
    "warnings.filterwarnings('ignore', message='numpy.dtype size changed')"
   ]
  },
  {
   "cell_type": "markdown",
   "metadata": {},
   "source": [
    "## Data Preprocessing"
   ]
  },
  {
   "cell_type": "markdown",
   "metadata": {},
   "source": [
    "**Read Data**"
   ]
  },
  {
   "cell_type": "code",
   "execution_count": 2,
   "metadata": {
    "ExecuteTime": {
     "end_time": "2020-01-24T04:18:22.756105Z",
     "start_time": "2020-01-24T04:18:22.721783Z"
    },
    "scrolled": true
   },
   "outputs": [
    {
     "data": {
      "text/html": [
       "<div>\n",
       "<style scoped>\n",
       "    .dataframe tbody tr th:only-of-type {\n",
       "        vertical-align: middle;\n",
       "    }\n",
       "\n",
       "    .dataframe tbody tr th {\n",
       "        vertical-align: top;\n",
       "    }\n",
       "\n",
       "    .dataframe thead th {\n",
       "        text-align: right;\n",
       "    }\n",
       "</style>\n",
       "<table border=\"1\" class=\"dataframe\">\n",
       "  <thead>\n",
       "    <tr style=\"text-align: right;\">\n",
       "      <th></th>\n",
       "      <th>DBN</th>\n",
       "      <th>School Name</th>\n",
       "      <th>Enrollment</th>\n",
       "      <th>Supportive Environment Rating</th>\n",
       "      <th>Student Achievement Rating</th>\n",
       "      <th>Interesting and challenging curriculum</th>\n",
       "      <th>Effective teaching and learning</th>\n",
       "      <th>Effective school assessment</th>\n",
       "      <th>Clear communication - high expectations</th>\n",
       "      <th>Teacher collaboration</th>\n",
       "      <th>...</th>\n",
       "      <th>Student Attendance Rate</th>\n",
       "      <th>Percent of Students Chronically Absent</th>\n",
       "      <th>Teacher Attendance Rate</th>\n",
       "      <th>Collaborative Teachers Score</th>\n",
       "      <th>Effective School Leadership Score</th>\n",
       "      <th>Rigorous Instruction Score</th>\n",
       "      <th>Strong Family-Community Ties Score</th>\n",
       "      <th>Trust Score</th>\n",
       "      <th>Borough</th>\n",
       "      <th>District</th>\n",
       "    </tr>\n",
       "  </thead>\n",
       "  <tbody>\n",
       "    <tr>\n",
       "      <th>0</th>\n",
       "      <td>01M015</td>\n",
       "      <td>P.S. 015 Roberto Clemente</td>\n",
       "      <td>173</td>\n",
       "      <td>4</td>\n",
       "      <td>4</td>\n",
       "      <td>4</td>\n",
       "      <td>3</td>\n",
       "      <td>3</td>\n",
       "      <td>3</td>\n",
       "      <td>3</td>\n",
       "      <td>...</td>\n",
       "      <td>0.939</td>\n",
       "      <td>0.186</td>\n",
       "      <td>0.985</td>\n",
       "      <td>4.12</td>\n",
       "      <td>4.09</td>\n",
       "      <td>3.91</td>\n",
       "      <td>3.80</td>\n",
       "      <td>3.99</td>\n",
       "      <td>Manhattan</td>\n",
       "      <td>1</td>\n",
       "    </tr>\n",
       "    <tr>\n",
       "      <th>1</th>\n",
       "      <td>01M019</td>\n",
       "      <td>P.S. 019 Asher Levy</td>\n",
       "      <td>244</td>\n",
       "      <td>3</td>\n",
       "      <td>4</td>\n",
       "      <td>4</td>\n",
       "      <td>4</td>\n",
       "      <td>4</td>\n",
       "      <td>4</td>\n",
       "      <td>4</td>\n",
       "      <td>...</td>\n",
       "      <td>0.914</td>\n",
       "      <td>0.353</td>\n",
       "      <td>0.968</td>\n",
       "      <td>4.27</td>\n",
       "      <td>4.25</td>\n",
       "      <td>4.64</td>\n",
       "      <td>4.10</td>\n",
       "      <td>3.55</td>\n",
       "      <td>Manhattan</td>\n",
       "      <td>1</td>\n",
       "    </tr>\n",
       "    <tr>\n",
       "      <th>2</th>\n",
       "      <td>01M020</td>\n",
       "      <td>P.S. 020 Anna Silver</td>\n",
       "      <td>463</td>\n",
       "      <td>2</td>\n",
       "      <td>2</td>\n",
       "      <td>2</td>\n",
       "      <td>2</td>\n",
       "      <td>2</td>\n",
       "      <td>3</td>\n",
       "      <td>2</td>\n",
       "      <td>...</td>\n",
       "      <td>0.930</td>\n",
       "      <td>0.274</td>\n",
       "      <td>0.967</td>\n",
       "      <td>2.76</td>\n",
       "      <td>3.04</td>\n",
       "      <td>1.94</td>\n",
       "      <td>3.64</td>\n",
       "      <td>3.12</td>\n",
       "      <td>Manhattan</td>\n",
       "      <td>1</td>\n",
       "    </tr>\n",
       "    <tr>\n",
       "      <th>3</th>\n",
       "      <td>01M034</td>\n",
       "      <td>P.S. 034 Franklin D. Roosevelt</td>\n",
       "      <td>320</td>\n",
       "      <td>2</td>\n",
       "      <td>2</td>\n",
       "      <td>2</td>\n",
       "      <td>2</td>\n",
       "      <td>2</td>\n",
       "      <td>3</td>\n",
       "      <td>3</td>\n",
       "      <td>...</td>\n",
       "      <td>0.901</td>\n",
       "      <td>0.391</td>\n",
       "      <td>0.976</td>\n",
       "      <td>2.40</td>\n",
       "      <td>2.45</td>\n",
       "      <td>2.04</td>\n",
       "      <td>3.33</td>\n",
       "      <td>2.32</td>\n",
       "      <td>Manhattan</td>\n",
       "      <td>1</td>\n",
       "    </tr>\n",
       "    <tr>\n",
       "      <th>4</th>\n",
       "      <td>01M063</td>\n",
       "      <td>The STAR Academy - P.S.63</td>\n",
       "      <td>177</td>\n",
       "      <td>3</td>\n",
       "      <td>4</td>\n",
       "      <td>4</td>\n",
       "      <td>3</td>\n",
       "      <td>4</td>\n",
       "      <td>3</td>\n",
       "      <td>4</td>\n",
       "      <td>...</td>\n",
       "      <td>0.927</td>\n",
       "      <td>0.261</td>\n",
       "      <td>0.980</td>\n",
       "      <td>4.53</td>\n",
       "      <td>4.07</td>\n",
       "      <td>4.14</td>\n",
       "      <td>4.01</td>\n",
       "      <td>3.95</td>\n",
       "      <td>Manhattan</td>\n",
       "      <td>1</td>\n",
       "    </tr>\n",
       "  </tbody>\n",
       "</table>\n",
       "<p>5 rows × 37 columns</p>\n",
       "</div>"
      ],
      "text/plain": [
       "      DBN                     School Name  Enrollment  \\\n",
       "0  01M015       P.S. 015 Roberto Clemente         173   \n",
       "1  01M019             P.S. 019 Asher Levy         244   \n",
       "2  01M020            P.S. 020 Anna Silver         463   \n",
       "3  01M034  P.S. 034 Franklin D. Roosevelt         320   \n",
       "4  01M063       The STAR Academy - P.S.63         177   \n",
       "\n",
       "   Supportive Environment Rating  Student Achievement Rating  \\\n",
       "0                              4                           4   \n",
       "1                              3                           4   \n",
       "2                              2                           2   \n",
       "3                              2                           2   \n",
       "4                              3                           4   \n",
       "\n",
       "   Interesting and challenging curriculum  Effective teaching and learning  \\\n",
       "0                                       4                                3   \n",
       "1                                       4                                4   \n",
       "2                                       2                                2   \n",
       "3                                       2                                2   \n",
       "4                                       4                                3   \n",
       "\n",
       "   Effective school assessment  Clear communication - high expectations  \\\n",
       "0                            3                                        3   \n",
       "1                            4                                        4   \n",
       "2                            2                                        3   \n",
       "3                            2                                        3   \n",
       "4                            4                                        3   \n",
       "\n",
       "   Teacher collaboration  ...  Student Attendance Rate  \\\n",
       "0                      3  ...                    0.939   \n",
       "1                      4  ...                    0.914   \n",
       "2                      2  ...                    0.930   \n",
       "3                      3  ...                    0.901   \n",
       "4                      4  ...                    0.927   \n",
       "\n",
       "   Percent of Students Chronically Absent  Teacher Attendance Rate  \\\n",
       "0                                   0.186                    0.985   \n",
       "1                                   0.353                    0.968   \n",
       "2                                   0.274                    0.967   \n",
       "3                                   0.391                    0.976   \n",
       "4                                   0.261                    0.980   \n",
       "\n",
       "   Collaborative Teachers Score  Effective School Leadership Score  \\\n",
       "0                          4.12                               4.09   \n",
       "1                          4.27                               4.25   \n",
       "2                          2.76                               3.04   \n",
       "3                          2.40                               2.45   \n",
       "4                          4.53                               4.07   \n",
       "\n",
       "   Rigorous Instruction Score  Strong Family-Community Ties Score  \\\n",
       "0                        3.91                                3.80   \n",
       "1                        4.64                                4.10   \n",
       "2                        1.94                                3.64   \n",
       "3                        2.04                                3.33   \n",
       "4                        4.14                                4.01   \n",
       "\n",
       "   Trust Score    Borough  District  \n",
       "0         3.99  Manhattan         1  \n",
       "1         3.55  Manhattan         1  \n",
       "2         3.12  Manhattan         1  \n",
       "3         2.32  Manhattan         1  \n",
       "4         3.95  Manhattan         1  \n",
       "\n",
       "[5 rows x 37 columns]"
      ]
     },
     "execution_count": 2,
     "metadata": {},
     "output_type": "execute_result"
    }
   ],
   "source": [
    "nyc_schools = pd.read_csv('Data/nyc_schools.csv')\n",
    "nyc_schools.head()"
   ]
  },
  {
   "cell_type": "code",
   "execution_count": 3,
   "metadata": {
    "ExecuteTime": {
     "end_time": "2020-01-24T04:18:23.664629Z",
     "start_time": "2020-01-24T04:18:23.659859Z"
    }
   },
   "outputs": [],
   "source": [
    "nyc_schools = nyc_schools.drop(['Percent English Language Learners',\n",
    "                                'Percent Students with Disabilities', 'Percent Self-Contained',\n",
    "                                'Economic Need Index', 'Percent in Temp Housing',\n",
    "                                'Percent HRA Eligible', 'Percent Asian', 'Percent Black',\n",
    "                                'Percent Hispanic', 'Percent White',\n",
    "                                'Principal experience at this school',\n",
    "                                'Percent of teachers with 3+ years of experience',\n",
    "                                'Student Attendance Rate', 'Percent of Students Chronically Absent',\n",
    "                                'Teacher Attendance Rate', 'District', 'Borough'], axis=1)"
   ]
  },
  {
   "cell_type": "markdown",
   "metadata": {},
   "source": [
    "**Define features and target**"
   ]
  },
  {
   "cell_type": "code",
   "execution_count": 4,
   "metadata": {
    "ExecuteTime": {
     "end_time": "2020-01-24T04:18:25.680236Z",
     "start_time": "2020-01-24T04:18:25.675414Z"
    }
   },
   "outputs": [],
   "source": [
    "X = nyc_schools.drop('Student Achievement Rating',\n",
    "                    axis=1).iloc[:, 2:]\n",
    "y = nyc_schools['Student Achievement Rating']"
   ]
  },
  {
   "cell_type": "markdown",
   "metadata": {},
   "source": [
    "**Encode categorical variables**"
   ]
  },
  {
   "cell_type": "code",
   "execution_count": 5,
   "metadata": {
    "ExecuteTime": {
     "end_time": "2020-01-24T04:18:27.276384Z",
     "start_time": "2020-01-24T04:18:27.264579Z"
    }
   },
   "outputs": [],
   "source": [
    "X = pd.get_dummies(X, drop_first=True)"
   ]
  },
  {
   "cell_type": "markdown",
   "metadata": {},
   "source": [
    "**Train-test split**"
   ]
  },
  {
   "cell_type": "code",
   "execution_count": 6,
   "metadata": {
    "ExecuteTime": {
     "end_time": "2020-01-24T04:18:28.351040Z",
     "start_time": "2020-01-24T04:18:28.345667Z"
    }
   },
   "outputs": [],
   "source": [
    "X_train, X_test, y_train, y_test = train_test_split(X, y, test_size=0.2,\n",
    "                                                    random_state=220)"
   ]
  },
  {
   "cell_type": "markdown",
   "metadata": {},
   "source": [
    "**Standardize variables**"
   ]
  },
  {
   "cell_type": "code",
   "execution_count": 7,
   "metadata": {
    "ExecuteTime": {
     "end_time": "2020-01-24T04:18:29.543804Z",
     "start_time": "2020-01-24T04:18:29.536303Z"
    }
   },
   "outputs": [],
   "source": [
    "scale = StandardScaler()\n",
    "X_train_scale = pd.DataFrame(scale.fit_transform(X_train),\n",
    "                             columns=X.columns)\n",
    "X_test_scale = pd.DataFrame(scale.transform(X_test),\n",
    "                            columns=X.columns)"
   ]
  },
  {
   "cell_type": "markdown",
   "metadata": {},
   "source": [
    "## Modeling"
   ]
  },
  {
   "cell_type": "markdown",
   "metadata": {
    "heading_collapsed": true
   },
   "source": [
    "### Random Forest"
   ]
  },
  {
   "cell_type": "code",
   "execution_count": 10,
   "metadata": {
    "ExecuteTime": {
     "end_time": "2020-01-15T01:42:45.627636Z",
     "start_time": "2020-01-15T01:42:45.579319Z"
    },
    "hidden": true
   },
   "outputs": [
    {
     "data": {
      "text/plain": [
       "RandomForestClassifier(bootstrap=True, class_weight=None, criterion='gini',\n",
       "                       max_depth=None, max_features='auto', max_leaf_nodes=None,\n",
       "                       min_impurity_decrease=0.0, min_impurity_split=None,\n",
       "                       min_samples_leaf=1, min_samples_split=2,\n",
       "                       min_weight_fraction_leaf=0.0, n_estimators=10,\n",
       "                       n_jobs=None, oob_score=False, random_state=220,\n",
       "                       verbose=0, warm_start=False)"
      ]
     },
     "execution_count": 10,
     "metadata": {},
     "output_type": "execute_result"
    }
   ],
   "source": [
    "# Vanilla Model\n",
    "rf_v = RandomForestClassifier(random_state=220)\n",
    "\n",
    "rf_v.fit(X_train, y_train)"
   ]
  },
  {
   "cell_type": "code",
   "execution_count": 11,
   "metadata": {
    "ExecuteTime": {
     "end_time": "2020-01-15T01:42:49.709719Z",
     "start_time": "2020-01-15T01:42:49.702122Z"
    },
    "hidden": true
   },
   "outputs": [
    {
     "data": {
      "text/plain": [
       "0.51953125"
      ]
     },
     "execution_count": 11,
     "metadata": {},
     "output_type": "execute_result"
    }
   ],
   "source": [
    "rf_v.score(X_test, y_test)"
   ]
  },
  {
   "cell_type": "markdown",
   "metadata": {
    "hidden": true
   },
   "source": [
    "**Tuning hyperparameters**"
   ]
  },
  {
   "cell_type": "code",
   "execution_count": 12,
   "metadata": {
    "ExecuteTime": {
     "end_time": "2020-01-15T01:42:51.003127Z",
     "start_time": "2020-01-15T01:42:50.999788Z"
    },
    "hidden": true
   },
   "outputs": [],
   "source": [
    "# parameter grid\n",
    "rf_grid = {'n_estimators': [120, 300, 500],\n",
    "           'min_samples_split': [2, 3, 4],\n",
    "           'min_samples_leaf': [1, 2, 3],\n",
    "           'max_features': ['log2', 'auto']}"
   ]
  },
  {
   "cell_type": "code",
   "execution_count": 13,
   "metadata": {
    "ExecuteTime": {
     "end_time": "2020-01-15T01:43:40.379641Z",
     "start_time": "2020-01-15T01:42:51.903615Z"
    },
    "hidden": true
   },
   "outputs": [
    {
     "name": "stdout",
     "output_type": "stream",
     "text": [
      "Fitting 5 folds for each of 54 candidates, totalling 270 fits\n"
     ]
    },
    {
     "name": "stderr",
     "output_type": "stream",
     "text": [
      "[Parallel(n_jobs=-1)]: Using backend LokyBackend with 8 concurrent workers.\n",
      "[Parallel(n_jobs=-1)]: Done  34 tasks      | elapsed:    7.9s\n",
      "[Parallel(n_jobs=-1)]: Done 184 tasks      | elapsed:   32.6s\n",
      "[Parallel(n_jobs=-1)]: Done 270 out of 270 | elapsed:   47.7s finished\n"
     ]
    },
    {
     "data": {
      "text/plain": [
       "GridSearchCV(cv=5, error_score='raise-deprecating',\n",
       "             estimator=RandomForestClassifier(bootstrap=True, class_weight=None,\n",
       "                                              criterion='gini', max_depth=None,\n",
       "                                              max_features='auto',\n",
       "                                              max_leaf_nodes=None,\n",
       "                                              min_impurity_decrease=0.0,\n",
       "                                              min_impurity_split=None,\n",
       "                                              min_samples_leaf=1,\n",
       "                                              min_samples_split=2,\n",
       "                                              min_weight_fraction_leaf=0.0,\n",
       "                                              n_estimators='warn', n_jobs=None,\n",
       "                                              oob_score=False, random_state=220,\n",
       "                                              verbose=0, warm_start=False),\n",
       "             iid='warn', n_jobs=-1,\n",
       "             param_grid={'max_features': ['log2', 'auto'],\n",
       "                         'min_samples_leaf': [1, 2, 3],\n",
       "                         'min_samples_split': [2, 3, 4],\n",
       "                         'n_estimators': [120, 300, 500]},\n",
       "             pre_dispatch='2*n_jobs', refit=True, return_train_score=False,\n",
       "             scoring='f1_micro', verbose=1)"
      ]
     },
     "execution_count": 13,
     "metadata": {},
     "output_type": "execute_result"
    }
   ],
   "source": [
    "rf_gs = GridSearchCV(estimator=RandomForestClassifier(random_state=220),\n",
    "                     param_grid=rf_grid,\n",
    "                     scoring='f1_micro',\n",
    "                     cv=5, verbose=1, n_jobs=-1)\n",
    "\n",
    "rf_gs.fit(X_train, y_train)"
   ]
  },
  {
   "cell_type": "code",
   "execution_count": 14,
   "metadata": {
    "ExecuteTime": {
     "end_time": "2020-01-15T01:43:40.426074Z",
     "start_time": "2020-01-15T01:43:40.382547Z"
    },
    "hidden": true
   },
   "outputs": [
    {
     "name": "stdout",
     "output_type": "stream",
     "text": [
      "Best params: {'max_features': 'log2', 'min_samples_leaf': 2, 'min_samples_split': 2, 'n_estimators': 300}\n",
      "Train score: 0.530\n",
      "Test score: 0.598\n"
     ]
    }
   ],
   "source": [
    "print('Best params:', rf_gs.best_params_)\n",
    "print('Train score: %.3f' % rf_gs.best_score_)\n",
    "print('Test score: %.3f' % rf_gs.score(X_test, y_test))"
   ]
  },
  {
   "cell_type": "markdown",
   "metadata": {
    "heading_collapsed": true
   },
   "source": [
    "### LightGBM"
   ]
  },
  {
   "cell_type": "code",
   "execution_count": 67,
   "metadata": {
    "ExecuteTime": {
     "end_time": "2020-01-14T19:08:36.016164Z",
     "start_time": "2020-01-14T19:08:35.524269Z"
    },
    "hidden": true
   },
   "outputs": [
    {
     "data": {
      "text/plain": [
       "LGBMClassifier(boosting_type='gbdt', class_weight=None, colsample_bytree=1.0,\n",
       "               importance_type='split', learning_rate=0.1, max_depth=-1,\n",
       "               min_child_samples=20, min_child_weight=0.001, min_split_gain=0.0,\n",
       "               n_estimators=100, n_jobs=-1, num_leaves=31, objective=None,\n",
       "               random_state=220, reg_alpha=0.0, reg_lambda=0.0, silent=True,\n",
       "               subsample=1.0, subsample_for_bin=200000, subsample_freq=0)"
      ]
     },
     "execution_count": 67,
     "metadata": {},
     "output_type": "execute_result"
    }
   ],
   "source": [
    "# Vanilla Model\n",
    "lgb_v = lgb.LGBMClassifier(random_state=220)\n",
    "\n",
    "lgb_v.fit(X_train, y_train)"
   ]
  },
  {
   "cell_type": "code",
   "execution_count": 68,
   "metadata": {
    "ExecuteTime": {
     "end_time": "2020-01-14T19:08:36.333856Z",
     "start_time": "2020-01-14T19:08:36.325432Z"
    },
    "hidden": true
   },
   "outputs": [
    {
     "data": {
      "text/plain": [
       "0.51953125"
      ]
     },
     "execution_count": 68,
     "metadata": {},
     "output_type": "execute_result"
    }
   ],
   "source": [
    "rf_v.score(X_test, y_test)"
   ]
  },
  {
   "cell_type": "markdown",
   "metadata": {
    "hidden": true
   },
   "source": [
    "**Tuning hyperparameters**"
   ]
  },
  {
   "cell_type": "code",
   "execution_count": 78,
   "metadata": {
    "ExecuteTime": {
     "end_time": "2020-01-14T19:13:27.913038Z",
     "start_time": "2020-01-14T19:13:27.909588Z"
    },
    "hidden": true
   },
   "outputs": [],
   "source": [
    "# parameter grid\n",
    "lgb_grid = {'learning_rate': [0.015, 0.025],\n",
    "            'max_depth': [12, 15, 17],\n",
    "            'min_child_weight': [5, 7, 9],\n",
    "            'subsample': [0.1, 0.3, 0.5]}"
   ]
  },
  {
   "cell_type": "code",
   "execution_count": 79,
   "metadata": {
    "ExecuteTime": {
     "end_time": "2020-01-14T19:14:07.232486Z",
     "start_time": "2020-01-14T19:13:28.629649Z"
    },
    "hidden": true
   },
   "outputs": [
    {
     "name": "stdout",
     "output_type": "stream",
     "text": [
      "Fitting 5 folds for each of 54 candidates, totalling 270 fits\n"
     ]
    },
    {
     "name": "stderr",
     "output_type": "stream",
     "text": [
      "[Parallel(n_jobs=-1)]: Using backend LokyBackend with 8 concurrent workers.\n",
      "[Parallel(n_jobs=-1)]: Done  34 tasks      | elapsed:    5.7s\n",
      "[Parallel(n_jobs=-1)]: Done 184 tasks      | elapsed:   26.3s\n",
      "[Parallel(n_jobs=-1)]: Done 270 out of 270 | elapsed:   38.2s finished\n"
     ]
    },
    {
     "data": {
      "text/plain": [
       "GridSearchCV(cv=5, error_score='raise-deprecating',\n",
       "             estimator=LGBMClassifier(boosting_type='gbdt', class_weight=None,\n",
       "                                      colsample_bytree=1.0,\n",
       "                                      importance_type='split',\n",
       "                                      learning_rate=0.1, max_depth=-1,\n",
       "                                      min_child_samples=20,\n",
       "                                      min_child_weight=0.001,\n",
       "                                      min_split_gain=0.0, n_estimators=100,\n",
       "                                      n_jobs=-1, num_leaves=31, objective=None,\n",
       "                                      random_state=220, reg_alpha=0.0,\n",
       "                                      reg_lambda=0.0, silent=True,\n",
       "                                      subsample=1.0, subsample_for_bin=200000,\n",
       "                                      subsample_freq=0),\n",
       "             iid='warn', n_jobs=-1,\n",
       "             param_grid={'learning_rate': [0.015, 0.025],\n",
       "                         'max_depth': [12, 15, 17],\n",
       "                         'min_child_weight': [5, 7, 9],\n",
       "                         'subsample': [0.1, 0.3, 0.5]},\n",
       "             pre_dispatch='2*n_jobs', refit=True, return_train_score=False,\n",
       "             scoring='f1_micro', verbose=1)"
      ]
     },
     "execution_count": 79,
     "metadata": {},
     "output_type": "execute_result"
    }
   ],
   "source": [
    "lgb_gs = GridSearchCV(estimator=lgb.LGBMClassifier(random_state=220),\n",
    "                      param_grid=lgb_grid,\n",
    "                      scoring='f1_micro',\n",
    "                      cv=5, verbose=1, n_jobs=-1)\n",
    "\n",
    "lgb_gs.fit(X_train, y_train)"
   ]
  },
  {
   "cell_type": "code",
   "execution_count": 80,
   "metadata": {
    "ExecuteTime": {
     "end_time": "2020-01-14T19:14:07.253753Z",
     "start_time": "2020-01-14T19:14:07.234793Z"
    },
    "hidden": true
   },
   "outputs": [
    {
     "name": "stdout",
     "output_type": "stream",
     "text": [
      "Best params: {'learning_rate': 0.025, 'max_depth': 15, 'min_child_weight': 7, 'subsample': 0.1}\n",
      "Train score: 0.525\n",
      "Test score: 0.570\n"
     ]
    }
   ],
   "source": [
    "print('Best params:', lgb_gs.best_params_)\n",
    "print('Train score: %.3f' % lgb_gs.best_score_)\n",
    "print('Test score: %.3f' % lgb_gs.score(X_test, y_test))"
   ]
  },
  {
   "cell_type": "markdown",
   "metadata": {
    "heading_collapsed": true
   },
   "source": [
    "### Logistic Regression"
   ]
  },
  {
   "cell_type": "code",
   "execution_count": 15,
   "metadata": {
    "ExecuteTime": {
     "end_time": "2020-01-15T01:43:40.475303Z",
     "start_time": "2020-01-15T01:43:40.428572Z"
    },
    "hidden": true
   },
   "outputs": [
    {
     "data": {
      "text/plain": [
       "LogisticRegression(C=1.0, class_weight=None, dual=False, fit_intercept=True,\n",
       "                   intercept_scaling=1, l1_ratio=None, max_iter=100,\n",
       "                   multi_class='warn', n_jobs=None, penalty='l2',\n",
       "                   random_state=220, solver='warn', tol=0.0001, verbose=0,\n",
       "                   warm_start=False)"
      ]
     },
     "execution_count": 15,
     "metadata": {},
     "output_type": "execute_result"
    }
   ],
   "source": [
    "# Vanilla Model\n",
    "log_v = LogisticRegression(random_state=220)\n",
    "\n",
    "log_v.fit(X_train_scale, y_train)"
   ]
  },
  {
   "cell_type": "code",
   "execution_count": 16,
   "metadata": {
    "ExecuteTime": {
     "end_time": "2020-01-15T01:43:40.488064Z",
     "start_time": "2020-01-15T01:43:40.478909Z"
    },
    "hidden": true
   },
   "outputs": [
    {
     "data": {
      "text/plain": [
       "0.61328125"
      ]
     },
     "execution_count": 16,
     "metadata": {},
     "output_type": "execute_result"
    }
   ],
   "source": [
    "log_v.score(X_test_scale, y_test)"
   ]
  },
  {
   "cell_type": "markdown",
   "metadata": {
    "hidden": true
   },
   "source": [
    "**Tuning hyperparameters**"
   ]
  },
  {
   "cell_type": "code",
   "execution_count": 17,
   "metadata": {
    "ExecuteTime": {
     "end_time": "2020-01-15T01:43:40.494499Z",
     "start_time": "2020-01-15T01:43:40.490668Z"
    },
    "hidden": true
   },
   "outputs": [],
   "source": [
    "# parameter grid\n",
    "log_grid = {'penalty': ['l1', 'l2'],\n",
    "           'C': [0.001, 0.01, 1]}"
   ]
  },
  {
   "cell_type": "code",
   "execution_count": 18,
   "metadata": {
    "ExecuteTime": {
     "end_time": "2020-01-15T01:43:41.160747Z",
     "start_time": "2020-01-15T01:43:40.498059Z"
    },
    "hidden": true
   },
   "outputs": [
    {
     "name": "stdout",
     "output_type": "stream",
     "text": [
      "Fitting 5 folds for each of 6 candidates, totalling 30 fits\n"
     ]
    },
    {
     "name": "stderr",
     "output_type": "stream",
     "text": [
      "[Parallel(n_jobs=-1)]: Using backend LokyBackend with 8 concurrent workers.\n",
      "[Parallel(n_jobs=-1)]: Done  15 out of  30 | elapsed:    0.1s remaining:    0.1s\n",
      "[Parallel(n_jobs=-1)]: Done  30 out of  30 | elapsed:    0.6s finished\n"
     ]
    },
    {
     "data": {
      "text/plain": [
       "GridSearchCV(cv=5, error_score='raise-deprecating',\n",
       "             estimator=LogisticRegression(C=1.0, class_weight=None, dual=False,\n",
       "                                          fit_intercept=True,\n",
       "                                          intercept_scaling=1, l1_ratio=None,\n",
       "                                          max_iter=100, multi_class='warn',\n",
       "                                          n_jobs=None, penalty='l2',\n",
       "                                          random_state=220, solver='warn',\n",
       "                                          tol=0.0001, verbose=0,\n",
       "                                          warm_start=False),\n",
       "             iid='warn', n_jobs=-1,\n",
       "             param_grid={'C': [0.001, 0.01, 1], 'penalty': ['l1', 'l2']},\n",
       "             pre_dispatch='2*n_jobs', refit=True, return_train_score=False,\n",
       "             scoring='f1_micro', verbose=1)"
      ]
     },
     "execution_count": 18,
     "metadata": {},
     "output_type": "execute_result"
    }
   ],
   "source": [
    "log_gs = GridSearchCV(estimator=LogisticRegression(random_state=220),\n",
    "                      param_grid=log_grid,\n",
    "                      scoring='f1_micro',\n",
    "                      cv=5, verbose=1, n_jobs=-1)\n",
    "\n",
    "log_gs.fit(X_train_scale, y_train)"
   ]
  },
  {
   "cell_type": "code",
   "execution_count": 19,
   "metadata": {
    "ExecuteTime": {
     "end_time": "2020-01-15T01:43:41.170399Z",
     "start_time": "2020-01-15T01:43:41.163393Z"
    },
    "hidden": true
   },
   "outputs": [
    {
     "name": "stdout",
     "output_type": "stream",
     "text": [
      "Best params: {'C': 1, 'penalty': 'l2'}\n",
      "Train score: 0.508\n",
      "Test score: 0.613\n"
     ]
    }
   ],
   "source": [
    "print('Best params:', log_gs.best_params_)\n",
    "print('Train score: %.3f' % log_gs.best_score_)\n",
    "print('Test score: %.3f' % log_gs.score(X_test_scale, y_test))"
   ]
  },
  {
   "cell_type": "markdown",
   "metadata": {
    "heading_collapsed": true
   },
   "source": [
    "### KNN"
   ]
  },
  {
   "cell_type": "code",
   "execution_count": 81,
   "metadata": {
    "ExecuteTime": {
     "end_time": "2020-01-14T19:14:14.438655Z",
     "start_time": "2020-01-14T19:14:14.424870Z"
    },
    "hidden": true
   },
   "outputs": [
    {
     "data": {
      "text/plain": [
       "KNeighborsClassifier(algorithm='auto', leaf_size=30, metric='minkowski',\n",
       "                     metric_params=None, n_jobs=None, n_neighbors=5, p=2,\n",
       "                     weights='uniform')"
      ]
     },
     "execution_count": 81,
     "metadata": {},
     "output_type": "execute_result"
    }
   ],
   "source": [
    "# Vanilla Model\n",
    "knn_v = KNeighborsClassifier()\n",
    "\n",
    "knn_v.fit(X_train_scale, y_train)"
   ]
  },
  {
   "cell_type": "code",
   "execution_count": 82,
   "metadata": {
    "ExecuteTime": {
     "end_time": "2020-01-14T19:14:15.394806Z",
     "start_time": "2020-01-14T19:14:15.355709Z"
    },
    "hidden": true
   },
   "outputs": [
    {
     "data": {
      "text/plain": [
       "0.50390625"
      ]
     },
     "execution_count": 82,
     "metadata": {},
     "output_type": "execute_result"
    }
   ],
   "source": [
    "knn_v.score(X_test_scale, y_test)"
   ]
  },
  {
   "cell_type": "markdown",
   "metadata": {
    "hidden": true
   },
   "source": [
    "**Tuning hyperparameters**"
   ]
  },
  {
   "cell_type": "code",
   "execution_count": 95,
   "metadata": {
    "ExecuteTime": {
     "end_time": "2020-01-14T19:15:23.681916Z",
     "start_time": "2020-01-14T19:15:23.678915Z"
    },
    "hidden": true
   },
   "outputs": [],
   "source": [
    "# parameter grid\n",
    "knn_grid = {'n_neighbors': [30, 34, 40],\n",
    "           'p': [2, 3]}"
   ]
  },
  {
   "cell_type": "code",
   "execution_count": 96,
   "metadata": {
    "ExecuteTime": {
     "end_time": "2020-01-14T19:15:25.367021Z",
     "start_time": "2020-01-14T19:15:24.361038Z"
    },
    "hidden": true
   },
   "outputs": [
    {
     "name": "stdout",
     "output_type": "stream",
     "text": [
      "Fitting 5 folds for each of 6 candidates, totalling 30 fits\n"
     ]
    },
    {
     "name": "stderr",
     "output_type": "stream",
     "text": [
      "[Parallel(n_jobs=-1)]: Using backend LokyBackend with 8 concurrent workers.\n",
      "[Parallel(n_jobs=-1)]: Done  15 out of  30 | elapsed:    0.3s remaining:    0.3s\n",
      "[Parallel(n_jobs=-1)]: Done  30 out of  30 | elapsed:    1.0s finished\n"
     ]
    },
    {
     "data": {
      "text/plain": [
       "GridSearchCV(cv=5, error_score='raise-deprecating',\n",
       "             estimator=KNeighborsClassifier(algorithm='auto', leaf_size=30,\n",
       "                                            metric='minkowski',\n",
       "                                            metric_params=None, n_jobs=None,\n",
       "                                            n_neighbors=5, p=2,\n",
       "                                            weights='uniform'),\n",
       "             iid='warn', n_jobs=-1,\n",
       "             param_grid={'n_neighbors': [30, 34, 40], 'p': [2, 3]},\n",
       "             pre_dispatch='2*n_jobs', refit=True, return_train_score=False,\n",
       "             scoring='f1_micro', verbose=1)"
      ]
     },
     "execution_count": 96,
     "metadata": {},
     "output_type": "execute_result"
    }
   ],
   "source": [
    "knn_gs = GridSearchCV(estimator=KNeighborsClassifier(),\n",
    "                     param_grid=knn_grid,\n",
    "                     scoring='f1_micro',\n",
    "                     cv=5, verbose=1, n_jobs=-1)\n",
    "\n",
    "knn_gs.fit(X_train_scale, y_train)"
   ]
  },
  {
   "cell_type": "code",
   "execution_count": 97,
   "metadata": {
    "ExecuteTime": {
     "end_time": "2020-01-14T19:15:25.979402Z",
     "start_time": "2020-01-14T19:15:25.941680Z"
    },
    "hidden": true
   },
   "outputs": [
    {
     "name": "stdout",
     "output_type": "stream",
     "text": [
      "Best params: {'n_neighbors': 34, 'p': 2}\n",
      "Train score: 0.508\n",
      "Test score: 0.547\n"
     ]
    }
   ],
   "source": [
    "print('Best params:', knn_gs.best_params_)\n",
    "print('Train score: %.3f' % knn_gs.best_score_)\n",
    "print('Test score: %.3f' % knn_gs.score(X_test_scale, y_test))"
   ]
  },
  {
   "cell_type": "markdown",
   "metadata": {},
   "source": [
    "### SVM"
   ]
  },
  {
   "cell_type": "code",
   "execution_count": 8,
   "metadata": {
    "ExecuteTime": {
     "end_time": "2020-01-24T04:18:32.939361Z",
     "start_time": "2020-01-24T04:18:32.869482Z"
    }
   },
   "outputs": [
    {
     "data": {
      "text/plain": [
       "SVC(C=1.0, cache_size=200, class_weight=None, coef0=0.0,\n",
       "    decision_function_shape='ovr', degree=3, gamma='auto_deprecated',\n",
       "    kernel='linear', max_iter=-1, probability=False, random_state=220,\n",
       "    shrinking=True, tol=0.001, verbose=False)"
      ]
     },
     "execution_count": 8,
     "metadata": {},
     "output_type": "execute_result"
    }
   ],
   "source": [
    "# Vanilla Model\n",
    "svm_v = SVC(kernel='linear', random_state=220)\n",
    "\n",
    "svm_v.fit(X_train_scale, y_train)"
   ]
  },
  {
   "cell_type": "code",
   "execution_count": 9,
   "metadata": {
    "ExecuteTime": {
     "end_time": "2020-01-24T04:18:33.703289Z",
     "start_time": "2020-01-24T04:18:33.692971Z"
    }
   },
   "outputs": [
    {
     "data": {
      "text/plain": [
       "0.61328125"
      ]
     },
     "execution_count": 9,
     "metadata": {},
     "output_type": "execute_result"
    }
   ],
   "source": [
    "svm_v.score(X_test_scale, y_test)"
   ]
  },
  {
   "cell_type": "markdown",
   "metadata": {},
   "source": [
    "**Tuning hyperparameters**"
   ]
  },
  {
   "cell_type": "code",
   "execution_count": 10,
   "metadata": {
    "ExecuteTime": {
     "end_time": "2020-01-24T04:18:36.344639Z",
     "start_time": "2020-01-24T04:18:36.341815Z"
    }
   },
   "outputs": [],
   "source": [
    "# parameter grid\n",
    "svm_grid = {'C': [0.1, 1, 10],\n",
    "           'class_weight': ['balanced', None]}"
   ]
  },
  {
   "cell_type": "code",
   "execution_count": 11,
   "metadata": {
    "ExecuteTime": {
     "end_time": "2020-01-24T04:18:40.208849Z",
     "start_time": "2020-01-24T04:18:37.331715Z"
    },
    "scrolled": true
   },
   "outputs": [
    {
     "name": "stdout",
     "output_type": "stream",
     "text": [
      "Fitting 5 folds for each of 6 candidates, totalling 30 fits\n"
     ]
    },
    {
     "name": "stderr",
     "output_type": "stream",
     "text": [
      "[Parallel(n_jobs=-1)]: Using backend LokyBackend with 8 concurrent workers.\n",
      "[Parallel(n_jobs=-1)]: Done  30 out of  30 | elapsed:    2.8s finished\n"
     ]
    },
    {
     "data": {
      "text/plain": [
       "GridSearchCV(cv=5, error_score='raise-deprecating',\n",
       "             estimator=SVC(C=1.0, cache_size=200, class_weight=None, coef0=0.0,\n",
       "                           decision_function_shape='ovr', degree=3,\n",
       "                           gamma='auto_deprecated', kernel='linear',\n",
       "                           max_iter=-1, probability=False, random_state=220,\n",
       "                           shrinking=True, tol=0.001, verbose=False),\n",
       "             iid='warn', n_jobs=-1,\n",
       "             param_grid={'C': [0.1, 1, 10], 'class_weight': ['balanced', None]},\n",
       "             pre_dispatch='2*n_jobs', refit=True, return_train_score=False,\n",
       "             scoring='f1_micro', verbose=1)"
      ]
     },
     "execution_count": 11,
     "metadata": {},
     "output_type": "execute_result"
    }
   ],
   "source": [
    "svm_gs = GridSearchCV(estimator=SVC(kernel='linear',\n",
    "                                    random_state=220),\n",
    "                     param_grid=svm_grid,\n",
    "                     scoring='f1_micro',\n",
    "                     cv=5, verbose=1, n_jobs=-1)\n",
    "\n",
    "svm_gs.fit(X_train_scale, y_train)\n",
    "pickle.dump(svm_gs, open('Models/svm2.sav', 'wb'))"
   ]
  },
  {
   "cell_type": "code",
   "execution_count": 12,
   "metadata": {
    "ExecuteTime": {
     "end_time": "2020-01-24T04:18:41.055344Z",
     "start_time": "2020-01-24T04:18:41.044054Z"
    }
   },
   "outputs": [
    {
     "name": "stdout",
     "output_type": "stream",
     "text": [
      "Best params: {'C': 1, 'class_weight': None}\n",
      "Train score: 0.504\n",
      "Test score: 0.613\n"
     ]
    }
   ],
   "source": [
    "svm_gs = pickle.load(open('Models/svm2.sav', 'rb'))\n",
    "\n",
    "print('Best params:', svm_gs.best_params_)\n",
    "print('Train score: %.3f' % svm_gs.best_score_)\n",
    "print('Test score: %.3f' % svm_gs.score(X_test_scale, y_test))"
   ]
  },
  {
   "cell_type": "markdown",
   "metadata": {
    "heading_collapsed": true
   },
   "source": [
    "## Modeling with balanced classes"
   ]
  },
  {
   "cell_type": "code",
   "execution_count": 112,
   "metadata": {
    "ExecuteTime": {
     "end_time": "2020-01-14T19:17:19.531137Z",
     "start_time": "2020-01-14T19:17:16.230528Z"
    },
    "hidden": true
   },
   "outputs": [
    {
     "name": "stderr",
     "output_type": "stream",
     "text": [
      "Using TensorFlow backend.\n"
     ]
    }
   ],
   "source": [
    "from sklearn.utils import resample\n",
    "from imblearn.over_sampling import SMOTE"
   ]
  },
  {
   "cell_type": "markdown",
   "metadata": {
    "hidden": true
   },
   "source": [
    "### Undersampling"
   ]
  },
  {
   "cell_type": "code",
   "execution_count": 113,
   "metadata": {
    "ExecuteTime": {
     "end_time": "2020-01-14T19:17:26.349314Z",
     "start_time": "2020-01-14T19:17:26.343165Z"
    },
    "hidden": true
   },
   "outputs": [
    {
     "data": {
      "text/plain": [
       "3    531\n",
       "2    358\n",
       "4    347\n",
       "1     40\n",
       "Name: Student Achievement Rating, dtype: int64"
      ]
     },
     "execution_count": 113,
     "metadata": {},
     "output_type": "execute_result"
    }
   ],
   "source": [
    "nyc_schools['Student Achievement Rating'].value_counts()"
   ]
  },
  {
   "cell_type": "code",
   "execution_count": 114,
   "metadata": {
    "ExecuteTime": {
     "end_time": "2020-01-14T19:17:27.434060Z",
     "start_time": "2020-01-14T19:17:27.422723Z"
    },
    "hidden": true
   },
   "outputs": [],
   "source": [
    "undersampled = resample(nyc_schools[nyc_schools['Student Achievement Rating']\n",
    "                                    != 3],\n",
    "                        replace=False,  # sample without replacement\n",
    "                        # match number in majority class\n",
    "                        n_samples=sum(nyc_schools['Student Achievement Rating']\n",
    "                                      == 3),\n",
    "                        random_state=220)  # reproducible results\n",
    "output_df = pd.concat([nyc_schools.loc[nyc_schools['Student Achievement Rating']\n",
    "                                       == 3],\n",
    "                       undersampled])"
   ]
  },
  {
   "cell_type": "code",
   "execution_count": 115,
   "metadata": {
    "ExecuteTime": {
     "end_time": "2020-01-14T19:17:28.926244Z",
     "start_time": "2020-01-14T19:17:28.920219Z"
    },
    "hidden": true,
    "scrolled": false
   },
   "outputs": [
    {
     "data": {
      "text/plain": [
       "3    531\n",
       "2    256\n",
       "4    242\n",
       "1     33\n",
       "Name: Student Achievement Rating, dtype: int64"
      ]
     },
     "execution_count": 115,
     "metadata": {},
     "output_type": "execute_result"
    }
   ],
   "source": [
    "output_df['Student Achievement Rating'].value_counts()"
   ]
  },
  {
   "cell_type": "code",
   "execution_count": 116,
   "metadata": {
    "ExecuteTime": {
     "end_time": "2020-01-14T19:17:32.856312Z",
     "start_time": "2020-01-14T19:17:32.850717Z"
    },
    "hidden": true
   },
   "outputs": [],
   "source": [
    "X_u = output_df.drop(columns='Student Achievement Rating',\n",
    "                          axis=1)\n",
    "y_u = output_df['Student Achievement Rating']"
   ]
  },
  {
   "cell_type": "code",
   "execution_count": 117,
   "metadata": {
    "ExecuteTime": {
     "end_time": "2020-01-14T19:17:33.971849Z",
     "start_time": "2020-01-14T19:17:33.938393Z"
    },
    "hidden": true
   },
   "outputs": [],
   "source": [
    "X_u = pd.get_dummies(X_u, drop_first=True)"
   ]
  },
  {
   "cell_type": "code",
   "execution_count": 118,
   "metadata": {
    "ExecuteTime": {
     "end_time": "2020-01-14T19:17:36.026282Z",
     "start_time": "2020-01-14T19:17:36.011523Z"
    },
    "hidden": true
   },
   "outputs": [],
   "source": [
    "X_train_u, X_test_u, y_train_u, y_test_u = train_test_split(X_u, y_u, test_size=0.2,\n",
    "                                                            random_state=220)"
   ]
  },
  {
   "cell_type": "code",
   "execution_count": 119,
   "metadata": {
    "ExecuteTime": {
     "end_time": "2020-01-14T19:17:37.069583Z",
     "start_time": "2020-01-14T19:17:36.990315Z"
    },
    "hidden": true,
    "scrolled": true
   },
   "outputs": [],
   "source": [
    "X_train_scale = pd.DataFrame(scale.fit_transform(X_train_u),\n",
    "                             columns=X_u.columns)\n",
    "X_test_scale = pd.DataFrame(scale.transform(X_test_u),\n",
    "                            columns=X_u.columns)"
   ]
  },
  {
   "cell_type": "markdown",
   "metadata": {
    "hidden": true
   },
   "source": [
    "### SVM"
   ]
  },
  {
   "cell_type": "code",
   "execution_count": 120,
   "metadata": {
    "ExecuteTime": {
     "end_time": "2020-01-14T19:17:43.584694Z",
     "start_time": "2020-01-14T19:17:39.816071Z"
    },
    "hidden": true
   },
   "outputs": [
    {
     "data": {
      "text/plain": [
       "SVC(C=1.0, cache_size=200, class_weight=None, coef0=0.0,\n",
       "    decision_function_shape='ovr', degree=3, gamma='auto_deprecated',\n",
       "    kernel='linear', max_iter=-1, probability=False, random_state=220,\n",
       "    shrinking=True, tol=0.001, verbose=False)"
      ]
     },
     "execution_count": 120,
     "metadata": {},
     "output_type": "execute_result"
    }
   ],
   "source": [
    "# Vanilla Model\n",
    "svm_v = SVC(kernel='linear', random_state=220)\n",
    "\n",
    "svm_v.fit(X_train_scale, y_train_u)"
   ]
  },
  {
   "cell_type": "code",
   "execution_count": 121,
   "metadata": {
    "ExecuteTime": {
     "end_time": "2020-01-14T19:17:45.310087Z",
     "start_time": "2020-01-14T19:17:44.778436Z"
    },
    "hidden": true
   },
   "outputs": [
    {
     "data": {
      "text/plain": [
       "0.4835680751173709"
      ]
     },
     "execution_count": 121,
     "metadata": {},
     "output_type": "execute_result"
    }
   ],
   "source": [
    "svm_v.score(X_test_scale, y_test_u)"
   ]
  },
  {
   "cell_type": "markdown",
   "metadata": {
    "hidden": true
   },
   "source": [
    "**Tuning hyperparameters**"
   ]
  },
  {
   "cell_type": "code",
   "execution_count": 122,
   "metadata": {
    "ExecuteTime": {
     "end_time": "2020-01-14T19:17:51.580025Z",
     "start_time": "2020-01-14T19:17:51.577248Z"
    },
    "hidden": true
   },
   "outputs": [],
   "source": [
    "# parameter grid\n",
    "svm_grid = {'C': [0.001, 0.005, 0.01],\n",
    "           'class_weight': ['balanced', None]}"
   ]
  },
  {
   "cell_type": "code",
   "execution_count": 123,
   "metadata": {
    "ExecuteTime": {
     "end_time": "2020-01-14T19:18:19.485780Z",
     "start_time": "2020-01-14T19:17:53.232636Z"
    },
    "hidden": true,
    "scrolled": true
   },
   "outputs": [
    {
     "name": "stdout",
     "output_type": "stream",
     "text": [
      "Fitting 5 folds for each of 6 candidates, totalling 30 fits\n"
     ]
    },
    {
     "name": "stderr",
     "output_type": "stream",
     "text": [
      "[Parallel(n_jobs=-1)]: Using backend LokyBackend with 8 concurrent workers.\n",
      "[Parallel(n_jobs=-1)]: Done  30 out of  30 | elapsed:   22.5s finished\n"
     ]
    },
    {
     "data": {
      "text/plain": [
       "GridSearchCV(cv=5, error_score='raise-deprecating',\n",
       "             estimator=SVC(C=1.0, cache_size=200, class_weight=None, coef0=0.0,\n",
       "                           decision_function_shape='ovr', degree=3,\n",
       "                           gamma='auto_deprecated', kernel='linear',\n",
       "                           max_iter=-1, probability=False, random_state=220,\n",
       "                           shrinking=True, tol=0.001, verbose=False),\n",
       "             iid='warn', n_jobs=-1,\n",
       "             param_grid={'C': [0.001, 0.005, 0.01],\n",
       "                         'class_weight': ['balanced', None]},\n",
       "             pre_dispatch='2*n_jobs', refit=True, return_train_score=False,\n",
       "             scoring='recall_micro', verbose=1)"
      ]
     },
     "execution_count": 123,
     "metadata": {},
     "output_type": "execute_result"
    }
   ],
   "source": [
    "svm_gs = GridSearchCV(estimator=SVC(kernel='linear', random_state=220),\n",
    "                     param_grid=svm_grid,\n",
    "                     scoring='recall_micro',\n",
    "                     cv=5, verbose=1, n_jobs=-1)\n",
    "\n",
    "svm_gs.fit(X_train_scale, y_train_u)"
   ]
  },
  {
   "cell_type": "code",
   "execution_count": 124,
   "metadata": {
    "ExecuteTime": {
     "end_time": "2020-01-14T19:18:20.086515Z",
     "start_time": "2020-01-14T19:18:19.488632Z"
    },
    "hidden": true,
    "scrolled": true
   },
   "outputs": [
    {
     "name": "stdout",
     "output_type": "stream",
     "text": [
      "Best params: {'C': 0.001, 'class_weight': None}\n",
      "Train score: 0.522\n",
      "Test score: 0.484\n"
     ]
    }
   ],
   "source": [
    "print('Best params:', svm_gs.best_params_)\n",
    "print('Train score: %.3f' % svm_gs.best_score_)\n",
    "print('Test score: %.3f' % svm_gs.score(X_test_scale, y_test_u))"
   ]
  },
  {
   "cell_type": "markdown",
   "metadata": {
    "hidden": true
   },
   "source": [
    "### Oversampling"
   ]
  },
  {
   "cell_type": "code",
   "execution_count": 125,
   "metadata": {
    "ExecuteTime": {
     "end_time": "2020-01-14T19:18:20.102181Z",
     "start_time": "2020-01-14T19:18:20.089262Z"
    },
    "hidden": true
   },
   "outputs": [],
   "source": [
    "oversampled = resample(nyc_schools[nyc_schools['Student Achievement Rating']\n",
    "                                   != 1],\n",
    "                       replace=True,  # sample without replacement\n",
    "                       # match number in majority class\n",
    "                       n_samples=sum(nyc_schools['Student Achievement Rating']\n",
    "                                      == 1),\n",
    "                       random_state=220)  # reproducible results\n",
    "output_df_over = pd.concat([nyc_schools.loc[nyc_schools['Student Achievement Rating']\n",
    "                                            == 1],\n",
    "                            oversampled])\n",
    "X_train_o, y_train_o = output_df_over.drop(columns='Student Achievement Rating',\n",
    "                                           axis=1\n",
    "                                           ), output_df['Student Achievement Rating']"
   ]
  },
  {
   "cell_type": "code",
   "execution_count": 126,
   "metadata": {
    "ExecuteTime": {
     "end_time": "2020-01-14T19:18:20.111675Z",
     "start_time": "2020-01-14T19:18:20.104467Z"
    },
    "hidden": true,
    "scrolled": true
   },
   "outputs": [
    {
     "data": {
      "text/plain": [
       "1    40\n",
       "3    17\n",
       "4    14\n",
       "2     9\n",
       "Name: Student Achievement Rating, dtype: int64"
      ]
     },
     "execution_count": 126,
     "metadata": {},
     "output_type": "execute_result"
    }
   ],
   "source": [
    "output_df_over['Student Achievement Rating'].value_counts()"
   ]
  },
  {
   "cell_type": "code",
   "execution_count": 127,
   "metadata": {
    "ExecuteTime": {
     "end_time": "2020-01-14T19:18:20.118604Z",
     "start_time": "2020-01-14T19:18:20.113722Z"
    },
    "hidden": true
   },
   "outputs": [],
   "source": [
    "X_o = output_df.drop(columns='Student Achievement Rating',\n",
    "                          axis=1)\n",
    "y_o = output_df['Student Achievement Rating']"
   ]
  },
  {
   "cell_type": "code",
   "execution_count": 128,
   "metadata": {
    "ExecuteTime": {
     "end_time": "2020-01-14T19:18:23.001370Z",
     "start_time": "2020-01-14T19:18:22.302488Z"
    },
    "hidden": true
   },
   "outputs": [],
   "source": [
    "X_o = pd.get_dummies(X_u, drop_first=True)"
   ]
  },
  {
   "cell_type": "code",
   "execution_count": 129,
   "metadata": {
    "ExecuteTime": {
     "end_time": "2020-01-14T19:18:23.977984Z",
     "start_time": "2020-01-14T19:18:23.965017Z"
    },
    "hidden": true
   },
   "outputs": [],
   "source": [
    "X_train_o, X_test_o, y_train_o, y_test_o = train_test_split(X_o, y_o, test_size=0.2,\n",
    "                                                            random_state=220)"
   ]
  },
  {
   "cell_type": "code",
   "execution_count": 130,
   "metadata": {
    "ExecuteTime": {
     "end_time": "2020-01-14T19:18:25.044830Z",
     "start_time": "2020-01-14T19:18:24.974842Z"
    },
    "hidden": true
   },
   "outputs": [],
   "source": [
    "X_train_scale = pd.DataFrame(scale.fit_transform(X_train_o),\n",
    "                             columns=X_u.columns)\n",
    "X_test_scale = pd.DataFrame(scale.transform(X_test_o),\n",
    "                            columns=X_u.columns)"
   ]
  },
  {
   "cell_type": "markdown",
   "metadata": {
    "hidden": true
   },
   "source": [
    "### SVM"
   ]
  },
  {
   "cell_type": "code",
   "execution_count": 131,
   "metadata": {
    "ExecuteTime": {
     "end_time": "2020-01-14T19:18:30.336109Z",
     "start_time": "2020-01-14T19:18:26.559153Z"
    },
    "hidden": true
   },
   "outputs": [
    {
     "data": {
      "text/plain": [
       "SVC(C=1.0, cache_size=200, class_weight=None, coef0=0.0,\n",
       "    decision_function_shape='ovr', degree=3, gamma='auto_deprecated',\n",
       "    kernel='linear', max_iter=-1, probability=False, random_state=220,\n",
       "    shrinking=True, tol=0.001, verbose=False)"
      ]
     },
     "execution_count": 131,
     "metadata": {},
     "output_type": "execute_result"
    }
   ],
   "source": [
    "# Vanilla Model\n",
    "svm_v = SVC(kernel='linear', random_state=220)\n",
    "\n",
    "svm_v.fit(X_train_scale, y_train_o)"
   ]
  },
  {
   "cell_type": "code",
   "execution_count": 132,
   "metadata": {
    "ExecuteTime": {
     "end_time": "2020-01-14T19:18:30.964438Z",
     "start_time": "2020-01-14T19:18:30.338167Z"
    },
    "hidden": true
   },
   "outputs": [
    {
     "data": {
      "text/plain": [
       "0.4835680751173709"
      ]
     },
     "execution_count": 132,
     "metadata": {},
     "output_type": "execute_result"
    }
   ],
   "source": [
    "svm_v.score(X_test_scale, y_test_o)"
   ]
  },
  {
   "cell_type": "markdown",
   "metadata": {
    "hidden": true
   },
   "source": [
    "**Tuning hyperparameters**"
   ]
  },
  {
   "cell_type": "code",
   "execution_count": 133,
   "metadata": {
    "ExecuteTime": {
     "end_time": "2020-01-14T19:18:31.954363Z",
     "start_time": "2020-01-14T19:18:31.951178Z"
    },
    "hidden": true
   },
   "outputs": [],
   "source": [
    "# parameter grid\n",
    "svm_grid = {'C': [0.001, 0.005, 0.01],\n",
    "           'class_weight': ['balanced', None]}"
   ]
  },
  {
   "cell_type": "code",
   "execution_count": 134,
   "metadata": {
    "ExecuteTime": {
     "end_time": "2020-01-14T19:18:58.452873Z",
     "start_time": "2020-01-14T19:18:32.988365Z"
    },
    "hidden": true,
    "scrolled": true
   },
   "outputs": [
    {
     "name": "stdout",
     "output_type": "stream",
     "text": [
      "Fitting 5 folds for each of 6 candidates, totalling 30 fits\n"
     ]
    },
    {
     "name": "stderr",
     "output_type": "stream",
     "text": [
      "[Parallel(n_jobs=-1)]: Using backend LokyBackend with 8 concurrent workers.\n",
      "[Parallel(n_jobs=-1)]: Done  30 out of  30 | elapsed:   21.3s finished\n"
     ]
    },
    {
     "data": {
      "text/plain": [
       "GridSearchCV(cv=5, error_score='raise-deprecating',\n",
       "             estimator=SVC(C=1.0, cache_size=200, class_weight=None, coef0=0.0,\n",
       "                           decision_function_shape='ovr', degree=3,\n",
       "                           gamma='auto_deprecated', kernel='linear',\n",
       "                           max_iter=-1, probability=False, random_state=220,\n",
       "                           shrinking=True, tol=0.001, verbose=False),\n",
       "             iid='warn', n_jobs=-1,\n",
       "             param_grid={'C': [0.001, 0.005, 0.01],\n",
       "                         'class_weight': ['balanced', None]},\n",
       "             pre_dispatch='2*n_jobs', refit=True, return_train_score=False,\n",
       "             scoring='recall_micro', verbose=1)"
      ]
     },
     "execution_count": 134,
     "metadata": {},
     "output_type": "execute_result"
    }
   ],
   "source": [
    "svm_gs = GridSearchCV(estimator=SVC(kernel='linear', random_state=220),\n",
    "                     param_grid=svm_grid,\n",
    "                     scoring='recall_micro',\n",
    "                     cv=5, verbose=1, n_jobs=-1)\n",
    "\n",
    "svm_gs.fit(X_train_scale, y_train_o)"
   ]
  },
  {
   "cell_type": "code",
   "execution_count": 135,
   "metadata": {
    "ExecuteTime": {
     "end_time": "2020-01-14T19:18:59.112187Z",
     "start_time": "2020-01-14T19:18:58.457253Z"
    },
    "hidden": true,
    "scrolled": true
   },
   "outputs": [
    {
     "name": "stdout",
     "output_type": "stream",
     "text": [
      "Best params: {'C': 0.001, 'class_weight': None}\n",
      "Train score: 0.522\n",
      "Test score: 0.484\n"
     ]
    }
   ],
   "source": [
    "print('Best params:', svm_gs.best_params_)\n",
    "print('Train score: %.3f' % svm_gs.best_score_)\n",
    "print('Test score: %.3f' % svm_gs.score(X_test_scale, y_test_o))"
   ]
  },
  {
   "cell_type": "markdown",
   "metadata": {
    "hidden": true
   },
   "source": [
    "### SMOTE"
   ]
  },
  {
   "cell_type": "code",
   "execution_count": 137,
   "metadata": {
    "ExecuteTime": {
     "end_time": "2020-01-14T19:19:07.876668Z",
     "start_time": "2020-01-14T19:19:07.862147Z"
    },
    "hidden": true
   },
   "outputs": [],
   "source": [
    "sm_model = SMOTE(sampling_strategy='minority',\n",
    "                 random_state=220)\n",
    "X_train_s, y_train_s = sm_model.fit_sample(X_train_scale, y_train)"
   ]
  },
  {
   "cell_type": "markdown",
   "metadata": {
    "hidden": true
   },
   "source": [
    "### SVM"
   ]
  },
  {
   "cell_type": "code",
   "execution_count": 138,
   "metadata": {
    "ExecuteTime": {
     "end_time": "2020-01-14T19:19:09.404095Z",
     "start_time": "2020-01-14T19:19:09.106048Z"
    },
    "hidden": true
   },
   "outputs": [
    {
     "data": {
      "text/plain": [
       "SVC(C=1.0, cache_size=200, class_weight=None, coef0=0.0,\n",
       "    decision_function_shape='ovr', degree=3, gamma='auto_deprecated',\n",
       "    kernel='linear', max_iter=-1, probability=False, random_state=220,\n",
       "    shrinking=True, tol=0.001, verbose=False)"
      ]
     },
     "execution_count": 138,
     "metadata": {},
     "output_type": "execute_result"
    }
   ],
   "source": [
    "# Vanilla Model\n",
    "svm_v = SVC(kernel='linear', random_state=220)\n",
    "\n",
    "svm_v.fit(X_train_s, y_train_s)"
   ]
  },
  {
   "cell_type": "code",
   "execution_count": 139,
   "metadata": {
    "ExecuteTime": {
     "end_time": "2020-01-14T19:19:09.977443Z",
     "start_time": "2020-01-14T19:19:09.959321Z"
    },
    "hidden": true
   },
   "outputs": [
    {
     "data": {
      "text/plain": [
       "0.52734375"
      ]
     },
     "execution_count": 139,
     "metadata": {},
     "output_type": "execute_result"
    }
   ],
   "source": [
    "svm_v.score(X_test_scale, y_test)"
   ]
  },
  {
   "cell_type": "markdown",
   "metadata": {
    "hidden": true
   },
   "source": [
    "**Tuning hyperparameters**"
   ]
  },
  {
   "cell_type": "code",
   "execution_count": 143,
   "metadata": {
    "ExecuteTime": {
     "end_time": "2020-01-14T19:19:57.177149Z",
     "start_time": "2020-01-14T19:19:57.173894Z"
    },
    "hidden": true
   },
   "outputs": [],
   "source": [
    "# parameter grid\n",
    "svm_grid = {'C': [10, 100, 1000],\n",
    "           'class_weight': ['balanced', None]}"
   ]
  },
  {
   "cell_type": "code",
   "execution_count": 144,
   "metadata": {
    "ExecuteTime": {
     "end_time": "2020-01-14T19:33:21.591711Z",
     "start_time": "2020-01-14T19:19:58.103733Z"
    },
    "hidden": true,
    "scrolled": true
   },
   "outputs": [
    {
     "name": "stdout",
     "output_type": "stream",
     "text": [
      "Fitting 5 folds for each of 6 candidates, totalling 30 fits\n"
     ]
    },
    {
     "name": "stderr",
     "output_type": "stream",
     "text": [
      "[Parallel(n_jobs=-1)]: Using backend LokyBackend with 8 concurrent workers.\n",
      "[Parallel(n_jobs=-1)]: Done  30 out of  30 | elapsed:  9.7min finished\n"
     ]
    },
    {
     "data": {
      "text/plain": [
       "GridSearchCV(cv=5, error_score='raise-deprecating',\n",
       "             estimator=SVC(C=1.0, cache_size=200, class_weight=None, coef0=0.0,\n",
       "                           decision_function_shape='ovr', degree=3,\n",
       "                           gamma='auto_deprecated', kernel='linear',\n",
       "                           max_iter=-1, probability=False, random_state=220,\n",
       "                           shrinking=True, tol=0.001, verbose=False),\n",
       "             iid='warn', n_jobs=-1,\n",
       "             param_grid={'C': [10, 100, 1000],\n",
       "                         'class_weight': ['balanced', None]},\n",
       "             pre_dispatch='2*n_jobs', refit=True, return_train_score=False,\n",
       "             scoring='recall_micro', verbose=1)"
      ]
     },
     "execution_count": 144,
     "metadata": {},
     "output_type": "execute_result"
    }
   ],
   "source": [
    "svm_gs = GridSearchCV(estimator=SVC(kernel='linear', random_state=220),\n",
    "                     param_grid=svm_grid,\n",
    "                     scoring='recall_micro',\n",
    "                     cv=5, verbose=1, n_jobs=-1)\n",
    "\n",
    "svm_gs.fit(X_train_s, y_train_s)"
   ]
  },
  {
   "cell_type": "code",
   "execution_count": 145,
   "metadata": {
    "ExecuteTime": {
     "end_time": "2020-01-14T19:33:21.609463Z",
     "start_time": "2020-01-14T19:33:21.593660Z"
    },
    "hidden": true
   },
   "outputs": [
    {
     "name": "stdout",
     "output_type": "stream",
     "text": [
      "Best params: {'C': 1000, 'class_weight': None}\n",
      "Train score: 0.589\n",
      "Test score: 0.492\n"
     ]
    }
   ],
   "source": [
    "print('Best params:', svm_gs.best_params_)\n",
    "print('Train score: %.3f' % svm_gs.best_score_)\n",
    "print('Test score: %.3f' % svm_gs.score(X_test_scale, y_test))"
   ]
  },
  {
   "cell_type": "markdown",
   "metadata": {},
   "source": [
    "## Findings"
   ]
  },
  {
   "cell_type": "code",
   "execution_count": 13,
   "metadata": {
    "ExecuteTime": {
     "end_time": "2020-01-24T04:18:43.485889Z",
     "start_time": "2020-01-24T04:18:43.456641Z"
    }
   },
   "outputs": [
    {
     "data": {
      "text/html": [
       "<div>\n",
       "<style scoped>\n",
       "    .dataframe tbody tr th:only-of-type {\n",
       "        vertical-align: middle;\n",
       "    }\n",
       "\n",
       "    .dataframe tbody tr th {\n",
       "        vertical-align: top;\n",
       "    }\n",
       "\n",
       "    .dataframe thead th {\n",
       "        text-align: right;\n",
       "    }\n",
       "</style>\n",
       "<table border=\"1\" class=\"dataframe\">\n",
       "  <thead>\n",
       "    <tr style=\"text-align: right;\">\n",
       "      <th></th>\n",
       "      <th>Predicted 1</th>\n",
       "      <th>Predicted 2</th>\n",
       "      <th>Predicted 3</th>\n",
       "      <th>Predicted 4</th>\n",
       "    </tr>\n",
       "  </thead>\n",
       "  <tbody>\n",
       "    <tr>\n",
       "      <th>Actual 1</th>\n",
       "      <td>0</td>\n",
       "      <td>15</td>\n",
       "      <td>16</td>\n",
       "      <td>1</td>\n",
       "    </tr>\n",
       "    <tr>\n",
       "      <th>Actual 2</th>\n",
       "      <td>0</td>\n",
       "      <td>118</td>\n",
       "      <td>156</td>\n",
       "      <td>18</td>\n",
       "    </tr>\n",
       "    <tr>\n",
       "      <th>Actual 3</th>\n",
       "      <td>0</td>\n",
       "      <td>73</td>\n",
       "      <td>277</td>\n",
       "      <td>66</td>\n",
       "    </tr>\n",
       "    <tr>\n",
       "      <th>Actual 4</th>\n",
       "      <td>0</td>\n",
       "      <td>17</td>\n",
       "      <td>125</td>\n",
       "      <td>138</td>\n",
       "    </tr>\n",
       "  </tbody>\n",
       "</table>\n",
       "</div>"
      ],
      "text/plain": [
       "          Predicted 1  Predicted 2  Predicted 3  Predicted 4\n",
       "Actual 1            0           15           16            1\n",
       "Actual 2            0          118          156           18\n",
       "Actual 3            0           73          277           66\n",
       "Actual 4            0           17          125          138"
      ]
     },
     "execution_count": 13,
     "metadata": {},
     "output_type": "execute_result"
    }
   ],
   "source": [
    "cm = confusion_matrix(y_train, svm_gs.predict(X_train_scale))\n",
    "cm_df = pd.DataFrame(cm, columns=['Predicted 1',\n",
    "                                  'Predicted 2',\n",
    "                                  'Predicted 3',\n",
    "                                  'Predicted 4'],\n",
    "                     index=['Actual 1',\n",
    "                            'Actual 2',\n",
    "                            'Actual 3',\n",
    "                            'Actual 4'])\n",
    "cm_df"
   ]
  },
  {
   "cell_type": "code",
   "execution_count": 14,
   "metadata": {
    "ExecuteTime": {
     "end_time": "2020-01-24T04:18:45.124268Z",
     "start_time": "2020-01-24T04:18:45.111060Z"
    },
    "scrolled": false
   },
   "outputs": [
    {
     "data": {
      "text/html": [
       "<div>\n",
       "<style scoped>\n",
       "    .dataframe tbody tr th:only-of-type {\n",
       "        vertical-align: middle;\n",
       "    }\n",
       "\n",
       "    .dataframe tbody tr th {\n",
       "        vertical-align: top;\n",
       "    }\n",
       "\n",
       "    .dataframe thead th {\n",
       "        text-align: right;\n",
       "    }\n",
       "</style>\n",
       "<table border=\"1\" class=\"dataframe\">\n",
       "  <thead>\n",
       "    <tr style=\"text-align: right;\">\n",
       "      <th></th>\n",
       "      <th>Feature</th>\n",
       "      <th>Coefficient</th>\n",
       "      <th>Absolute Coefficient</th>\n",
       "    </tr>\n",
       "  </thead>\n",
       "  <tbody>\n",
       "    <tr>\n",
       "      <th>5</th>\n",
       "      <td>Clear communication - high expectations</td>\n",
       "      <td>0.000056</td>\n",
       "      <td>0.000056</td>\n",
       "    </tr>\n",
       "    <tr>\n",
       "      <th>10</th>\n",
       "      <td>Thoughtful teacher development and evaluation</td>\n",
       "      <td>0.000060</td>\n",
       "      <td>0.000060</td>\n",
       "    </tr>\n",
       "    <tr>\n",
       "      <th>6</th>\n",
       "      <td>Teacher collaboration</td>\n",
       "      <td>0.000067</td>\n",
       "      <td>0.000067</td>\n",
       "    </tr>\n",
       "    <tr>\n",
       "      <th>3</th>\n",
       "      <td>Effective teaching and learning</td>\n",
       "      <td>-0.000073</td>\n",
       "      <td>0.000073</td>\n",
       "    </tr>\n",
       "    <tr>\n",
       "      <th>4</th>\n",
       "      <td>Effective school assessment</td>\n",
       "      <td>0.000099</td>\n",
       "      <td>0.000099</td>\n",
       "    </tr>\n",
       "    <tr>\n",
       "      <th>15</th>\n",
       "      <td>Strong Family-Community Ties Score</td>\n",
       "      <td>0.000121</td>\n",
       "      <td>0.000121</td>\n",
       "    </tr>\n",
       "    <tr>\n",
       "      <th>11</th>\n",
       "      <td>School decision evaluation and adjustment</td>\n",
       "      <td>-0.000132</td>\n",
       "      <td>0.000132</td>\n",
       "    </tr>\n",
       "    <tr>\n",
       "      <th>2</th>\n",
       "      <td>Interesting and challenging curriculum</td>\n",
       "      <td>-0.000153</td>\n",
       "      <td>0.000153</td>\n",
       "    </tr>\n",
       "    <tr>\n",
       "      <th>14</th>\n",
       "      <td>Rigorous Instruction Score</td>\n",
       "      <td>0.000270</td>\n",
       "      <td>0.000270</td>\n",
       "    </tr>\n",
       "    <tr>\n",
       "      <th>12</th>\n",
       "      <td>Collaborative Teachers Score</td>\n",
       "      <td>-0.000291</td>\n",
       "      <td>0.000291</td>\n",
       "    </tr>\n",
       "  </tbody>\n",
       "</table>\n",
       "</div>"
      ],
      "text/plain": [
       "                                          Feature  Coefficient  \\\n",
       "5         Clear communication - high expectations     0.000056   \n",
       "10  Thoughtful teacher development and evaluation     0.000060   \n",
       "6                           Teacher collaboration     0.000067   \n",
       "3                 Effective teaching and learning    -0.000073   \n",
       "4                     Effective school assessment     0.000099   \n",
       "15             Strong Family-Community Ties Score     0.000121   \n",
       "11      School decision evaluation and adjustment    -0.000132   \n",
       "2          Interesting and challenging curriculum    -0.000153   \n",
       "14                     Rigorous Instruction Score     0.000270   \n",
       "12                   Collaborative Teachers Score    -0.000291   \n",
       "\n",
       "    Absolute Coefficient  \n",
       "5               0.000056  \n",
       "10              0.000060  \n",
       "6               0.000067  \n",
       "3               0.000073  \n",
       "4               0.000099  \n",
       "15              0.000121  \n",
       "11              0.000132  \n",
       "2               0.000153  \n",
       "14              0.000270  \n",
       "12              0.000291  "
      ]
     },
     "execution_count": 14,
     "metadata": {},
     "output_type": "execute_result"
    }
   ],
   "source": [
    "# create a DataFrame of the features and coefficients \n",
    "svm_feat_imp = pd.DataFrame(zip(X_train_scale.columns,\n",
    "                                svm_gs.best_estimator_.coef_[0],\n",
    "                                np.abs(svm_gs.best_estimator_.coef_[0])),\n",
    "                            columns=['Feature', 'Coefficient',\n",
    "                                     'Absolute Coefficient'])\n",
    "\n",
    "# sort values by the absolute coefficient\n",
    "svm_feat_imp.sort_values(by=['Absolute Coefficient'],\n",
    "                         ascending=True, inplace=True)\n",
    "\n",
    "svm_feat_imp.tail(10)"
   ]
  },
  {
   "cell_type": "code",
   "execution_count": 18,
   "metadata": {
    "ExecuteTime": {
     "end_time": "2020-01-24T04:24:11.253620Z",
     "start_time": "2020-01-24T04:24:10.617900Z"
    },
    "scrolled": true
   },
   "outputs": [
    {
     "data": {
      "image/png": "[encoded data removed]",
      "text/plain": [
       "<Figure size 720x576 with 1 Axes>"
      ]
     },
     "metadata": {
      "needs_background": "light"
     },
     "output_type": "display_data"
    }
   ],
   "source": [
    "plt.figure(figsize=(10, 8))\n",
    "plt.barh(svm_feat_imp['Feature'][-10:],\n",
    "         svm_feat_imp['Absolute Coefficient'][-10:],\n",
    "         align='center')\n",
    "sns.despine(left=False, bottom=False)\n",
    "plt.xlabel('Feature importance', fontsize=12)\n",
    "plt.ylabel('Feature', fontsize=13)\n",
    "plt.xticks(fontsize=13)\n",
    "plt.yticks(fontsize=13)\n",
    "plt.title(f'Feature importance in predicting student achievement rating \\n', fontsize=16);\n",
    "plt.savefig('Images/rating_feat_imp2.png', bbox_inches='tight');"
   ]
  },
  {
   "cell_type": "markdown",
   "metadata": {},
   "source": [
    "## Summary\n",
    "\n",
    "After running Random Forest, LightGBM, Logistic Regression, KNN, and Support Vector Machine, SVM Classifier (SVC) resulted with the best score, an F1-score of 0.613. $$F1 = 2 * \\frac{Precision * Recall}{Precision + Recall}$$\n",
    "\n",
    "The following list shows the top 10 features in predicting a school's Student Achievement Rating (1-4). Based on the coefficients from SVM, the features marked with a <font color='red'>(-)</font> has a negative relationship with the students' achievement rating: lower values result in a higher rating. Those marked with a <font color='blue'>(+)</font> has a positive correlation with the students' achievement rating: higher values result in a higher rating.\n",
    "\n",
    "1. Clear communication - high expectations <font color='blue'>(+)</font>\n",
    "2. Thoughtful teacher development and evaluation <font color='blue'>(+)</font>\n",
    "3. Teacher collaboration <font color='blue'>(+)</font>\n",
    "4. Effective teaching and learning <font color='red'>(-)</font>\n",
    "5. Effective school assessment <font color='blue'>(+)</font>\n",
    "6. Strong family-community ties <font color='blue'>(+)</font>\n",
    "7. School decision evaluation and adjustment <font color='red'>(-)</font>\n",
    "8. Interesting and challenging curriculum <font color='red'>(-)</font>\n",
    "9. Rigorous instruction <font color='blue'>(+)</font>\n",
    "10. Collaborative teachers <font color='red'>(-)</font>"
   ]
  }
 ],
 "metadata": {
  "kernelspec": {
   "display_name": "Python 3",
   "language": "python",
   "name": "python3"
  },
  "language_info": {
   "codemirror_mode": {
    "name": "ipython",
    "version": 3
   },
   "file_extension": ".py",
   "mimetype": "text/x-python",
   "name": "python",
   "nbconvert_exporter": "python",
   "pygments_lexer": "ipython3",
   "version": "3.7.3"
  },
  "toc": {
   "base_numbering": 1,
   "nav_menu": {},
   "number_sections": true,
   "sideBar": true,
   "skip_h1_title": false,
   "title_cell": "Table of Contents",
   "title_sidebar": "Contents",
   "toc_cell": false,
   "toc_position": {},
   "toc_section_display": true,
   "toc_window_display": false
  }
 },
 "nbformat": 4,
 "nbformat_minor": 2
}
