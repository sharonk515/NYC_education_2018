{
 "cells": [
  {
   "cell_type": "markdown",
   "metadata": {},
   "source": [
    "# Classification - How does a school's environment affect students' Math and ELA Assessment Scores?\n",
    "\n",
    "Predict whether a school will not meet (1), approach (2), meet (3), or exceed (4) target"
   ]
  },
  {
   "cell_type": "markdown",
   "metadata": {},
   "source": [
    "## Data Preprocessing"
   ]
  },
  {
   "cell_type": "markdown",
   "metadata": {},
   "source": [
    "**Import Packages**"
   ]
  },
  {
   "cell_type": "code",
   "execution_count": 1,
   "metadata": {
    "ExecuteTime": {
     "end_time": "2020-01-14T18:52:43.859958Z",
     "start_time": "2020-01-14T18:52:41.743817Z"
    }
   },
   "outputs": [
    {
     "name": "stderr",
     "output_type": "stream",
     "text": [
      "/Users/sharonkwak/anaconda3/lib/python3.7/site-packages/lightgbm/__init__.py:48: UserWarning: Starting from version 2.2.1, the library file in distribution wheels for macOS is built by the Apple Clang (Xcode_8.3.3) compiler.\n",
      "This means that in case of installing LightGBM from PyPI via the ``pip install lightgbm`` command, you don't need to install the gcc compiler anymore.\n",
      "Instead of that, you need to install the OpenMP library, which is required for running LightGBM on the system with the Apple Clang compiler.\n",
      "You can install the OpenMP library by the following command: ``brew install libomp``.\n",
      "  \"You can install the OpenMP library by the following command: ``brew install libomp``.\", UserWarning)\n"
     ]
    }
   ],
   "source": [
    "import pandas as pd\n",
    "import numpy as np\n",
    "\n",
    "# libraries for cleaning and preprocessing data\n",
    "from sklearn.preprocessing import StandardScaler\n",
    "\n",
    "# libraries for modeling\n",
    "from sklearn.model_selection import train_test_split\n",
    "from sklearn.model_selection import GridSearchCV\n",
    "from sklearn.ensemble import RandomForestClassifier\n",
    "from sklearn.linear_model import LogisticRegression\n",
    "from sklearn.neighbors import KNeighborsClassifier\n",
    "from sklearn.svm import SVC\n",
    "import lightgbm as lgb\n",
    "\n",
    "# libraries for evaluating models\n",
    "from sklearn.metrics import classification_report\n",
    "from sklearn.metrics import confusion_matrix\n",
    "from sklearn.metrics import roc_curve, roc_auc_score\n",
    "\n",
    "# libraries for visualizations\n",
    "import matplotlib.pyplot as plt\n",
    "import seaborn as sns\n",
    "%matplotlib inline\n",
    "\n",
    "import warnings\n",
    "warnings.filterwarnings('ignore')\n",
    "warnings.filterwarnings('ignore', message='numpy.dtype size changed')"
   ]
  },
  {
   "cell_type": "markdown",
   "metadata": {},
   "source": [
    "**Read Data**"
   ]
  },
  {
   "cell_type": "code",
   "execution_count": 2,
   "metadata": {
    "ExecuteTime": {
     "end_time": "2020-01-14T18:53:57.960500Z",
     "start_time": "2020-01-14T18:53:57.911211Z"
    },
    "scrolled": true
   },
   "outputs": [
    {
     "data": {
      "text/html": [
       "<div>\n",
       "<style scoped>\n",
       "    .dataframe tbody tr th:only-of-type {\n",
       "        vertical-align: middle;\n",
       "    }\n",
       "\n",
       "    .dataframe tbody tr th {\n",
       "        vertical-align: top;\n",
       "    }\n",
       "\n",
       "    .dataframe thead th {\n",
       "        text-align: right;\n",
       "    }\n",
       "</style>\n",
       "<table border=\"1\" class=\"dataframe\">\n",
       "  <thead>\n",
       "    <tr style=\"text-align: right;\">\n",
       "      <th></th>\n",
       "      <th>DBN</th>\n",
       "      <th>School Name</th>\n",
       "      <th>Enrollment</th>\n",
       "      <th>Supportive Environment Rating</th>\n",
       "      <th>Student Achievement Rating</th>\n",
       "      <th>Interesting and challenging curriculum</th>\n",
       "      <th>Effective teaching and learning</th>\n",
       "      <th>Effective school assessment</th>\n",
       "      <th>Clear communication - high expectations</th>\n",
       "      <th>Teacher collaboration</th>\n",
       "      <th>...</th>\n",
       "      <th>Student Attendance Rate</th>\n",
       "      <th>Percent of Students Chronically Absent</th>\n",
       "      <th>Teacher Attendance Rate</th>\n",
       "      <th>Collaborative Teachers Score</th>\n",
       "      <th>Effective School Leadership Score</th>\n",
       "      <th>Rigorous Instruction Score</th>\n",
       "      <th>Strong Family-Community Ties Score</th>\n",
       "      <th>Trust Score</th>\n",
       "      <th>Borough</th>\n",
       "      <th>District</th>\n",
       "    </tr>\n",
       "  </thead>\n",
       "  <tbody>\n",
       "    <tr>\n",
       "      <th>0</th>\n",
       "      <td>01M015</td>\n",
       "      <td>P.S. 015 Roberto Clemente</td>\n",
       "      <td>173</td>\n",
       "      <td>4</td>\n",
       "      <td>4</td>\n",
       "      <td>4</td>\n",
       "      <td>3</td>\n",
       "      <td>3</td>\n",
       "      <td>3</td>\n",
       "      <td>3</td>\n",
       "      <td>...</td>\n",
       "      <td>0.939</td>\n",
       "      <td>0.186</td>\n",
       "      <td>0.985</td>\n",
       "      <td>4.12</td>\n",
       "      <td>4.09</td>\n",
       "      <td>3.91</td>\n",
       "      <td>3.80</td>\n",
       "      <td>3.99</td>\n",
       "      <td>Manhattan</td>\n",
       "      <td>01M</td>\n",
       "    </tr>\n",
       "    <tr>\n",
       "      <th>1</th>\n",
       "      <td>01M019</td>\n",
       "      <td>P.S. 019 Asher Levy</td>\n",
       "      <td>244</td>\n",
       "      <td>3</td>\n",
       "      <td>4</td>\n",
       "      <td>4</td>\n",
       "      <td>4</td>\n",
       "      <td>4</td>\n",
       "      <td>4</td>\n",
       "      <td>4</td>\n",
       "      <td>...</td>\n",
       "      <td>0.914</td>\n",
       "      <td>0.353</td>\n",
       "      <td>0.968</td>\n",
       "      <td>4.27</td>\n",
       "      <td>4.25</td>\n",
       "      <td>4.64</td>\n",
       "      <td>4.10</td>\n",
       "      <td>3.55</td>\n",
       "      <td>Manhattan</td>\n",
       "      <td>01M</td>\n",
       "    </tr>\n",
       "    <tr>\n",
       "      <th>2</th>\n",
       "      <td>01M020</td>\n",
       "      <td>P.S. 020 Anna Silver</td>\n",
       "      <td>463</td>\n",
       "      <td>2</td>\n",
       "      <td>2</td>\n",
       "      <td>2</td>\n",
       "      <td>2</td>\n",
       "      <td>2</td>\n",
       "      <td>3</td>\n",
       "      <td>2</td>\n",
       "      <td>...</td>\n",
       "      <td>0.930</td>\n",
       "      <td>0.274</td>\n",
       "      <td>0.967</td>\n",
       "      <td>2.76</td>\n",
       "      <td>3.04</td>\n",
       "      <td>1.94</td>\n",
       "      <td>3.64</td>\n",
       "      <td>3.12</td>\n",
       "      <td>Manhattan</td>\n",
       "      <td>01M</td>\n",
       "    </tr>\n",
       "    <tr>\n",
       "      <th>3</th>\n",
       "      <td>01M034</td>\n",
       "      <td>P.S. 034 Franklin D. Roosevelt</td>\n",
       "      <td>320</td>\n",
       "      <td>2</td>\n",
       "      <td>2</td>\n",
       "      <td>2</td>\n",
       "      <td>2</td>\n",
       "      <td>2</td>\n",
       "      <td>3</td>\n",
       "      <td>3</td>\n",
       "      <td>...</td>\n",
       "      <td>0.901</td>\n",
       "      <td>0.391</td>\n",
       "      <td>0.976</td>\n",
       "      <td>2.40</td>\n",
       "      <td>2.45</td>\n",
       "      <td>2.04</td>\n",
       "      <td>3.33</td>\n",
       "      <td>2.32</td>\n",
       "      <td>Manhattan</td>\n",
       "      <td>01M</td>\n",
       "    </tr>\n",
       "    <tr>\n",
       "      <th>4</th>\n",
       "      <td>01M063</td>\n",
       "      <td>The STAR Academy - P.S.63</td>\n",
       "      <td>177</td>\n",
       "      <td>3</td>\n",
       "      <td>4</td>\n",
       "      <td>4</td>\n",
       "      <td>3</td>\n",
       "      <td>4</td>\n",
       "      <td>3</td>\n",
       "      <td>4</td>\n",
       "      <td>...</td>\n",
       "      <td>0.927</td>\n",
       "      <td>0.261</td>\n",
       "      <td>0.980</td>\n",
       "      <td>4.53</td>\n",
       "      <td>4.07</td>\n",
       "      <td>4.14</td>\n",
       "      <td>4.01</td>\n",
       "      <td>3.95</td>\n",
       "      <td>Manhattan</td>\n",
       "      <td>01M</td>\n",
       "    </tr>\n",
       "  </tbody>\n",
       "</table>\n",
       "<p>5 rows × 37 columns</p>\n",
       "</div>"
      ],
      "text/plain": [
       "      DBN                     School Name  Enrollment  \\\n",
       "0  01M015       P.S. 015 Roberto Clemente         173   \n",
       "1  01M019             P.S. 019 Asher Levy         244   \n",
       "2  01M020            P.S. 020 Anna Silver         463   \n",
       "3  01M034  P.S. 034 Franklin D. Roosevelt         320   \n",
       "4  01M063       The STAR Academy - P.S.63         177   \n",
       "\n",
       "   Supportive Environment Rating  Student Achievement Rating  \\\n",
       "0                              4                           4   \n",
       "1                              3                           4   \n",
       "2                              2                           2   \n",
       "3                              2                           2   \n",
       "4                              3                           4   \n",
       "\n",
       "   Interesting and challenging curriculum  Effective teaching and learning  \\\n",
       "0                                       4                                3   \n",
       "1                                       4                                4   \n",
       "2                                       2                                2   \n",
       "3                                       2                                2   \n",
       "4                                       4                                3   \n",
       "\n",
       "   Effective school assessment  Clear communication - high expectations  \\\n",
       "0                            3                                        3   \n",
       "1                            4                                        4   \n",
       "2                            2                                        3   \n",
       "3                            2                                        3   \n",
       "4                            4                                        3   \n",
       "\n",
       "   Teacher collaboration  ...  Student Attendance Rate  \\\n",
       "0                      3  ...                    0.939   \n",
       "1                      4  ...                    0.914   \n",
       "2                      2  ...                    0.930   \n",
       "3                      3  ...                    0.901   \n",
       "4                      4  ...                    0.927   \n",
       "\n",
       "   Percent of Students Chronically Absent  Teacher Attendance Rate  \\\n",
       "0                                   0.186                    0.985   \n",
       "1                                   0.353                    0.968   \n",
       "2                                   0.274                    0.967   \n",
       "3                                   0.391                    0.976   \n",
       "4                                   0.261                    0.980   \n",
       "\n",
       "   Collaborative Teachers Score  Effective School Leadership Score  \\\n",
       "0                          4.12                               4.09   \n",
       "1                          4.27                               4.25   \n",
       "2                          2.76                               3.04   \n",
       "3                          2.40                               2.45   \n",
       "4                          4.53                               4.07   \n",
       "\n",
       "   Rigorous Instruction Score  Strong Family-Community Ties Score  \\\n",
       "0                        3.91                                3.80   \n",
       "1                        4.64                                4.10   \n",
       "2                        1.94                                3.64   \n",
       "3                        2.04                                3.33   \n",
       "4                        4.14                                4.01   \n",
       "\n",
       "   Trust Score    Borough  District  \n",
       "0         3.99  Manhattan       01M  \n",
       "1         3.55  Manhattan       01M  \n",
       "2         3.12  Manhattan       01M  \n",
       "3         2.32  Manhattan       01M  \n",
       "4         3.95  Manhattan       01M  \n",
       "\n",
       "[5 rows x 37 columns]"
      ]
     },
     "execution_count": 2,
     "metadata": {},
     "output_type": "execute_result"
    }
   ],
   "source": [
    "nyc_schools = pd.read_csv('Data/nyc_schools.csv')\n",
    "nyc_schools.head()"
   ]
  },
  {
   "cell_type": "code",
   "execution_count": 4,
   "metadata": {
    "ExecuteTime": {
     "end_time": "2020-01-14T18:57:19.748561Z",
     "start_time": "2020-01-14T18:57:19.743154Z"
    },
    "scrolled": true
   },
   "outputs": [],
   "source": [
    "nyc_schools['District'] = nyc_schools['District'].apply(lambda x:\n",
    "                                                       841 if x == '84M'\n",
    "                                                       else (842 if x == '84X'\n",
    "                                                            else (843 if x == '84K'\n",
    "                                                                 else(844 if x == '84Q'\n",
    "                                                                     else (845 if x == '84R'\n",
    "                                                                          else x[:2])))))"
   ]
  },
  {
   "cell_type": "markdown",
   "metadata": {},
   "source": [
    "**Define features and target**"
   ]
  },
  {
   "cell_type": "code",
   "execution_count": 8,
   "metadata": {
    "ExecuteTime": {
     "end_time": "2020-01-14T18:58:07.542878Z",
     "start_time": "2020-01-14T18:58:07.537226Z"
    }
   },
   "outputs": [],
   "source": [
    "X = nyc_schools.drop('Student Achievement Rating',\n",
    "                    axis=1).iloc[:, 2:]\n",
    "y = nyc_schools['Student Achievement Rating']"
   ]
  },
  {
   "cell_type": "markdown",
   "metadata": {},
   "source": [
    "**Encode categorical variables**"
   ]
  },
  {
   "cell_type": "code",
   "execution_count": 9,
   "metadata": {
    "ExecuteTime": {
     "end_time": "2020-01-14T18:58:21.726934Z",
     "start_time": "2020-01-14T18:58:21.697278Z"
    }
   },
   "outputs": [],
   "source": [
    "X = pd.get_dummies(X, drop_first=True)"
   ]
  },
  {
   "cell_type": "markdown",
   "metadata": {},
   "source": [
    "**Train-test split**"
   ]
  },
  {
   "cell_type": "code",
   "execution_count": 10,
   "metadata": {
    "ExecuteTime": {
     "end_time": "2020-01-14T18:58:23.915112Z",
     "start_time": "2020-01-14T18:58:23.903057Z"
    }
   },
   "outputs": [],
   "source": [
    "X_train, X_test, y_train, y_test = train_test_split(X, y, test_size=0.2,\n",
    "                                                    random_state=220)"
   ]
  },
  {
   "cell_type": "markdown",
   "metadata": {},
   "source": [
    "**Standardize variables**"
   ]
  },
  {
   "cell_type": "code",
   "execution_count": 11,
   "metadata": {
    "ExecuteTime": {
     "end_time": "2020-01-14T18:58:26.382241Z",
     "start_time": "2020-01-14T18:58:26.366673Z"
    }
   },
   "outputs": [],
   "source": [
    "scale = StandardScaler()\n",
    "X_train_scale = pd.DataFrame(scale.fit_transform(X_train),\n",
    "                             columns=X.columns)\n",
    "X_test_scale = pd.DataFrame(scale.transform(X_test),\n",
    "                            columns=X.columns)"
   ]
  },
  {
   "cell_type": "markdown",
   "metadata": {},
   "source": [
    "## Modeling"
   ]
  },
  {
   "cell_type": "markdown",
   "metadata": {},
   "source": [
    "### Random Forest"
   ]
  },
  {
   "cell_type": "code",
   "execution_count": 16,
   "metadata": {
    "ExecuteTime": {
     "end_time": "2020-01-13T19:37:27.736917Z",
     "start_time": "2020-01-13T19:37:27.693952Z"
    }
   },
   "outputs": [
    {
     "data": {
      "text/plain": [
       "RandomForestClassifier(bootstrap=True, class_weight=None, criterion='gini',\n",
       "                       max_depth=None, max_features='auto', max_leaf_nodes=None,\n",
       "                       min_impurity_decrease=0.0, min_impurity_split=None,\n",
       "                       min_samples_leaf=1, min_samples_split=2,\n",
       "                       min_weight_fraction_leaf=0.0, n_estimators=10,\n",
       "                       n_jobs=None, oob_score=False, random_state=220,\n",
       "                       verbose=0, warm_start=False)"
      ]
     },
     "execution_count": 16,
     "metadata": {},
     "output_type": "execute_result"
    }
   ],
   "source": [
    "# Vanilla Model\n",
    "rf_v = RandomForestClassifier(random_state=220)\n",
    "\n",
    "rf_v.fit(X_train, y_train)"
   ]
  },
  {
   "cell_type": "code",
   "execution_count": 17,
   "metadata": {
    "ExecuteTime": {
     "end_time": "2020-01-13T19:37:29.996437Z",
     "start_time": "2020-01-13T19:37:29.988598Z"
    }
   },
   "outputs": [
    {
     "data": {
      "text/plain": [
       "0.51171875"
      ]
     },
     "execution_count": 17,
     "metadata": {},
     "output_type": "execute_result"
    }
   ],
   "source": [
    "rf_v.score(X_test, y_test)"
   ]
  },
  {
   "cell_type": "markdown",
   "metadata": {},
   "source": [
    "**Tuning hyperparameters**"
   ]
  },
  {
   "cell_type": "code",
   "execution_count": 23,
   "metadata": {
    "ExecuteTime": {
     "end_time": "2020-01-13T19:53:09.201995Z",
     "start_time": "2020-01-13T19:53:09.198341Z"
    }
   },
   "outputs": [],
   "source": [
    "# parameter grid\n",
    "rf_grid = {'n_estimators': [120, 300, 500],\n",
    "           'min_samples_split': [2, 3, 4],\n",
    "           'min_samples_leaf': [1, 2, 3],\n",
    "           'max_features': ['log2', 'auto']}"
   ]
  },
  {
   "cell_type": "code",
   "execution_count": 204,
   "metadata": {
    "ExecuteTime": {
     "end_time": "2020-01-13T21:42:08.314884Z",
     "start_time": "2020-01-13T21:41:24.918461Z"
    }
   },
   "outputs": [
    {
     "name": "stdout",
     "output_type": "stream",
     "text": [
      "Fitting 5 folds for each of 54 candidates, totalling 270 fits\n"
     ]
    },
    {
     "name": "stderr",
     "output_type": "stream",
     "text": [
      "[Parallel(n_jobs=-1)]: Using backend LokyBackend with 8 concurrent workers.\n",
      "[Parallel(n_jobs=-1)]: Done  34 tasks      | elapsed:    5.7s\n",
      "[Parallel(n_jobs=-1)]: Done 184 tasks      | elapsed:   29.0s\n",
      "[Parallel(n_jobs=-1)]: Done 270 out of 270 | elapsed:   42.6s finished\n"
     ]
    },
    {
     "data": {
      "text/plain": [
       "GridSearchCV(cv=5, error_score='raise-deprecating',\n",
       "             estimator=RandomForestClassifier(bootstrap=True, class_weight=None,\n",
       "                                              criterion='gini', max_depth=None,\n",
       "                                              max_features='auto',\n",
       "                                              max_leaf_nodes=None,\n",
       "                                              min_impurity_decrease=0.0,\n",
       "                                              min_impurity_split=None,\n",
       "                                              min_samples_leaf=1,\n",
       "                                              min_samples_split=2,\n",
       "                                              min_weight_fraction_leaf=0.0,\n",
       "                                              n_estimators='warn', n_jobs=None,\n",
       "                                              oob_score=False, random_state=220,\n",
       "                                              verbose=0, warm_start=False),\n",
       "             iid='warn', n_jobs=-1,\n",
       "             param_grid={'max_features': ['log2', 'auto'],\n",
       "                         'min_samples_leaf': [1, 2, 3],\n",
       "                         'min_samples_split': [2, 3, 4],\n",
       "                         'n_estimators': [120, 300, 500]},\n",
       "             pre_dispatch='2*n_jobs', refit=True, return_train_score=False,\n",
       "             scoring='f1_micro', verbose=1)"
      ]
     },
     "execution_count": 204,
     "metadata": {},
     "output_type": "execute_result"
    }
   ],
   "source": [
    "rf_gs = GridSearchCV(estimator=RandomForestClassifier(random_state=220),\n",
    "                     param_grid=rf_grid,\n",
    "                     scoring='f1_micro',\n",
    "                     cv=5, verbose=1, n_jobs=-1)\n",
    "\n",
    "rf_gs.fit(X_train, y_train)"
   ]
  },
  {
   "cell_type": "code",
   "execution_count": 205,
   "metadata": {
    "ExecuteTime": {
     "end_time": "2020-01-13T21:42:08.367929Z",
     "start_time": "2020-01-13T21:42:08.317120Z"
    }
   },
   "outputs": [
    {
     "name": "stdout",
     "output_type": "stream",
     "text": [
      "Best params: {'max_features': 'log2', 'min_samples_leaf': 1, 'min_samples_split': 2, 'n_estimators': 300}\n",
      "Train score: 0.534\n",
      "Test score: 0.590\n"
     ]
    }
   ],
   "source": [
    "print('Best params:', rf_gs.best_params_)\n",
    "print('Train score: %.3f' % rf_gs.best_score_)\n",
    "print('Test score: %.3f' % rf_gs.score(X_test, y_test))"
   ]
  },
  {
   "cell_type": "markdown",
   "metadata": {},
   "source": [
    "### LightGBM"
   ]
  },
  {
   "cell_type": "code",
   "execution_count": 26,
   "metadata": {
    "ExecuteTime": {
     "end_time": "2020-01-13T20:11:36.528400Z",
     "start_time": "2020-01-13T20:11:36.203583Z"
    }
   },
   "outputs": [
    {
     "data": {
      "text/plain": [
       "LGBMClassifier(boosting_type='gbdt', class_weight=None, colsample_bytree=1.0,\n",
       "               importance_type='split', learning_rate=0.1, max_depth=-1,\n",
       "               min_child_samples=20, min_child_weight=0.001, min_split_gain=0.0,\n",
       "               n_estimators=100, n_jobs=-1, num_leaves=31, objective=None,\n",
       "               random_state=220, reg_alpha=0.0, reg_lambda=0.0, silent=True,\n",
       "               subsample=1.0, subsample_for_bin=200000, subsample_freq=0)"
      ]
     },
     "execution_count": 26,
     "metadata": {},
     "output_type": "execute_result"
    }
   ],
   "source": [
    "# Vanilla Model\n",
    "lgb_v = lgb.LGBMClassifier(random_state=220)\n",
    "\n",
    "lgb_v.fit(X_train, y_train)"
   ]
  },
  {
   "cell_type": "code",
   "execution_count": 27,
   "metadata": {
    "ExecuteTime": {
     "end_time": "2020-01-13T20:11:37.480739Z",
     "start_time": "2020-01-13T20:11:37.451144Z"
    }
   },
   "outputs": [
    {
     "data": {
      "text/plain": [
       "0.51171875"
      ]
     },
     "execution_count": 27,
     "metadata": {},
     "output_type": "execute_result"
    }
   ],
   "source": [
    "rf_v.score(X_test, y_test)"
   ]
  },
  {
   "cell_type": "markdown",
   "metadata": {},
   "source": [
    "**Tuning hyperparameters**"
   ]
  },
  {
   "cell_type": "code",
   "execution_count": 38,
   "metadata": {
    "ExecuteTime": {
     "end_time": "2020-01-13T21:47:28.980559Z",
     "start_time": "2020-01-13T21:47:28.976976Z"
    }
   },
   "outputs": [],
   "source": [
    "# parameter grid\n",
    "lgb_grid = {'learning_rate': [0.025, 0.015],\n",
    "            'max_depth': [15, 17, 20],\n",
    "            'min_child_weight': [7, 8, 9],\n",
    "            'subsample': [0.1, 0.3, 0.5]}"
   ]
  },
  {
   "cell_type": "code",
   "execution_count": 206,
   "metadata": {
    "ExecuteTime": {
     "end_time": "2020-01-13T21:47:31.603542Z",
     "start_time": "2020-01-13T21:47:29.638694Z"
    }
   },
   "outputs": [
    {
     "name": "stdout",
     "output_type": "stream",
     "text": [
      "Fitting 5 folds for each of 54 candidates, totalling 270 fits\n"
     ]
    },
    {
     "name": "stderr",
     "output_type": "stream",
     "text": [
      "[Parallel(n_jobs=-1)]: Using backend LokyBackend with 8 concurrent workers.\n",
      "[Parallel(n_jobs=-1)]: Done  34 tasks      | elapsed:    5.5s\n",
      "[Parallel(n_jobs=-1)]: Done 184 tasks      | elapsed:   24.7s\n",
      "[Parallel(n_jobs=-1)]: Done 270 out of 270 | elapsed:   36.1s finished\n"
     ]
    },
    {
     "data": {
      "text/plain": [
       "GridSearchCV(cv=5, error_score='raise-deprecating',\n",
       "             estimator=LGBMClassifier(boosting_type='gbdt', class_weight=None,\n",
       "                                      colsample_bytree=1.0,\n",
       "                                      importance_type='split',\n",
       "                                      learning_rate=0.1, max_depth=-1,\n",
       "                                      min_child_samples=20,\n",
       "                                      min_child_weight=0.001,\n",
       "                                      min_split_gain=0.0, n_estimators=100,\n",
       "                                      n_jobs=-1, num_leaves=31, objective=None,\n",
       "                                      random_state=220, reg_alpha=0.0,\n",
       "                                      reg_lambda=0.0, silent=True,\n",
       "                                      subsample=1.0, subsample_for_bin=200000,\n",
       "                                      subsample_freq=0),\n",
       "             iid='warn', n_jobs=-1,\n",
       "             param_grid={'learning_rate': [0.025, 0.015],\n",
       "                         'max_depth': [15, 17, 20],\n",
       "                         'min_child_weight': [7, 8, 9],\n",
       "                         'subsample': [0.1, 0.3, 0.5]},\n",
       "             pre_dispatch='2*n_jobs', refit=True, return_train_score=False,\n",
       "             scoring='f1_micro', verbose=1)"
      ]
     },
     "execution_count": 206,
     "metadata": {},
     "output_type": "execute_result"
    }
   ],
   "source": [
    "lgb_gs = GridSearchCV(estimator=lgb.LGBMClassifier(random_state=220),\n",
    "                      param_grid=lgb_grid,\n",
    "                      scoring='f1_micro',\n",
    "                      cv=5, verbose=1, n_jobs=-1)\n",
    "\n",
    "lgb_gs.fit(X_train, y_train)"
   ]
  },
  {
   "cell_type": "code",
   "execution_count": 207,
   "metadata": {
    "ExecuteTime": {
     "end_time": "2020-01-13T21:47:32.273430Z",
     "start_time": "2020-01-13T21:47:32.249178Z"
    }
   },
   "outputs": [
    {
     "name": "stdout",
     "output_type": "stream",
     "text": [
      "Best params: {'learning_rate': 0.025, 'max_depth': 17, 'min_child_weight': 8, 'subsample': 0.1}\n",
      "Train score: 0.529\n",
      "Test score: 0.562\n"
     ]
    }
   ],
   "source": [
    "print('Best params:', lgb_gs.best_params_)\n",
    "print('Train score: %.3f' % lgb_gs.best_score_)\n",
    "print('Test score: %.3f' % lgb_gs.score(X_test, y_test))"
   ]
  },
  {
   "cell_type": "markdown",
   "metadata": {},
   "source": [
    "### Logistic Regression"
   ]
  },
  {
   "cell_type": "code",
   "execution_count": 41,
   "metadata": {
    "ExecuteTime": {
     "end_time": "2020-01-13T20:11:36.528400Z",
     "start_time": "2020-01-13T20:11:36.203583Z"
    }
   },
   "outputs": [
    {
     "data": {
      "text/plain": [
       "LogisticRegression(C=1.0, class_weight=None, dual=False, fit_intercept=True,\n",
       "                   intercept_scaling=1, l1_ratio=None, max_iter=100,\n",
       "                   multi_class='warn', n_jobs=None, penalty='l2',\n",
       "                   random_state=220, solver='warn', tol=0.0001, verbose=0,\n",
       "                   warm_start=False)"
      ]
     },
     "execution_count": 41,
     "metadata": {},
     "output_type": "execute_result"
    }
   ],
   "source": [
    "# Vanilla Model\n",
    "log_v = LogisticRegression(random_state=220)\n",
    "\n",
    "log_v.fit(X_train_scale, y_train)"
   ]
  },
  {
   "cell_type": "code",
   "execution_count": 42,
   "metadata": {
    "ExecuteTime": {
     "end_time": "2020-01-13T20:11:37.480739Z",
     "start_time": "2020-01-13T20:11:37.451144Z"
    }
   },
   "outputs": [
    {
     "data": {
      "text/plain": [
       "0.57421875"
      ]
     },
     "execution_count": 42,
     "metadata": {},
     "output_type": "execute_result"
    }
   ],
   "source": [
    "log_v.score(X_test_scale, y_test)"
   ]
  },
  {
   "cell_type": "markdown",
   "metadata": {},
   "source": [
    "**Tuning hyperparameters**"
   ]
  },
  {
   "cell_type": "code",
   "execution_count": 218,
   "metadata": {
    "ExecuteTime": {
     "end_time": "2020-01-13T21:47:28.980559Z",
     "start_time": "2020-01-13T21:47:28.976976Z"
    }
   },
   "outputs": [],
   "source": [
    "# parameter grid\n",
    "log_grid = {'penalty': ['l1', 'l2'],\n",
    "           'C': [0.001, 0.01, 1]}"
   ]
  },
  {
   "cell_type": "code",
   "execution_count": 219,
   "metadata": {
    "ExecuteTime": {
     "end_time": "2020-01-13T21:47:31.603542Z",
     "start_time": "2020-01-13T21:47:29.638694Z"
    }
   },
   "outputs": [
    {
     "name": "stdout",
     "output_type": "stream",
     "text": [
      "Fitting 5 folds for each of 6 candidates, totalling 30 fits\n"
     ]
    },
    {
     "name": "stderr",
     "output_type": "stream",
     "text": [
      "[Parallel(n_jobs=-1)]: Using backend LokyBackend with 8 concurrent workers.\n",
      "[Parallel(n_jobs=-1)]: Done  15 out of  30 | elapsed:    0.1s remaining:    0.1s\n",
      "[Parallel(n_jobs=-1)]: Done  30 out of  30 | elapsed:    0.9s finished\n"
     ]
    },
    {
     "data": {
      "text/plain": [
       "GridSearchCV(cv=5, error_score='raise-deprecating',\n",
       "             estimator=LogisticRegression(C=1.0, class_weight=None, dual=False,\n",
       "                                          fit_intercept=True,\n",
       "                                          intercept_scaling=1, l1_ratio=None,\n",
       "                                          max_iter=100, multi_class='warn',\n",
       "                                          n_jobs=None, penalty='l2',\n",
       "                                          random_state=220, solver='warn',\n",
       "                                          tol=0.0001, verbose=0,\n",
       "                                          warm_start=False),\n",
       "             iid='warn', n_jobs=-1,\n",
       "             param_grid={'C': [0.001, 0.01, 1], 'penalty': ['l1', 'l2']},\n",
       "             pre_dispatch='2*n_jobs', refit=True, return_train_score=False,\n",
       "             scoring='f1_micro', verbose=1)"
      ]
     },
     "execution_count": 219,
     "metadata": {},
     "output_type": "execute_result"
    }
   ],
   "source": [
    "log_gs = GridSearchCV(estimator=LogisticRegression(random_state=220),\n",
    "                      param_grid=log_grid,\n",
    "                      scoring='f1_micro',\n",
    "                      cv=5, verbose=1, n_jobs=-1)\n",
    "\n",
    "log_gs.fit(X_train_scale, y_train)"
   ]
  },
  {
   "cell_type": "code",
   "execution_count": 220,
   "metadata": {
    "ExecuteTime": {
     "end_time": "2020-01-13T21:47:32.273430Z",
     "start_time": "2020-01-13T21:47:32.249178Z"
    }
   },
   "outputs": [
    {
     "name": "stdout",
     "output_type": "stream",
     "text": [
      "Best params: {'C': 0.01, 'penalty': 'l2'}\n",
      "Train score: 0.518\n",
      "Test score: 0.590\n"
     ]
    }
   ],
   "source": [
    "print('Best params:', log_gs.best_params_)\n",
    "print('Train score: %.3f' % log_gs.best_score_)\n",
    "print('Test score: %.3f' % log_gs.score(X_test_scale, y_test))"
   ]
  },
  {
   "cell_type": "markdown",
   "metadata": {},
   "source": [
    "### KNN"
   ]
  },
  {
   "cell_type": "code",
   "execution_count": 60,
   "metadata": {
    "ExecuteTime": {
     "end_time": "2020-01-13T20:11:36.528400Z",
     "start_time": "2020-01-13T20:11:36.203583Z"
    }
   },
   "outputs": [
    {
     "data": {
      "text/plain": [
       "KNeighborsClassifier(algorithm='auto', leaf_size=30, metric='minkowski',\n",
       "                     metric_params=None, n_jobs=None, n_neighbors=5, p=2,\n",
       "                     weights='uniform')"
      ]
     },
     "execution_count": 60,
     "metadata": {},
     "output_type": "execute_result"
    }
   ],
   "source": [
    "# Vanilla Model\n",
    "knn_v = KNeighborsClassifier()\n",
    "\n",
    "knn_v.fit(X_train_scale, y_train)"
   ]
  },
  {
   "cell_type": "code",
   "execution_count": 61,
   "metadata": {
    "ExecuteTime": {
     "end_time": "2020-01-13T20:11:37.480739Z",
     "start_time": "2020-01-13T20:11:37.451144Z"
    }
   },
   "outputs": [
    {
     "data": {
      "text/plain": [
       "0.453125"
      ]
     },
     "execution_count": 61,
     "metadata": {},
     "output_type": "execute_result"
    }
   ],
   "source": [
    "knn_v.score(X_test_scale, y_test)"
   ]
  },
  {
   "cell_type": "markdown",
   "metadata": {},
   "source": [
    "**Tuning hyperparameters**"
   ]
  },
  {
   "cell_type": "code",
   "execution_count": 75,
   "metadata": {
    "ExecuteTime": {
     "end_time": "2020-01-13T21:47:28.980559Z",
     "start_time": "2020-01-13T21:47:28.976976Z"
    }
   },
   "outputs": [],
   "source": [
    "# parameter grid\n",
    "knn_grid = {'n_neighbors': [34, 36, 38],\n",
    "           'p': [2, 3]}"
   ]
  },
  {
   "cell_type": "code",
   "execution_count": 210,
   "metadata": {
    "ExecuteTime": {
     "end_time": "2020-01-13T21:47:31.603542Z",
     "start_time": "2020-01-13T21:47:29.638694Z"
    }
   },
   "outputs": [
    {
     "name": "stderr",
     "output_type": "stream",
     "text": [
      "[Parallel(n_jobs=-1)]: Using backend LokyBackend with 8 concurrent workers.\n"
     ]
    },
    {
     "name": "stdout",
     "output_type": "stream",
     "text": [
      "Fitting 5 folds for each of 6 candidates, totalling 30 fits\n"
     ]
    },
    {
     "name": "stderr",
     "output_type": "stream",
     "text": [
      "[Parallel(n_jobs=-1)]: Done  15 out of  30 | elapsed:    0.4s remaining:    0.4s\n",
      "[Parallel(n_jobs=-1)]: Done  30 out of  30 | elapsed:    1.1s finished\n"
     ]
    },
    {
     "data": {
      "text/plain": [
       "GridSearchCV(cv=5, error_score='raise-deprecating',\n",
       "             estimator=KNeighborsClassifier(algorithm='auto', leaf_size=30,\n",
       "                                            metric='minkowski',\n",
       "                                            metric_params=None, n_jobs=None,\n",
       "                                            n_neighbors=5, p=2,\n",
       "                                            weights='uniform'),\n",
       "             iid='warn', n_jobs=-1,\n",
       "             param_grid={'n_neighbors': [34, 36, 38], 'p': [2, 3]},\n",
       "             pre_dispatch='2*n_jobs', refit=True, return_train_score=False,\n",
       "             scoring='f1_micro', verbose=1)"
      ]
     },
     "execution_count": 210,
     "metadata": {},
     "output_type": "execute_result"
    }
   ],
   "source": [
    "knn_gs = GridSearchCV(estimator=KNeighborsClassifier(),\n",
    "                     param_grid=knn_grid,\n",
    "                     scoring='f1_micro',\n",
    "                     cv=5, verbose=1, n_jobs=-1)\n",
    "\n",
    "knn_gs.fit(X_train_scale, y_train)"
   ]
  },
  {
   "cell_type": "code",
   "execution_count": 211,
   "metadata": {
    "ExecuteTime": {
     "end_time": "2020-01-13T21:47:32.273430Z",
     "start_time": "2020-01-13T21:47:32.249178Z"
    }
   },
   "outputs": [
    {
     "name": "stdout",
     "output_type": "stream",
     "text": [
      "Best params: {'n_neighbors': 36, 'p': 2}\n",
      "Train score: 0.504\n",
      "Test score: 0.531\n"
     ]
    }
   ],
   "source": [
    "print('Best params:', knn_gs.best_params_)\n",
    "print('Train score: %.3f' % knn_gs.best_score_)\n",
    "print('Test score: %.3f' % knn_gs.score(X_test_scale, y_test))"
   ]
  },
  {
   "cell_type": "markdown",
   "metadata": {},
   "source": [
    "### SVM"
   ]
  },
  {
   "cell_type": "code",
   "execution_count": 12,
   "metadata": {
    "ExecuteTime": {
     "end_time": "2020-01-14T18:58:47.017146Z",
     "start_time": "2020-01-14T18:58:46.659993Z"
    }
   },
   "outputs": [
    {
     "data": {
      "text/plain": [
       "SVC(C=1.0, cache_size=200, class_weight=None, coef0=0.0,\n",
       "    decision_function_shape='ovr', degree=3, gamma='auto_deprecated',\n",
       "    kernel='linear', max_iter=-1, probability=False, random_state=220,\n",
       "    shrinking=True, tol=0.001, verbose=False)"
      ]
     },
     "execution_count": 12,
     "metadata": {},
     "output_type": "execute_result"
    }
   ],
   "source": [
    "# Vanilla Model\n",
    "svm_v = SVC(kernel='linear', random_state=220)\n",
    "\n",
    "svm_v.fit(X_train_scale, y_train)"
   ]
  },
  {
   "cell_type": "code",
   "execution_count": 13,
   "metadata": {
    "ExecuteTime": {
     "end_time": "2020-01-14T18:58:48.282643Z",
     "start_time": "2020-01-14T18:58:48.258273Z"
    }
   },
   "outputs": [
    {
     "data": {
      "text/plain": [
       "0.58203125"
      ]
     },
     "execution_count": 13,
     "metadata": {},
     "output_type": "execute_result"
    }
   ],
   "source": [
    "svm_v.score(X_test_scale, y_test)"
   ]
  },
  {
   "cell_type": "markdown",
   "metadata": {},
   "source": [
    "**Tuning hyperparameters**"
   ]
  },
  {
   "cell_type": "code",
   "execution_count": 14,
   "metadata": {
    "ExecuteTime": {
     "end_time": "2020-01-14T18:58:56.750043Z",
     "start_time": "2020-01-14T18:58:56.746820Z"
    }
   },
   "outputs": [],
   "source": [
    "# parameter grid\n",
    "svm_grid = {'C': [0.01, 0.1, 0.5],\n",
    "           'class_weight': ['balanced', None],\n",
    "           'kernel': ['rbf', 'linear', 'poly']}"
   ]
  },
  {
   "cell_type": "code",
   "execution_count": 15,
   "metadata": {
    "ExecuteTime": {
     "end_time": "2020-01-14T18:59:03.332298Z",
     "start_time": "2020-01-14T18:58:59.105307Z"
    },
    "scrolled": true
   },
   "outputs": [
    {
     "name": "stdout",
     "output_type": "stream",
     "text": [
      "Fitting 5 folds for each of 18 candidates, totalling 90 fits\n"
     ]
    },
    {
     "name": "stderr",
     "output_type": "stream",
     "text": [
      "[Parallel(n_jobs=-1)]: Using backend LokyBackend with 8 concurrent workers.\n",
      "[Parallel(n_jobs=-1)]: Done  34 tasks      | elapsed:    3.0s\n",
      "[Parallel(n_jobs=-1)]: Done  90 out of  90 | elapsed:    4.0s finished\n"
     ]
    },
    {
     "data": {
      "text/plain": [
       "GridSearchCV(cv=5, error_score='raise-deprecating',\n",
       "             estimator=SVC(C=1.0, cache_size=200, class_weight=None, coef0=0.0,\n",
       "                           decision_function_shape='ovr', degree=3,\n",
       "                           gamma='auto_deprecated', kernel='rbf', max_iter=-1,\n",
       "                           probability=False, random_state=220, shrinking=True,\n",
       "                           tol=0.001, verbose=False),\n",
       "             iid='warn', n_jobs=-1,\n",
       "             param_grid={'C': [0.01, 0.1, 0.5],\n",
       "                         'class_weight': ['balanced', None],\n",
       "                         'kernel': ['rbf', 'linear', 'poly']},\n",
       "             pre_dispatch='2*n_jobs', refit=True, return_train_score=False,\n",
       "             scoring='f1_micro', verbose=1)"
      ]
     },
     "execution_count": 15,
     "metadata": {},
     "output_type": "execute_result"
    }
   ],
   "source": [
    "svm_gs = GridSearchCV(estimator=SVC(random_state=220),\n",
    "                     param_grid=svm_grid,\n",
    "                     scoring='f1_micro',\n",
    "                     cv=5, verbose=1, n_jobs=-1)\n",
    "\n",
    "svm_gs.fit(X_train_scale, y_train)"
   ]
  },
  {
   "cell_type": "code",
   "execution_count": 16,
   "metadata": {
    "ExecuteTime": {
     "end_time": "2020-01-14T18:59:04.600048Z",
     "start_time": "2020-01-14T18:59:04.574666Z"
    }
   },
   "outputs": [
    {
     "name": "stdout",
     "output_type": "stream",
     "text": [
      "Best params: {'C': 0.5, 'class_weight': None, 'kernel': 'linear'}\n",
      "Train score: 0.517\n",
      "Test score: 0.594\n"
     ]
    }
   ],
   "source": [
    "print('Best params:', svm_gs.best_params_)\n",
    "print('Train score: %.3f' % svm_gs.best_score_)\n",
    "print('Test score: %.3f' % svm_gs.score(X_test_scale, y_test))"
   ]
  },
  {
   "cell_type": "markdown",
   "metadata": {
    "heading_collapsed": true
   },
   "source": [
    "## Modeling with balanced classes"
   ]
  },
  {
   "cell_type": "code",
   "execution_count": 99,
   "metadata": {
    "ExecuteTime": {
     "end_time": "2020-01-13T20:31:18.157045Z",
     "start_time": "2020-01-13T20:31:18.154105Z"
    },
    "hidden": true
   },
   "outputs": [],
   "source": [
    "from sklearn.utils import resample\n",
    "from imblearn.over_sampling import SMOTE"
   ]
  },
  {
   "cell_type": "markdown",
   "metadata": {
    "hidden": true
   },
   "source": [
    "### Undersampling"
   ]
  },
  {
   "cell_type": "code",
   "execution_count": 121,
   "metadata": {
    "ExecuteTime": {
     "end_time": "2020-01-13T20:46:26.222066Z",
     "start_time": "2020-01-13T20:46:26.216187Z"
    },
    "hidden": true
   },
   "outputs": [
    {
     "data": {
      "text/plain": [
       "3    531\n",
       "2    358\n",
       "4    347\n",
       "1     40\n",
       "Name: Student Achievement Rating, dtype: int64"
      ]
     },
     "execution_count": 121,
     "metadata": {},
     "output_type": "execute_result"
    }
   ],
   "source": [
    "nyc_schools['Student Achievement Rating'].value_counts()"
   ]
  },
  {
   "cell_type": "code",
   "execution_count": 108,
   "metadata": {
    "ExecuteTime": {
     "end_time": "2020-01-13T20:38:23.685926Z",
     "start_time": "2020-01-13T20:38:23.672950Z"
    },
    "hidden": true
   },
   "outputs": [],
   "source": [
    "undersampled = resample(nyc_schools[nyc_schools['Student Achievement Rating']\n",
    "                                    != 3],\n",
    "                        replace=False,  # sample without replacement\n",
    "                        # match number in majority class\n",
    "                        n_samples=sum(nyc_schools['Student Achievement Rating']\n",
    "                                      == 3),\n",
    "                        random_state=220)  # reproducible results\n",
    "output_df = pd.concat([nyc_schools.loc[nyc_schools['Student Achievement Rating']\n",
    "                                       == 3],\n",
    "                       undersampled])"
   ]
  },
  {
   "cell_type": "code",
   "execution_count": 109,
   "metadata": {
    "ExecuteTime": {
     "end_time": "2020-01-13T20:38:24.788994Z",
     "start_time": "2020-01-13T20:38:24.783096Z"
    },
    "hidden": true,
    "scrolled": false
   },
   "outputs": [
    {
     "data": {
      "text/plain": [
       "3    531\n",
       "2    256\n",
       "4    242\n",
       "1     33\n",
       "Name: Student Achievement Rating, dtype: int64"
      ]
     },
     "execution_count": 109,
     "metadata": {},
     "output_type": "execute_result"
    }
   ],
   "source": [
    "output_df['Student Achievement Rating'].value_counts()"
   ]
  },
  {
   "cell_type": "code",
   "execution_count": 156,
   "metadata": {
    "ExecuteTime": {
     "end_time": "2020-01-13T21:29:21.242000Z",
     "start_time": "2020-01-13T21:29:21.236813Z"
    },
    "hidden": true
   },
   "outputs": [],
   "source": [
    "X_u = output_df.drop(columns='Student Achievement Rating',\n",
    "                          axis=1)\n",
    "y_u = output_df['Student Achievement Rating']"
   ]
  },
  {
   "cell_type": "code",
   "execution_count": 157,
   "metadata": {
    "ExecuteTime": {
     "end_time": "2020-01-13T21:29:22.629976Z",
     "start_time": "2020-01-13T21:29:22.595537Z"
    },
    "hidden": true
   },
   "outputs": [],
   "source": [
    "X_u = pd.get_dummies(X_u, drop_first=True)"
   ]
  },
  {
   "cell_type": "code",
   "execution_count": 163,
   "metadata": {
    "ExecuteTime": {
     "end_time": "2020-01-13T21:30:47.388012Z",
     "start_time": "2020-01-13T21:30:47.378659Z"
    },
    "hidden": true
   },
   "outputs": [],
   "source": [
    "X_train_u, X_test_u, y_train_u, y_test_u = train_test_split(X_u, y_u, test_size=0.2,\n",
    "                                                            random_state=220)"
   ]
  },
  {
   "cell_type": "code",
   "execution_count": 165,
   "metadata": {
    "ExecuteTime": {
     "end_time": "2020-01-13T21:30:51.111515Z",
     "start_time": "2020-01-13T21:30:51.046313Z"
    },
    "hidden": true,
    "scrolled": true
   },
   "outputs": [],
   "source": [
    "X_train_scale = pd.DataFrame(scale.fit_transform(X_train_u),\n",
    "                             columns=X_u.columns)\n",
    "X_test_scale = pd.DataFrame(scale.transform(X_test_u),\n",
    "                            columns=X_u.columns)"
   ]
  },
  {
   "cell_type": "markdown",
   "metadata": {
    "hidden": true
   },
   "source": [
    "### SVM"
   ]
  },
  {
   "cell_type": "code",
   "execution_count": 166,
   "metadata": {
    "ExecuteTime": {
     "end_time": "2020-01-13T21:30:57.059598Z",
     "start_time": "2020-01-13T21:30:53.307809Z"
    },
    "hidden": true
   },
   "outputs": [
    {
     "data": {
      "text/plain": [
       "SVC(C=1.0, cache_size=200, class_weight=None, coef0=0.0,\n",
       "    decision_function_shape='ovr', degree=3, gamma='auto_deprecated',\n",
       "    kernel='linear', max_iter=-1, probability=False, random_state=220,\n",
       "    shrinking=True, tol=0.001, verbose=False)"
      ]
     },
     "execution_count": 166,
     "metadata": {},
     "output_type": "execute_result"
    }
   ],
   "source": [
    "# Vanilla Model\n",
    "svm_v = SVC(kernel='linear', random_state=220)\n",
    "\n",
    "svm_v.fit(X_train_scale, y_train_u)"
   ]
  },
  {
   "cell_type": "code",
   "execution_count": 167,
   "metadata": {
    "ExecuteTime": {
     "end_time": "2020-01-13T21:30:58.586700Z",
     "start_time": "2020-01-13T21:30:58.053263Z"
    },
    "hidden": true
   },
   "outputs": [
    {
     "data": {
      "text/plain": [
       "0.49295774647887325"
      ]
     },
     "execution_count": 167,
     "metadata": {},
     "output_type": "execute_result"
    }
   ],
   "source": [
    "svm_v.score(X_test_scale, y_test_u)"
   ]
  },
  {
   "cell_type": "markdown",
   "metadata": {
    "hidden": true
   },
   "source": [
    "**Tuning hyperparameters**"
   ]
  },
  {
   "cell_type": "code",
   "execution_count": 171,
   "metadata": {
    "ExecuteTime": {
     "end_time": "2020-01-13T21:31:42.149000Z",
     "start_time": "2020-01-13T21:31:42.145778Z"
    },
    "hidden": true
   },
   "outputs": [],
   "source": [
    "# parameter grid\n",
    "svm_grid = {'C': [0.001, 0.005, 0.01],\n",
    "           'class_weight': ['balanced', None]}"
   ]
  },
  {
   "cell_type": "code",
   "execution_count": 172,
   "metadata": {
    "ExecuteTime": {
     "end_time": "2020-01-13T21:32:06.048680Z",
     "start_time": "2020-01-13T21:31:42.729985Z"
    },
    "hidden": true,
    "scrolled": true
   },
   "outputs": [
    {
     "name": "stdout",
     "output_type": "stream",
     "text": [
      "Fitting 5 folds for each of 6 candidates, totalling 30 fits\n"
     ]
    },
    {
     "name": "stderr",
     "output_type": "stream",
     "text": [
      "[Parallel(n_jobs=-1)]: Using backend LokyBackend with 8 concurrent workers.\n",
      "[Parallel(n_jobs=-1)]: Done  30 out of  30 | elapsed:   19.5s finished\n"
     ]
    },
    {
     "data": {
      "text/plain": [
       "GridSearchCV(cv=5, error_score='raise-deprecating',\n",
       "             estimator=SVC(C=1.0, cache_size=200, class_weight=None, coef0=0.0,\n",
       "                           decision_function_shape='ovr', degree=3,\n",
       "                           gamma='auto_deprecated', kernel='linear',\n",
       "                           max_iter=-1, probability=False, random_state=220,\n",
       "                           shrinking=True, tol=0.001, verbose=False),\n",
       "             iid='warn', n_jobs=-1,\n",
       "             param_grid={'C': [0.001, 0.01, 0.1],\n",
       "                         'class_weight': ['balanced', None]},\n",
       "             pre_dispatch='2*n_jobs', refit=True, return_train_score=False,\n",
       "             scoring='recall_micro', verbose=1)"
      ]
     },
     "execution_count": 172,
     "metadata": {},
     "output_type": "execute_result"
    }
   ],
   "source": [
    "svm_gs = GridSearchCV(estimator=SVC(kernel='linear', random_state=220),\n",
    "                     param_grid=svm_grid,\n",
    "                     scoring='recall_micro',\n",
    "                     cv=5, verbose=1, n_jobs=-1)\n",
    "\n",
    "svm_gs.fit(X_train_scale, y_train_u)"
   ]
  },
  {
   "cell_type": "code",
   "execution_count": 173,
   "metadata": {
    "ExecuteTime": {
     "end_time": "2020-01-13T21:32:06.624621Z",
     "start_time": "2020-01-13T21:32:06.051256Z"
    },
    "hidden": true,
    "scrolled": true
   },
   "outputs": [
    {
     "name": "stdout",
     "output_type": "stream",
     "text": [
      "Best params: {'C': 0.001, 'class_weight': 'balanced'}\n",
      "Train score: 0.535\n",
      "Test score: 0.516\n"
     ]
    }
   ],
   "source": [
    "print('Best params:', svm_gs.best_params_)\n",
    "print('Train score: %.3f' % svm_gs.best_score_)\n",
    "print('Test score: %.3f' % svm_gs.score(X_test_scale, y_test_u))"
   ]
  },
  {
   "cell_type": "markdown",
   "metadata": {
    "hidden": true
   },
   "source": [
    "### Oversampling"
   ]
  },
  {
   "cell_type": "code",
   "execution_count": 174,
   "metadata": {
    "ExecuteTime": {
     "end_time": "2020-01-13T21:32:06.638869Z",
     "start_time": "2020-01-13T21:32:06.626864Z"
    },
    "hidden": true
   },
   "outputs": [],
   "source": [
    "oversampled = resample(nyc_schools[nyc_schools['Student Achievement Rating']\n",
    "                                   != 1],\n",
    "                       replace=True,  # sample without replacement\n",
    "                       # match number in majority class\n",
    "                       n_samples=sum(nyc_schools['Student Achievement Rating']\n",
    "                                      == 1),\n",
    "                       random_state=220)  # reproducible results\n",
    "output_df_over = pd.concat([nyc_schools.loc[nyc_schools['Student Achievement Rating']\n",
    "                                            == 1],\n",
    "                            oversampled])\n",
    "X_train_o, y_train_o = output_df_over.drop(columns='Student Achievement Rating',\n",
    "                                           axis=1\n",
    "                                           ), output_df['Student Achievement Rating']"
   ]
  },
  {
   "cell_type": "code",
   "execution_count": 175,
   "metadata": {
    "ExecuteTime": {
     "end_time": "2020-01-13T21:32:06.649608Z",
     "start_time": "2020-01-13T21:32:06.642187Z"
    },
    "hidden": true,
    "scrolled": true
   },
   "outputs": [
    {
     "data": {
      "text/plain": [
       "1    40\n",
       "3    17\n",
       "4    14\n",
       "2     9\n",
       "Name: Student Achievement Rating, dtype: int64"
      ]
     },
     "execution_count": 175,
     "metadata": {},
     "output_type": "execute_result"
    }
   ],
   "source": [
    "output_df_over['Student Achievement Rating'].value_counts()"
   ]
  },
  {
   "cell_type": "code",
   "execution_count": 176,
   "metadata": {
    "ExecuteTime": {
     "end_time": "2020-01-13T21:32:06.656710Z",
     "start_time": "2020-01-13T21:32:06.651681Z"
    },
    "hidden": true
   },
   "outputs": [],
   "source": [
    "X_o = output_df.drop(columns='Student Achievement Rating',\n",
    "                          axis=1)\n",
    "y_o = output_df['Student Achievement Rating']"
   ]
  },
  {
   "cell_type": "code",
   "execution_count": 177,
   "metadata": {
    "ExecuteTime": {
     "end_time": "2020-01-13T21:32:07.437324Z",
     "start_time": "2020-01-13T21:32:06.659227Z"
    },
    "hidden": true
   },
   "outputs": [],
   "source": [
    "X_o = pd.get_dummies(X_u, drop_first=True)"
   ]
  },
  {
   "cell_type": "code",
   "execution_count": 178,
   "metadata": {
    "ExecuteTime": {
     "end_time": "2020-01-13T21:32:07.450085Z",
     "start_time": "2020-01-13T21:32:07.439313Z"
    },
    "hidden": true
   },
   "outputs": [],
   "source": [
    "X_train_o, X_test_o, y_train_o, y_test_o = train_test_split(X_o, y_o, test_size=0.2,\n",
    "                                                            random_state=220)"
   ]
  },
  {
   "cell_type": "code",
   "execution_count": 179,
   "metadata": {
    "ExecuteTime": {
     "end_time": "2020-01-13T21:32:07.519095Z",
     "start_time": "2020-01-13T21:32:07.452729Z"
    },
    "hidden": true
   },
   "outputs": [],
   "source": [
    "X_train_scale = pd.DataFrame(scale.fit_transform(X_train_o),\n",
    "                             columns=X_u.columns)\n",
    "X_test_scale = pd.DataFrame(scale.transform(X_test_o),\n",
    "                            columns=X_u.columns)"
   ]
  },
  {
   "cell_type": "markdown",
   "metadata": {
    "hidden": true
   },
   "source": [
    "### SVM"
   ]
  },
  {
   "cell_type": "code",
   "execution_count": 180,
   "metadata": {
    "ExecuteTime": {
     "end_time": "2020-01-13T21:32:24.698856Z",
     "start_time": "2020-01-13T21:32:20.970792Z"
    },
    "hidden": true
   },
   "outputs": [
    {
     "data": {
      "text/plain": [
       "SVC(C=1.0, cache_size=200, class_weight=None, coef0=0.0,\n",
       "    decision_function_shape='ovr', degree=3, gamma='auto_deprecated',\n",
       "    kernel='linear', max_iter=-1, probability=False, random_state=220,\n",
       "    shrinking=True, tol=0.001, verbose=False)"
      ]
     },
     "execution_count": 180,
     "metadata": {},
     "output_type": "execute_result"
    }
   ],
   "source": [
    "# Vanilla Model\n",
    "svm_v = SVC(kernel='linear', random_state=220)\n",
    "\n",
    "svm_v.fit(X_train_scale, y_train_o)"
   ]
  },
  {
   "cell_type": "code",
   "execution_count": 181,
   "metadata": {
    "ExecuteTime": {
     "end_time": "2020-01-13T21:32:25.250947Z",
     "start_time": "2020-01-13T21:32:24.701188Z"
    },
    "hidden": true
   },
   "outputs": [
    {
     "data": {
      "text/plain": [
       "0.49295774647887325"
      ]
     },
     "execution_count": 181,
     "metadata": {},
     "output_type": "execute_result"
    }
   ],
   "source": [
    "svm_v.score(X_test_scale, y_test_o)"
   ]
  },
  {
   "cell_type": "markdown",
   "metadata": {
    "hidden": true
   },
   "source": [
    "**Tuning hyperparameters**"
   ]
  },
  {
   "cell_type": "code",
   "execution_count": 191,
   "metadata": {
    "ExecuteTime": {
     "end_time": "2020-01-13T21:34:19.854117Z",
     "start_time": "2020-01-13T21:34:19.850904Z"
    },
    "hidden": true
   },
   "outputs": [],
   "source": [
    "# parameter grid\n",
    "svm_grid = {'C': [0.001, 0.005, 0.01],\n",
    "           'class_weight': ['balanced', None]}"
   ]
  },
  {
   "cell_type": "code",
   "execution_count": 192,
   "metadata": {
    "ExecuteTime": {
     "end_time": "2020-01-13T21:34:44.366950Z",
     "start_time": "2020-01-13T21:34:20.727855Z"
    },
    "hidden": true,
    "scrolled": true
   },
   "outputs": [
    {
     "name": "stdout",
     "output_type": "stream",
     "text": [
      "Fitting 5 folds for each of 6 candidates, totalling 30 fits\n"
     ]
    },
    {
     "name": "stderr",
     "output_type": "stream",
     "text": [
      "[Parallel(n_jobs=-1)]: Using backend LokyBackend with 8 concurrent workers.\n",
      "[Parallel(n_jobs=-1)]: Done  30 out of  30 | elapsed:   19.9s finished\n"
     ]
    },
    {
     "data": {
      "text/plain": [
       "GridSearchCV(cv=5, error_score='raise-deprecating',\n",
       "             estimator=SVC(C=1.0, cache_size=200, class_weight=None, coef0=0.0,\n",
       "                           decision_function_shape='ovr', degree=3,\n",
       "                           gamma='auto_deprecated', kernel='linear',\n",
       "                           max_iter=-1, probability=False, random_state=220,\n",
       "                           shrinking=True, tol=0.001, verbose=False),\n",
       "             iid='warn', n_jobs=-1,\n",
       "             param_grid={'C': [0.001, 0.005, 0.01],\n",
       "                         'class_weight': ['balanced', None]},\n",
       "             pre_dispatch='2*n_jobs', refit=True, return_train_score=False,\n",
       "             scoring='recall_micro', verbose=1)"
      ]
     },
     "execution_count": 192,
     "metadata": {},
     "output_type": "execute_result"
    }
   ],
   "source": [
    "svm_gs = GridSearchCV(estimator=SVC(kernel='linear', random_state=220),\n",
    "                     param_grid=svm_grid,\n",
    "                     scoring='recall_micro',\n",
    "                     cv=5, verbose=1, n_jobs=-1)\n",
    "\n",
    "svm_gs.fit(X_train_scale, y_train_o)"
   ]
  },
  {
   "cell_type": "code",
   "execution_count": 193,
   "metadata": {
    "ExecuteTime": {
     "end_time": "2020-01-13T21:34:44.925463Z",
     "start_time": "2020-01-13T21:34:44.369050Z"
    },
    "hidden": true,
    "scrolled": true
   },
   "outputs": [
    {
     "name": "stdout",
     "output_type": "stream",
     "text": [
      "Best params: {'C': 0.001, 'class_weight': 'balanced'}\n",
      "Train score: 0.535\n",
      "Test score: 0.516\n"
     ]
    }
   ],
   "source": [
    "print('Best params:', svm_gs.best_params_)\n",
    "print('Train score: %.3f' % svm_gs.best_score_)\n",
    "print('Test score: %.3f' % svm_gs.score(X_test_scale, y_test_o))"
   ]
  },
  {
   "cell_type": "markdown",
   "metadata": {
    "hidden": true
   },
   "source": [
    "### SMOTE"
   ]
  },
  {
   "cell_type": "code",
   "execution_count": 139,
   "metadata": {
    "ExecuteTime": {
     "end_time": "2020-01-13T21:32:06.638869Z",
     "start_time": "2020-01-13T21:32:06.626864Z"
    },
    "hidden": true
   },
   "outputs": [],
   "source": [
    "sm_model = SMOTE(sampling_strategy='minority',\n",
    "                 random_state=220)\n",
    "X_train_s, y_train_s = sm_model.fit_sample(X_train_scale, y_train)"
   ]
  },
  {
   "cell_type": "markdown",
   "metadata": {
    "hidden": true
   },
   "source": [
    "### SVM"
   ]
  },
  {
   "cell_type": "code",
   "execution_count": 140,
   "metadata": {
    "ExecuteTime": {
     "end_time": "2020-01-13T21:30:57.059598Z",
     "start_time": "2020-01-13T21:30:53.307809Z"
    },
    "hidden": true
   },
   "outputs": [
    {
     "data": {
      "text/plain": [
       "SVC(C=1.0, cache_size=200, class_weight=None, coef0=0.0,\n",
       "    decision_function_shape='ovr', degree=3, gamma='auto_deprecated',\n",
       "    kernel='linear', max_iter=-1, probability=False, random_state=220,\n",
       "    shrinking=True, tol=0.001, verbose=False)"
      ]
     },
     "execution_count": 140,
     "metadata": {},
     "output_type": "execute_result"
    }
   ],
   "source": [
    "# Vanilla Model\n",
    "svm_v = SVC(kernel='linear', random_state=220)\n",
    "\n",
    "svm_v.fit(X_train_s, y_train_s)"
   ]
  },
  {
   "cell_type": "code",
   "execution_count": 141,
   "metadata": {
    "ExecuteTime": {
     "end_time": "2020-01-13T21:30:58.586700Z",
     "start_time": "2020-01-13T21:30:58.053263Z"
    },
    "hidden": true
   },
   "outputs": [
    {
     "data": {
      "text/plain": [
       "0.5390625"
      ]
     },
     "execution_count": 141,
     "metadata": {},
     "output_type": "execute_result"
    }
   ],
   "source": [
    "svm_v.score(X_test_scale, y_test)"
   ]
  },
  {
   "cell_type": "markdown",
   "metadata": {
    "hidden": true
   },
   "source": [
    "**Tuning hyperparameters**"
   ]
  },
  {
   "cell_type": "code",
   "execution_count": 153,
   "metadata": {
    "ExecuteTime": {
     "end_time": "2020-01-13T21:31:42.149000Z",
     "start_time": "2020-01-13T21:31:42.145778Z"
    },
    "hidden": true
   },
   "outputs": [],
   "source": [
    "# parameter grid\n",
    "svm_grid = {'C': [5, 10, 20],\n",
    "           'class_weight': ['balanced', None]}"
   ]
  },
  {
   "cell_type": "code",
   "execution_count": 154,
   "metadata": {
    "ExecuteTime": {
     "end_time": "2020-01-13T21:32:06.048680Z",
     "start_time": "2020-01-13T21:31:42.729985Z"
    },
    "hidden": true,
    "scrolled": true
   },
   "outputs": [
    {
     "name": "stdout",
     "output_type": "stream",
     "text": [
      "Fitting 5 folds for each of 6 candidates, totalling 30 fits\n"
     ]
    },
    {
     "name": "stderr",
     "output_type": "stream",
     "text": [
      "[Parallel(n_jobs=-1)]: Using backend LokyBackend with 8 concurrent workers.\n",
      "[Parallel(n_jobs=-1)]: Done  30 out of  30 | elapsed:   27.9s finished\n"
     ]
    },
    {
     "data": {
      "text/plain": [
       "GridSearchCV(cv=5, error_score='raise-deprecating',\n",
       "             estimator=SVC(C=1.0, cache_size=200, class_weight=None, coef0=0.0,\n",
       "                           decision_function_shape='ovr', degree=3,\n",
       "                           gamma='auto_deprecated', kernel='linear',\n",
       "                           max_iter=-1, probability=False, random_state=220,\n",
       "                           shrinking=True, tol=0.001, verbose=False),\n",
       "             iid='warn', n_jobs=-1,\n",
       "             param_grid={'C': [5, 10, 20], 'class_weight': ['balanced', None]},\n",
       "             pre_dispatch='2*n_jobs', refit=True, return_train_score=False,\n",
       "             scoring='recall_micro', verbose=1)"
      ]
     },
     "execution_count": 154,
     "metadata": {},
     "output_type": "execute_result"
    }
   ],
   "source": [
    "svm_gs = GridSearchCV(estimator=SVC(kernel='linear', random_state=220),\n",
    "                     param_grid=svm_grid,\n",
    "                     scoring='recall_micro',\n",
    "                     cv=5, verbose=1, n_jobs=-1)\n",
    "\n",
    "svm_gs.fit(X_train_s, y_train_s)"
   ]
  },
  {
   "cell_type": "code",
   "execution_count": 155,
   "metadata": {
    "ExecuteTime": {
     "end_time": "2020-01-13T21:32:06.624621Z",
     "start_time": "2020-01-13T21:32:06.051256Z"
    },
    "hidden": true
   },
   "outputs": [
    {
     "name": "stdout",
     "output_type": "stream",
     "text": [
      "Best params: {'C': 10, 'class_weight': None}\n",
      "Train score: 0.641\n",
      "Test score: 0.547\n"
     ]
    }
   ],
   "source": [
    "print('Best params:', svm_gs.best_params_)\n",
    "print('Train score: %.3f' % svm_gs.best_score_)\n",
    "print('Test score: %.3f' % svm_gs.score(X_test_scale, y_test))"
   ]
  },
  {
   "cell_type": "markdown",
   "metadata": {},
   "source": [
    "## Findings"
   ]
  },
  {
   "cell_type": "code",
   "execution_count": 17,
   "metadata": {
    "ExecuteTime": {
     "end_time": "2020-01-14T18:59:11.763286Z",
     "start_time": "2020-01-14T18:59:11.750969Z"
    },
    "scrolled": true
   },
   "outputs": [
    {
     "data": {
      "text/plain": [
       "array([-4.73018381e-01, -1.45318580e-01, -8.96877068e-02, -3.02415008e-01,\n",
       "        1.49335269e-01,  8.65988148e-02,  3.30389850e-01,  3.28626443e-02,\n",
       "       -2.30741517e-01, -5.40368810e-01,  1.98860590e-01, -4.92866396e-03,\n",
       "       -2.64893857e-01, -3.79053251e-01,  2.74759351e-02,  5.79614319e-02,\n",
       "        2.39510239e-01, -4.56401952e-01,  2.35774056e-01, -2.43315519e-01,\n",
       "       -2.40624743e-01, -4.48404243e-02, -2.72438432e-01,  6.16450047e-02,\n",
       "       -6.17384178e-01, -2.62124816e-01, -4.17254457e-02,  3.04247340e-01,\n",
       "        1.45005506e-01, -2.17288080e-01, -2.06371642e-01,  3.81384079e-02,\n",
       "       -1.23587407e-01,  5.25391689e-01, -1.09413456e-01, -1.45626836e-01,\n",
       "        8.88178420e-16,  7.58013985e-02, -2.22044605e-16,  0.00000000e+00,\n",
       "       -1.38576378e-01, -3.63122491e-01, -3.76021548e-01, -2.96599585e-01,\n",
       "       -2.38613965e-01, -1.49179300e-01, -5.41401322e-02, -2.70765913e-01,\n",
       "       -2.09949002e-02, -2.53765538e-02,  8.25403558e-02, -1.28937212e-01,\n",
       "       -3.17293104e-03,  8.15651919e-02,  1.25345304e-02, -1.30656021e-02,\n",
       "       -3.86774493e-02,  3.40704280e-02, -5.22671888e-02,  4.44089210e-16,\n",
       "       -1.26390276e-01, -1.17062823e-01, -1.40923503e-01,  2.86594568e-01,\n",
       "       -1.08609576e-01, -1.12219187e-01, -1.90307994e-01, -5.11170225e-02,\n",
       "        4.54908227e-02, -9.84186704e-02, -1.47029550e-01, -1.48458704e-01])"
      ]
     },
     "execution_count": 17,
     "metadata": {},
     "output_type": "execute_result"
    }
   ],
   "source": [
    "svm_gs.best_estimator_.coef_[0]"
   ]
  },
  {
   "cell_type": "code",
   "execution_count": 18,
   "metadata": {
    "ExecuteTime": {
     "end_time": "2020-01-14T18:59:13.289623Z",
     "start_time": "2020-01-14T18:59:13.271360Z"
    },
    "scrolled": true
   },
   "outputs": [
    {
     "data": {
      "text/html": [
       "<div>\n",
       "<style scoped>\n",
       "    .dataframe tbody tr th:only-of-type {\n",
       "        vertical-align: middle;\n",
       "    }\n",
       "\n",
       "    .dataframe tbody tr th {\n",
       "        vertical-align: top;\n",
       "    }\n",
       "\n",
       "    .dataframe thead th {\n",
       "        text-align: right;\n",
       "    }\n",
       "</style>\n",
       "<table border=\"1\" class=\"dataframe\">\n",
       "  <thead>\n",
       "    <tr style=\"text-align: right;\">\n",
       "      <th></th>\n",
       "      <th>Feature</th>\n",
       "      <th>Coefficient</th>\n",
       "      <th>Absolute Coefficient</th>\n",
       "    </tr>\n",
       "  </thead>\n",
       "  <tbody>\n",
       "    <tr>\n",
       "      <th>24</th>\n",
       "      <td>Student Attendance Rate</td>\n",
       "      <td>-0.617384</td>\n",
       "      <td>0.617384</td>\n",
       "    </tr>\n",
       "    <tr>\n",
       "      <th>9</th>\n",
       "      <td>Identifying, tracking, and meeting goals</td>\n",
       "      <td>-0.540369</td>\n",
       "      <td>0.540369</td>\n",
       "    </tr>\n",
       "    <tr>\n",
       "      <th>33</th>\n",
       "      <td>Borough_Manhattan</td>\n",
       "      <td>0.525392</td>\n",
       "      <td>0.525392</td>\n",
       "    </tr>\n",
       "    <tr>\n",
       "      <th>0</th>\n",
       "      <td>Enrollment</td>\n",
       "      <td>-0.473018</td>\n",
       "      <td>0.473018</td>\n",
       "    </tr>\n",
       "    <tr>\n",
       "      <th>17</th>\n",
       "      <td>Percent HRA Eligible</td>\n",
       "      <td>-0.456402</td>\n",
       "      <td>0.456402</td>\n",
       "    </tr>\n",
       "    <tr>\n",
       "      <th>13</th>\n",
       "      <td>Percent Students with Disabilities</td>\n",
       "      <td>-0.379053</td>\n",
       "      <td>0.379053</td>\n",
       "    </tr>\n",
       "    <tr>\n",
       "      <th>42</th>\n",
       "      <td>District_03</td>\n",
       "      <td>-0.376022</td>\n",
       "      <td>0.376022</td>\n",
       "    </tr>\n",
       "    <tr>\n",
       "      <th>41</th>\n",
       "      <td>District_02</td>\n",
       "      <td>-0.363122</td>\n",
       "      <td>0.363122</td>\n",
       "    </tr>\n",
       "    <tr>\n",
       "      <th>6</th>\n",
       "      <td>Teacher collaboration</td>\n",
       "      <td>0.330390</td>\n",
       "      <td>0.330390</td>\n",
       "    </tr>\n",
       "    <tr>\n",
       "      <th>27</th>\n",
       "      <td>Collaborative Teachers Score</td>\n",
       "      <td>0.304247</td>\n",
       "      <td>0.304247</td>\n",
       "    </tr>\n",
       "  </tbody>\n",
       "</table>\n",
       "</div>"
      ],
      "text/plain": [
       "                                     Feature  Coefficient  \\\n",
       "24                   Student Attendance Rate    -0.617384   \n",
       "9   Identifying, tracking, and meeting goals    -0.540369   \n",
       "33                         Borough_Manhattan     0.525392   \n",
       "0                                 Enrollment    -0.473018   \n",
       "17                      Percent HRA Eligible    -0.456402   \n",
       "13        Percent Students with Disabilities    -0.379053   \n",
       "42                               District_03    -0.376022   \n",
       "41                               District_02    -0.363122   \n",
       "6                      Teacher collaboration     0.330390   \n",
       "27              Collaborative Teachers Score     0.304247   \n",
       "\n",
       "    Absolute Coefficient  \n",
       "24              0.617384  \n",
       "9               0.540369  \n",
       "33              0.525392  \n",
       "0               0.473018  \n",
       "17              0.456402  \n",
       "13              0.379053  \n",
       "42              0.376022  \n",
       "41              0.363122  \n",
       "6               0.330390  \n",
       "27              0.304247  "
      ]
     },
     "execution_count": 18,
     "metadata": {},
     "output_type": "execute_result"
    }
   ],
   "source": [
    "# create a DataFrame of the features and coefficients \n",
    "svm_feat_imp = pd.DataFrame(zip(X_train_scale.columns,\n",
    "                                svm_gs.best_estimator_.coef_[0],\n",
    "                                np.abs(svm_gs.best_estimator_.coef_[0])),\n",
    "                            columns=['Feature', 'Coefficient',\n",
    "                                     'Absolute Coefficient'])\n",
    "\n",
    "# sort values by the absolute coefficient\n",
    "svm_feat_imp.sort_values(by=['Absolute Coefficient'],\n",
    "                         ascending=False, inplace=True)\n",
    "\n",
    "svm_feat_imp.head(10)"
   ]
  },
  {
   "cell_type": "code",
   "execution_count": null,
   "metadata": {},
   "outputs": [],
   "source": []
  }
 ],
 "metadata": {
  "kernelspec": {
   "display_name": "Python 3",
   "language": "python",
   "name": "python3"
  },
  "language_info": {
   "codemirror_mode": {
    "name": "ipython",
    "version": 3
   },
   "file_extension": ".py",
   "mimetype": "text/x-python",
   "name": "python",
   "nbconvert_exporter": "python",
   "pygments_lexer": "ipython3",
   "version": "3.7.3"
  },
  "toc": {
   "base_numbering": 1,
   "nav_menu": {},
   "number_sections": true,
   "sideBar": true,
   "skip_h1_title": false,
   "title_cell": "Table of Contents",
   "title_sidebar": "Contents",
   "toc_cell": false,
   "toc_position": {},
   "toc_section_display": true,
   "toc_window_display": false
  }
 },
 "nbformat": 4,
 "nbformat_minor": 2
}
