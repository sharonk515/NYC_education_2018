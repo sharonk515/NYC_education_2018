{
 "cells": [
  {
   "cell_type": "markdown",
   "metadata": {},
   "source": [
    "# Classification - How does a school's environment affect students' Math and ELA Assessment Scores?\n",
    "\n",
    "Predict whether a school will not meet (1), approach (2), meet (3), or exceed (4) target"
   ]
  },
  {
   "cell_type": "markdown",
   "metadata": {},
   "source": [
    "## Data Preprocessing"
   ]
  },
  {
   "cell_type": "markdown",
   "metadata": {},
   "source": [
    "**Import Packages**"
   ]
  },
  {
   "cell_type": "code",
   "execution_count": 1,
   "metadata": {
    "ExecuteTime": {
     "end_time": "2020-01-13T19:06:44.033642Z",
     "start_time": "2020-01-13T19:06:42.897049Z"
    }
   },
   "outputs": [
    {
     "name": "stderr",
     "output_type": "stream",
     "text": [
      "/Users/sharonkwak/anaconda3/lib/python3.7/importlib/_bootstrap.py:219: RuntimeWarning: numpy.ufunc size changed, may indicate binary incompatibility. Expected 192 from C header, got 216 from PyObject\n",
      "  return f(*args, **kwds)\n",
      "/Users/sharonkwak/anaconda3/lib/python3.7/importlib/_bootstrap.py:219: RuntimeWarning: numpy.ufunc size changed, may indicate binary incompatibility. Expected 192 from C header, got 216 from PyObject\n",
      "  return f(*args, **kwds)\n"
     ]
    }
   ],
   "source": [
    "import pandas as pd\n",
    "import numpy as np\n",
    "\n",
    "import warnings\n",
    "warnings.filterwarnings('ignore')\n",
    "warnings.filterwarnings('ignore', message='numpy.dtype size changed')\n",
    "\n",
    "# libraries for cleaning and preprocessing data\n",
    "from sklearn.preprocessing import StandardScaler\n",
    "\n",
    "# libraries for modeling\n",
    "from sklearn.model_selection import train_test_split\n",
    "from sklearn.model_selection import GridSearchCV\n",
    "from sklearn.ensemble import RandomForestClassifier\n",
    "from sklearn.linear_model import LogisticRegression\n",
    "from sklearn.neighbors import KNeighborsClassifier\n",
    "from sklearn.svm import SVC\n",
    "import lightgbm as lgb\n",
    "\n",
    "# libraries for evaluating models\n",
    "from sklearn.metrics import classification_report\n",
    "from sklearn.metrics import confusion_matrix\n",
    "from sklearn.metrics import roc_curve, roc_auc_score\n",
    "\n",
    "# libraries for visualizations\n",
    "import matplotlib.pyplot as plt\n",
    "import seaborn as sns\n",
    "%matplotlib inline"
   ]
  },
  {
   "cell_type": "markdown",
   "metadata": {},
   "source": [
    "**Read Data**"
   ]
  },
  {
   "cell_type": "code",
   "execution_count": 2,
   "metadata": {
    "ExecuteTime": {
     "end_time": "2020-01-13T19:06:53.399191Z",
     "start_time": "2020-01-13T19:06:53.299552Z"
    },
    "scrolled": true
   },
   "outputs": [
    {
     "data": {
      "text/html": [
       "<div>\n",
       "<style scoped>\n",
       "    .dataframe tbody tr th:only-of-type {\n",
       "        vertical-align: middle;\n",
       "    }\n",
       "\n",
       "    .dataframe tbody tr th {\n",
       "        vertical-align: top;\n",
       "    }\n",
       "\n",
       "    .dataframe thead th {\n",
       "        text-align: right;\n",
       "    }\n",
       "</style>\n",
       "<table border=\"1\" class=\"dataframe\">\n",
       "  <thead>\n",
       "    <tr style=\"text-align: right;\">\n",
       "      <th></th>\n",
       "      <th>DBN</th>\n",
       "      <th>School Name</th>\n",
       "      <th>Enrollment</th>\n",
       "      <th>Supportive Environment Rating</th>\n",
       "      <th>Student Achievement Rating</th>\n",
       "      <th>Interesting and challenging curriculum</th>\n",
       "      <th>Effective teaching and learning</th>\n",
       "      <th>Effective school assessment</th>\n",
       "      <th>Clear communication - high expectations</th>\n",
       "      <th>Teacher collaboration</th>\n",
       "      <th>...</th>\n",
       "      <th>Student Attendance Rate</th>\n",
       "      <th>Percent of Students Chronically Absent</th>\n",
       "      <th>Teacher Attendance Rate</th>\n",
       "      <th>Collaborative Teachers Score</th>\n",
       "      <th>Effective School Leadership Score</th>\n",
       "      <th>Rigorous Instruction Score</th>\n",
       "      <th>Strong Family-Community Ties Score</th>\n",
       "      <th>Trust Score</th>\n",
       "      <th>Borough</th>\n",
       "      <th>District</th>\n",
       "    </tr>\n",
       "  </thead>\n",
       "  <tbody>\n",
       "    <tr>\n",
       "      <th>0</th>\n",
       "      <td>01M015</td>\n",
       "      <td>P.S. 015 Roberto Clemente</td>\n",
       "      <td>173</td>\n",
       "      <td>4</td>\n",
       "      <td>4</td>\n",
       "      <td>4</td>\n",
       "      <td>3</td>\n",
       "      <td>3</td>\n",
       "      <td>3</td>\n",
       "      <td>3</td>\n",
       "      <td>...</td>\n",
       "      <td>0.939</td>\n",
       "      <td>0.186</td>\n",
       "      <td>0.985</td>\n",
       "      <td>4.12</td>\n",
       "      <td>4.09</td>\n",
       "      <td>3.91</td>\n",
       "      <td>3.80</td>\n",
       "      <td>3.99</td>\n",
       "      <td>Manhattan</td>\n",
       "      <td>01M</td>\n",
       "    </tr>\n",
       "    <tr>\n",
       "      <th>1</th>\n",
       "      <td>01M019</td>\n",
       "      <td>P.S. 019 Asher Levy</td>\n",
       "      <td>244</td>\n",
       "      <td>3</td>\n",
       "      <td>4</td>\n",
       "      <td>4</td>\n",
       "      <td>4</td>\n",
       "      <td>4</td>\n",
       "      <td>4</td>\n",
       "      <td>4</td>\n",
       "      <td>...</td>\n",
       "      <td>0.914</td>\n",
       "      <td>0.353</td>\n",
       "      <td>0.968</td>\n",
       "      <td>4.27</td>\n",
       "      <td>4.25</td>\n",
       "      <td>4.64</td>\n",
       "      <td>4.10</td>\n",
       "      <td>3.55</td>\n",
       "      <td>Manhattan</td>\n",
       "      <td>01M</td>\n",
       "    </tr>\n",
       "    <tr>\n",
       "      <th>2</th>\n",
       "      <td>01M020</td>\n",
       "      <td>P.S. 020 Anna Silver</td>\n",
       "      <td>463</td>\n",
       "      <td>2</td>\n",
       "      <td>2</td>\n",
       "      <td>2</td>\n",
       "      <td>2</td>\n",
       "      <td>2</td>\n",
       "      <td>3</td>\n",
       "      <td>2</td>\n",
       "      <td>...</td>\n",
       "      <td>0.930</td>\n",
       "      <td>0.274</td>\n",
       "      <td>0.967</td>\n",
       "      <td>2.76</td>\n",
       "      <td>3.04</td>\n",
       "      <td>1.94</td>\n",
       "      <td>3.64</td>\n",
       "      <td>3.12</td>\n",
       "      <td>Manhattan</td>\n",
       "      <td>01M</td>\n",
       "    </tr>\n",
       "    <tr>\n",
       "      <th>3</th>\n",
       "      <td>01M034</td>\n",
       "      <td>P.S. 034 Franklin D. Roosevelt</td>\n",
       "      <td>320</td>\n",
       "      <td>2</td>\n",
       "      <td>2</td>\n",
       "      <td>2</td>\n",
       "      <td>2</td>\n",
       "      <td>2</td>\n",
       "      <td>3</td>\n",
       "      <td>3</td>\n",
       "      <td>...</td>\n",
       "      <td>0.901</td>\n",
       "      <td>0.391</td>\n",
       "      <td>0.976</td>\n",
       "      <td>2.40</td>\n",
       "      <td>2.45</td>\n",
       "      <td>2.04</td>\n",
       "      <td>3.33</td>\n",
       "      <td>2.32</td>\n",
       "      <td>Manhattan</td>\n",
       "      <td>01M</td>\n",
       "    </tr>\n",
       "    <tr>\n",
       "      <th>4</th>\n",
       "      <td>01M063</td>\n",
       "      <td>The STAR Academy - P.S.63</td>\n",
       "      <td>177</td>\n",
       "      <td>3</td>\n",
       "      <td>4</td>\n",
       "      <td>4</td>\n",
       "      <td>3</td>\n",
       "      <td>4</td>\n",
       "      <td>3</td>\n",
       "      <td>4</td>\n",
       "      <td>...</td>\n",
       "      <td>0.927</td>\n",
       "      <td>0.261</td>\n",
       "      <td>0.980</td>\n",
       "      <td>4.53</td>\n",
       "      <td>4.07</td>\n",
       "      <td>4.14</td>\n",
       "      <td>4.01</td>\n",
       "      <td>3.95</td>\n",
       "      <td>Manhattan</td>\n",
       "      <td>01M</td>\n",
       "    </tr>\n",
       "  </tbody>\n",
       "</table>\n",
       "<p>5 rows × 37 columns</p>\n",
       "</div>"
      ],
      "text/plain": [
       "      DBN                     School Name  Enrollment  \\\n",
       "0  01M015       P.S. 015 Roberto Clemente         173   \n",
       "1  01M019             P.S. 019 Asher Levy         244   \n",
       "2  01M020            P.S. 020 Anna Silver         463   \n",
       "3  01M034  P.S. 034 Franklin D. Roosevelt         320   \n",
       "4  01M063       The STAR Academy - P.S.63         177   \n",
       "\n",
       "   Supportive Environment Rating  Student Achievement Rating  \\\n",
       "0                              4                           4   \n",
       "1                              3                           4   \n",
       "2                              2                           2   \n",
       "3                              2                           2   \n",
       "4                              3                           4   \n",
       "\n",
       "   Interesting and challenging curriculum  Effective teaching and learning  \\\n",
       "0                                       4                                3   \n",
       "1                                       4                                4   \n",
       "2                                       2                                2   \n",
       "3                                       2                                2   \n",
       "4                                       4                                3   \n",
       "\n",
       "   Effective school assessment  Clear communication - high expectations  \\\n",
       "0                            3                                        3   \n",
       "1                            4                                        4   \n",
       "2                            2                                        3   \n",
       "3                            2                                        3   \n",
       "4                            4                                        3   \n",
       "\n",
       "   Teacher collaboration  ...  Student Attendance Rate  \\\n",
       "0                      3  ...                    0.939   \n",
       "1                      4  ...                    0.914   \n",
       "2                      2  ...                    0.930   \n",
       "3                      3  ...                    0.901   \n",
       "4                      4  ...                    0.927   \n",
       "\n",
       "   Percent of Students Chronically Absent  Teacher Attendance Rate  \\\n",
       "0                                   0.186                    0.985   \n",
       "1                                   0.353                    0.968   \n",
       "2                                   0.274                    0.967   \n",
       "3                                   0.391                    0.976   \n",
       "4                                   0.261                    0.980   \n",
       "\n",
       "   Collaborative Teachers Score  Effective School Leadership Score  \\\n",
       "0                          4.12                               4.09   \n",
       "1                          4.27                               4.25   \n",
       "2                          2.76                               3.04   \n",
       "3                          2.40                               2.45   \n",
       "4                          4.53                               4.07   \n",
       "\n",
       "   Rigorous Instruction Score  Strong Family-Community Ties Score  \\\n",
       "0                        3.91                                3.80   \n",
       "1                        4.64                                4.10   \n",
       "2                        1.94                                3.64   \n",
       "3                        2.04                                3.33   \n",
       "4                        4.14                                4.01   \n",
       "\n",
       "   Trust Score    Borough  District  \n",
       "0         3.99  Manhattan       01M  \n",
       "1         3.55  Manhattan       01M  \n",
       "2         3.12  Manhattan       01M  \n",
       "3         2.32  Manhattan       01M  \n",
       "4         3.95  Manhattan       01M  \n",
       "\n",
       "[5 rows x 37 columns]"
      ]
     },
     "execution_count": 2,
     "metadata": {},
     "output_type": "execute_result"
    }
   ],
   "source": [
    "nyc_schools = pd.read_csv('Data/nyc_schools.csv')\n",
    "nyc_schools.head()"
   ]
  },
  {
   "cell_type": "markdown",
   "metadata": {},
   "source": [
    "**Define features and target**"
   ]
  },
  {
   "cell_type": "code",
   "execution_count": 3,
   "metadata": {
    "ExecuteTime": {
     "end_time": "2020-01-13T19:06:55.153207Z",
     "start_time": "2020-01-13T19:06:55.142366Z"
    }
   },
   "outputs": [],
   "source": [
    "X = nyc_schools.drop('Student Achievement Rating',\n",
    "                    axis=1).iloc[:, 2:]\n",
    "y = nyc_schools['Student Achievement Rating']"
   ]
  },
  {
   "cell_type": "markdown",
   "metadata": {},
   "source": [
    "**Encode categorical variables**"
   ]
  },
  {
   "cell_type": "code",
   "execution_count": 4,
   "metadata": {
    "ExecuteTime": {
     "end_time": "2020-01-13T19:06:56.700288Z",
     "start_time": "2020-01-13T19:06:56.672054Z"
    }
   },
   "outputs": [],
   "source": [
    "X = pd.get_dummies(X, drop_first=True)"
   ]
  },
  {
   "cell_type": "markdown",
   "metadata": {},
   "source": [
    "**Train-test split**"
   ]
  },
  {
   "cell_type": "code",
   "execution_count": 5,
   "metadata": {
    "ExecuteTime": {
     "end_time": "2020-01-13T19:06:58.662259Z",
     "start_time": "2020-01-13T19:06:58.650060Z"
    }
   },
   "outputs": [],
   "source": [
    "X_train, X_test, y_train, y_test = train_test_split(X, y, test_size=0.2,\n",
    "                                                    random_state=220)"
   ]
  },
  {
   "cell_type": "markdown",
   "metadata": {},
   "source": [
    "**Standardize variables**"
   ]
  },
  {
   "cell_type": "code",
   "execution_count": 138,
   "metadata": {
    "ExecuteTime": {
     "end_time": "2020-01-13T20:56:18.539031Z",
     "start_time": "2020-01-13T20:56:18.530105Z"
    }
   },
   "outputs": [],
   "source": [
    "scale = StandardScaler()\n",
    "X_train_scale = pd.DataFrame(scale.fit_transform(X_train),\n",
    "                             columns=X.columns)\n",
    "X_test_scale = pd.DataFrame(scale.transform(X_test),\n",
    "                            columns=X.columns)"
   ]
  },
  {
   "cell_type": "markdown",
   "metadata": {},
   "source": [
    "## Modeling\n",
    "\n",
    "### Random Forest"
   ]
  },
  {
   "cell_type": "code",
   "execution_count": 16,
   "metadata": {
    "ExecuteTime": {
     "end_time": "2020-01-13T19:37:27.736917Z",
     "start_time": "2020-01-13T19:37:27.693952Z"
    }
   },
   "outputs": [
    {
     "data": {
      "text/plain": [
       "RandomForestClassifier(bootstrap=True, class_weight=None, criterion='gini',\n",
       "                       max_depth=None, max_features='auto', max_leaf_nodes=None,\n",
       "                       min_impurity_decrease=0.0, min_impurity_split=None,\n",
       "                       min_samples_leaf=1, min_samples_split=2,\n",
       "                       min_weight_fraction_leaf=0.0, n_estimators=10,\n",
       "                       n_jobs=None, oob_score=False, random_state=220,\n",
       "                       verbose=0, warm_start=False)"
      ]
     },
     "execution_count": 16,
     "metadata": {},
     "output_type": "execute_result"
    }
   ],
   "source": [
    "# Vanilla Model\n",
    "rf_v = RandomForestClassifier(random_state=220)\n",
    "\n",
    "rf_v.fit(X_train, y_train)"
   ]
  },
  {
   "cell_type": "code",
   "execution_count": 17,
   "metadata": {
    "ExecuteTime": {
     "end_time": "2020-01-13T19:37:29.996437Z",
     "start_time": "2020-01-13T19:37:29.988598Z"
    }
   },
   "outputs": [
    {
     "data": {
      "text/plain": [
       "0.51171875"
      ]
     },
     "execution_count": 17,
     "metadata": {},
     "output_type": "execute_result"
    }
   ],
   "source": [
    "rf_v.score(X_test, y_test)"
   ]
  },
  {
   "cell_type": "markdown",
   "metadata": {},
   "source": [
    "**Tuning hyperparameters**"
   ]
  },
  {
   "cell_type": "code",
   "execution_count": 23,
   "metadata": {
    "ExecuteTime": {
     "end_time": "2020-01-13T19:53:09.201995Z",
     "start_time": "2020-01-13T19:53:09.198341Z"
    }
   },
   "outputs": [],
   "source": [
    "# parameter grid\n",
    "rf_grid = {'n_estimators': [120, 300, 500],\n",
    "           'min_samples_split': [2, 3, 4],\n",
    "           'min_samples_leaf': [1, 2, 3],\n",
    "           'max_features': ['log2', 'auto']}"
   ]
  },
  {
   "cell_type": "code",
   "execution_count": 24,
   "metadata": {
    "ExecuteTime": {
     "end_time": "2020-01-13T19:54:00.191117Z",
     "start_time": "2020-01-13T19:53:18.812095Z"
    }
   },
   "outputs": [
    {
     "name": "stdout",
     "output_type": "stream",
     "text": [
      "Fitting 5 folds for each of 54 candidates, totalling 270 fits\n"
     ]
    },
    {
     "name": "stderr",
     "output_type": "stream",
     "text": [
      "[Parallel(n_jobs=-1)]: Using backend LokyBackend with 8 concurrent workers.\n",
      "[Parallel(n_jobs=-1)]: Done  34 tasks      | elapsed:    5.1s\n",
      "[Parallel(n_jobs=-1)]: Done 184 tasks      | elapsed:   27.8s\n",
      "[Parallel(n_jobs=-1)]: Done 270 out of 270 | elapsed:   40.6s finished\n"
     ]
    },
    {
     "data": {
      "text/plain": [
       "GridSearchCV(cv=5, error_score='raise-deprecating',\n",
       "             estimator=RandomForestClassifier(bootstrap=True, class_weight=None,\n",
       "                                              criterion='gini', max_depth=None,\n",
       "                                              max_features='auto',\n",
       "                                              max_leaf_nodes=None,\n",
       "                                              min_impurity_decrease=0.0,\n",
       "                                              min_impurity_split=None,\n",
       "                                              min_samples_leaf=1,\n",
       "                                              min_samples_split=2,\n",
       "                                              min_weight_fraction_leaf=0.0,\n",
       "                                              n_estimators='warn', n_jobs=None,\n",
       "                                              oob_score=False, random_state=220,\n",
       "                                              verbose=0, warm_start=False),\n",
       "             iid='warn', n_jobs=-1,\n",
       "             param_grid={'max_features': ['log2', 'auto'],\n",
       "                         'min_samples_leaf': [1, 2, 3],\n",
       "                         'min_samples_split': [2, 3, 4],\n",
       "                         'n_estimators': [120, 300, 500]},\n",
       "             pre_dispatch='2*n_jobs', refit=True, return_train_score=False,\n",
       "             scoring='recall_micro', verbose=1)"
      ]
     },
     "execution_count": 24,
     "metadata": {},
     "output_type": "execute_result"
    }
   ],
   "source": [
    "rf_gs = GridSearchCV(estimator=RandomForestClassifier(random_state=220),\n",
    "                     param_grid=rf_grid,\n",
    "                     scoring='recall_micro',\n",
    "                     cv=5, verbose=1, n_jobs=-1)\n",
    "\n",
    "rf_gs.fit(X_train, y_train)"
   ]
  },
  {
   "cell_type": "code",
   "execution_count": 25,
   "metadata": {
    "ExecuteTime": {
     "end_time": "2020-01-13T19:54:00.234408Z",
     "start_time": "2020-01-13T19:54:00.193052Z"
    }
   },
   "outputs": [
    {
     "name": "stdout",
     "output_type": "stream",
     "text": [
      "Best params: {'max_features': 'log2', 'min_samples_leaf': 1, 'min_samples_split': 2, 'n_estimators': 300}\n",
      "Train score: 0.534\n",
      "Test score: 0.590\n"
     ]
    }
   ],
   "source": [
    "print('Best params:', rf_gs.best_params_)\n",
    "print('Train score: %.3f' % rf_gs.best_score_)\n",
    "print('Test score: %.3f' % rf_gs.score(X_test, y_test))"
   ]
  },
  {
   "cell_type": "markdown",
   "metadata": {},
   "source": [
    "### LightGBM"
   ]
  },
  {
   "cell_type": "code",
   "execution_count": 26,
   "metadata": {
    "ExecuteTime": {
     "end_time": "2020-01-13T20:11:36.528400Z",
     "start_time": "2020-01-13T20:11:36.203583Z"
    }
   },
   "outputs": [
    {
     "data": {
      "text/plain": [
       "LGBMClassifier(boosting_type='gbdt', class_weight=None, colsample_bytree=1.0,\n",
       "               importance_type='split', learning_rate=0.1, max_depth=-1,\n",
       "               min_child_samples=20, min_child_weight=0.001, min_split_gain=0.0,\n",
       "               n_estimators=100, n_jobs=-1, num_leaves=31, objective=None,\n",
       "               random_state=220, reg_alpha=0.0, reg_lambda=0.0, silent=True,\n",
       "               subsample=1.0, subsample_for_bin=200000, subsample_freq=0)"
      ]
     },
     "execution_count": 26,
     "metadata": {},
     "output_type": "execute_result"
    }
   ],
   "source": [
    "# Vanilla Model\n",
    "lgb_v = lgb.LGBMClassifier(random_state=220)\n",
    "\n",
    "lgb_v.fit(X_train, y_train)"
   ]
  },
  {
   "cell_type": "code",
   "execution_count": 27,
   "metadata": {
    "ExecuteTime": {
     "end_time": "2020-01-13T20:11:37.480739Z",
     "start_time": "2020-01-13T20:11:37.451144Z"
    }
   },
   "outputs": [
    {
     "data": {
      "text/plain": [
       "0.51171875"
      ]
     },
     "execution_count": 27,
     "metadata": {},
     "output_type": "execute_result"
    }
   ],
   "source": [
    "rf_v.score(X_test, y_test)"
   ]
  },
  {
   "cell_type": "markdown",
   "metadata": {},
   "source": [
    "**Tuning hyperparameters**"
   ]
  },
  {
   "cell_type": "code",
   "execution_count": 38,
   "metadata": {
    "ExecuteTime": {
     "end_time": "2020-01-13T20:25:06.740423Z",
     "start_time": "2020-01-13T20:25:06.737480Z"
    }
   },
   "outputs": [],
   "source": [
    "# parameter grid\n",
    "lgb_grid = {'learning_rate': [0.025, 0.015],\n",
    "            'max_depth': [15, 17, 20],\n",
    "            'min_child_weight': [7, 8, 9],\n",
    "            'subsample': [0.1, 0.3, 0.5]}"
   ]
  },
  {
   "cell_type": "code",
   "execution_count": 39,
   "metadata": {
    "ExecuteTime": {
     "end_time": "2020-01-13T20:25:08.586245Z",
     "start_time": "2020-01-13T20:25:07.693899Z"
    }
   },
   "outputs": [
    {
     "name": "stdout",
     "output_type": "stream",
     "text": [
      "Fitting 5 folds for each of 54 candidates, totalling 270 fits\n"
     ]
    },
    {
     "name": "stderr",
     "output_type": "stream",
     "text": [
      "[Parallel(n_jobs=-1)]: Using backend LokyBackend with 8 concurrent workers.\n",
      "[Parallel(n_jobs=-1)]: Done  34 tasks      | elapsed:    5.4s\n",
      "[Parallel(n_jobs=-1)]: Done 184 tasks      | elapsed:   26.1s\n",
      "[Parallel(n_jobs=-1)]: Done 270 out of 270 | elapsed:   37.5s finished\n"
     ]
    },
    {
     "data": {
      "text/plain": [
       "GridSearchCV(cv=5, error_score='raise-deprecating',\n",
       "             estimator=LGBMClassifier(boosting_type='gbdt', class_weight=None,\n",
       "                                      colsample_bytree=1.0,\n",
       "                                      importance_type='split',\n",
       "                                      learning_rate=0.1, max_depth=-1,\n",
       "                                      min_child_samples=20,\n",
       "                                      min_child_weight=0.001,\n",
       "                                      min_split_gain=0.0, n_estimators=100,\n",
       "                                      n_jobs=-1, num_leaves=31, objective=None,\n",
       "                                      random_state=220, reg_alpha=0.0,\n",
       "                                      reg_lambda=0.0, silent=True,\n",
       "                                      subsample=1.0, subsample_for_bin=200000,\n",
       "                                      subsample_freq=0),\n",
       "             iid='warn', n_jobs=-1,\n",
       "             param_grid={'learning_rate': [0.025, 0.015],\n",
       "                         'max_depth': [15, 17, 20],\n",
       "                         'min_child_weight': [7, 8, 9],\n",
       "                         'subsample': [0.1, 0.3, 0.5]},\n",
       "             pre_dispatch='2*n_jobs', refit=True, return_train_score=False,\n",
       "             scoring='recall_micro', verbose=1)"
      ]
     },
     "execution_count": 39,
     "metadata": {},
     "output_type": "execute_result"
    }
   ],
   "source": [
    "lgb_gs = GridSearchCV(estimator=lgb.LGBMClassifier(random_state=220),\n",
    "                      param_grid=lgb_grid,\n",
    "                      scoring='recall_micro',\n",
    "                      cv=5, verbose=1, n_jobs=-1)\n",
    "\n",
    "lgb_gs.fit(X_train, y_train)"
   ]
  },
  {
   "cell_type": "code",
   "execution_count": 40,
   "metadata": {
    "ExecuteTime": {
     "end_time": "2020-01-13T20:25:09.405558Z",
     "start_time": "2020-01-13T20:25:09.381015Z"
    }
   },
   "outputs": [
    {
     "name": "stdout",
     "output_type": "stream",
     "text": [
      "Best params: {'learning_rate': 0.025, 'max_depth': 17, 'min_child_weight': 8, 'subsample': 0.1}\n",
      "Train score: 0.529\n",
      "Test score: 0.562\n"
     ]
    }
   ],
   "source": [
    "print('Best params:', lgb_gs.best_params_)\n",
    "print('Train score: %.3f' % lgb_gs.best_score_)\n",
    "print('Test score: %.3f' % lgb_gs.score(X_test, y_test))"
   ]
  },
  {
   "cell_type": "markdown",
   "metadata": {},
   "source": [
    "### Logistic Regression"
   ]
  },
  {
   "cell_type": "code",
   "execution_count": 41,
   "metadata": {
    "ExecuteTime": {
     "end_time": "2020-01-13T20:11:36.528400Z",
     "start_time": "2020-01-13T20:11:36.203583Z"
    }
   },
   "outputs": [
    {
     "data": {
      "text/plain": [
       "LogisticRegression(C=1.0, class_weight=None, dual=False, fit_intercept=True,\n",
       "                   intercept_scaling=1, l1_ratio=None, max_iter=100,\n",
       "                   multi_class='warn', n_jobs=None, penalty='l2',\n",
       "                   random_state=220, solver='warn', tol=0.0001, verbose=0,\n",
       "                   warm_start=False)"
      ]
     },
     "execution_count": 41,
     "metadata": {},
     "output_type": "execute_result"
    }
   ],
   "source": [
    "# Vanilla Model\n",
    "log_v = LogisticRegression(random_state=220)\n",
    "\n",
    "log_v.fit(X_train_scale, y_train)"
   ]
  },
  {
   "cell_type": "code",
   "execution_count": 42,
   "metadata": {
    "ExecuteTime": {
     "end_time": "2020-01-13T20:11:37.480739Z",
     "start_time": "2020-01-13T20:11:37.451144Z"
    }
   },
   "outputs": [
    {
     "data": {
      "text/plain": [
       "0.57421875"
      ]
     },
     "execution_count": 42,
     "metadata": {},
     "output_type": "execute_result"
    }
   ],
   "source": [
    "log_v.score(X_test_scale, y_test)"
   ]
  },
  {
   "cell_type": "markdown",
   "metadata": {},
   "source": [
    "**Tuning hyperparameters**"
   ]
  },
  {
   "cell_type": "code",
   "execution_count": 56,
   "metadata": {
    "ExecuteTime": {
     "end_time": "2020-01-13T20:25:06.740423Z",
     "start_time": "2020-01-13T20:25:06.737480Z"
    }
   },
   "outputs": [],
   "source": [
    "# parameter grid\n",
    "log_grid = {'penalty': ['l1', 'l2'],\n",
    "           'C': [0.001, 0.01, 10, 100]}"
   ]
  },
  {
   "cell_type": "code",
   "execution_count": 57,
   "metadata": {
    "ExecuteTime": {
     "end_time": "2020-01-13T20:25:08.586245Z",
     "start_time": "2020-01-13T20:25:07.693899Z"
    }
   },
   "outputs": [
    {
     "name": "stdout",
     "output_type": "stream",
     "text": [
      "Fitting 5 folds for each of 8 candidates, totalling 40 fits\n"
     ]
    },
    {
     "name": "stderr",
     "output_type": "stream",
     "text": [
      "[Parallel(n_jobs=-1)]: Using backend LokyBackend with 8 concurrent workers.\n",
      "[Parallel(n_jobs=-1)]: Done  40 out of  40 | elapsed:   18.2s finished\n"
     ]
    },
    {
     "data": {
      "text/plain": [
       "GridSearchCV(cv=5, error_score='raise-deprecating',\n",
       "             estimator=LogisticRegression(C=1.0, class_weight=None, dual=False,\n",
       "                                          fit_intercept=True,\n",
       "                                          intercept_scaling=1, l1_ratio=None,\n",
       "                                          max_iter=100, multi_class='warn',\n",
       "                                          n_jobs=None, penalty='l2',\n",
       "                                          random_state=220, solver='warn',\n",
       "                                          tol=0.0001, verbose=0,\n",
       "                                          warm_start=False),\n",
       "             iid='warn', n_jobs=-1,\n",
       "             param_grid={'C': [0.001, 0.01, 10, 100], 'penalty': ['l1', 'l2']},\n",
       "             pre_dispatch='2*n_jobs', refit=True, return_train_score=False,\n",
       "             scoring='recall_micro', verbose=1)"
      ]
     },
     "execution_count": 57,
     "metadata": {},
     "output_type": "execute_result"
    }
   ],
   "source": [
    "log_gs = GridSearchCV(estimator=LogisticRegression(random_state=220),\n",
    "                      param_grid=log_grid,\n",
    "                      scoring='recall_micro',\n",
    "                      cv=5, verbose=1, n_jobs=-1)\n",
    "\n",
    "log_gs.fit(X_train_scale, y_train)"
   ]
  },
  {
   "cell_type": "code",
   "execution_count": 58,
   "metadata": {
    "ExecuteTime": {
     "end_time": "2020-01-13T20:25:09.405558Z",
     "start_time": "2020-01-13T20:25:09.381015Z"
    }
   },
   "outputs": [
    {
     "name": "stdout",
     "output_type": "stream",
     "text": [
      "Best params: {'C': 0.01, 'penalty': 'l2'}\n",
      "Train score: 0.518\n",
      "Test score: 0.590\n"
     ]
    }
   ],
   "source": [
    "print('Best params:', log_gs.best_params_)\n",
    "print('Train score: %.3f' % log_gs.best_score_)\n",
    "print('Test score: %.3f' % log_gs.score(X_test_scale, y_test))"
   ]
  },
  {
   "cell_type": "markdown",
   "metadata": {},
   "source": [
    "### KNN"
   ]
  },
  {
   "cell_type": "code",
   "execution_count": 60,
   "metadata": {
    "ExecuteTime": {
     "end_time": "2020-01-13T20:11:36.528400Z",
     "start_time": "2020-01-13T20:11:36.203583Z"
    }
   },
   "outputs": [
    {
     "data": {
      "text/plain": [
       "KNeighborsClassifier(algorithm='auto', leaf_size=30, metric='minkowski',\n",
       "                     metric_params=None, n_jobs=None, n_neighbors=5, p=2,\n",
       "                     weights='uniform')"
      ]
     },
     "execution_count": 60,
     "metadata": {},
     "output_type": "execute_result"
    }
   ],
   "source": [
    "# Vanilla Model\n",
    "knn_v = KNeighborsClassifier()\n",
    "\n",
    "knn_v.fit(X_train_scale, y_train)"
   ]
  },
  {
   "cell_type": "code",
   "execution_count": 61,
   "metadata": {
    "ExecuteTime": {
     "end_time": "2020-01-13T20:11:37.480739Z",
     "start_time": "2020-01-13T20:11:37.451144Z"
    }
   },
   "outputs": [
    {
     "data": {
      "text/plain": [
       "0.453125"
      ]
     },
     "execution_count": 61,
     "metadata": {},
     "output_type": "execute_result"
    }
   ],
   "source": [
    "knn_v.score(X_test_scale, y_test)"
   ]
  },
  {
   "cell_type": "markdown",
   "metadata": {},
   "source": [
    "**Tuning hyperparameters**"
   ]
  },
  {
   "cell_type": "code",
   "execution_count": 75,
   "metadata": {
    "ExecuteTime": {
     "end_time": "2020-01-13T20:25:06.740423Z",
     "start_time": "2020-01-13T20:25:06.737480Z"
    }
   },
   "outputs": [],
   "source": [
    "# parameter grid\n",
    "knn_grid = {'n_neighbors': [34, 36, 38],\n",
    "           'p': [2, 3]}"
   ]
  },
  {
   "cell_type": "code",
   "execution_count": 76,
   "metadata": {
    "ExecuteTime": {
     "end_time": "2020-01-13T20:25:08.586245Z",
     "start_time": "2020-01-13T20:25:07.693899Z"
    }
   },
   "outputs": [
    {
     "name": "stdout",
     "output_type": "stream",
     "text": [
      "Fitting 5 folds for each of 6 candidates, totalling 30 fits\n"
     ]
    },
    {
     "name": "stderr",
     "output_type": "stream",
     "text": [
      "[Parallel(n_jobs=-1)]: Using backend LokyBackend with 8 concurrent workers.\n",
      "[Parallel(n_jobs=-1)]: Done  15 out of  30 | elapsed:    0.4s remaining:    0.4s\n",
      "[Parallel(n_jobs=-1)]: Done  30 out of  30 | elapsed:    1.1s finished\n"
     ]
    },
    {
     "data": {
      "text/plain": [
       "GridSearchCV(cv=5, error_score='raise-deprecating',\n",
       "             estimator=KNeighborsClassifier(algorithm='auto', leaf_size=30,\n",
       "                                            metric='minkowski',\n",
       "                                            metric_params=None, n_jobs=None,\n",
       "                                            n_neighbors=5, p=2,\n",
       "                                            weights='uniform'),\n",
       "             iid='warn', n_jobs=-1,\n",
       "             param_grid={'n_neighbors': [34, 36, 38], 'p': [2, 3]},\n",
       "             pre_dispatch='2*n_jobs', refit=True, return_train_score=False,\n",
       "             scoring='recall_micro', verbose=1)"
      ]
     },
     "execution_count": 76,
     "metadata": {},
     "output_type": "execute_result"
    }
   ],
   "source": [
    "knn_gs = GridSearchCV(estimator=KNeighborsClassifier(),\n",
    "                     param_grid=knn_grid,\n",
    "                     scoring='recall_micro',\n",
    "                     cv=5, verbose=1, n_jobs=-1)\n",
    "\n",
    "knn_gs.fit(X_train_scale, y_train)"
   ]
  },
  {
   "cell_type": "code",
   "execution_count": 77,
   "metadata": {
    "ExecuteTime": {
     "end_time": "2020-01-13T20:25:09.405558Z",
     "start_time": "2020-01-13T20:25:09.381015Z"
    }
   },
   "outputs": [
    {
     "name": "stdout",
     "output_type": "stream",
     "text": [
      "Best params: {'n_neighbors': 36, 'p': 2}\n",
      "Train score: 0.504\n",
      "Test score: 0.531\n"
     ]
    }
   ],
   "source": [
    "print('Best params:', knn_gs.best_params_)\n",
    "print('Train score: %.3f' % knn_gs.best_score_)\n",
    "print('Test score: %.3f' % knn_gs.score(X_test_scale, y_test))"
   ]
  },
  {
   "cell_type": "markdown",
   "metadata": {},
   "source": [
    "### SVM"
   ]
  },
  {
   "cell_type": "code",
   "execution_count": 78,
   "metadata": {
    "ExecuteTime": {
     "end_time": "2020-01-13T20:11:36.528400Z",
     "start_time": "2020-01-13T20:11:36.203583Z"
    }
   },
   "outputs": [
    {
     "data": {
      "text/plain": [
       "SVC(C=1.0, cache_size=200, class_weight=None, coef0=0.0,\n",
       "    decision_function_shape='ovr', degree=3, gamma='auto_deprecated',\n",
       "    kernel='linear', max_iter=-1, probability=False, random_state=220,\n",
       "    shrinking=True, tol=0.001, verbose=False)"
      ]
     },
     "execution_count": 78,
     "metadata": {},
     "output_type": "execute_result"
    }
   ],
   "source": [
    "# Vanilla Model\n",
    "svm_v = SVC(kernel='linear', random_state=220)\n",
    "\n",
    "svm_v.fit(X_train_scale, y_train)"
   ]
  },
  {
   "cell_type": "code",
   "execution_count": 79,
   "metadata": {
    "ExecuteTime": {
     "end_time": "2020-01-13T20:11:37.480739Z",
     "start_time": "2020-01-13T20:11:37.451144Z"
    }
   },
   "outputs": [
    {
     "data": {
      "text/plain": [
       "0.5859375"
      ]
     },
     "execution_count": 79,
     "metadata": {},
     "output_type": "execute_result"
    }
   ],
   "source": [
    "svm_v.score(X_test_scale, y_test)"
   ]
  },
  {
   "cell_type": "markdown",
   "metadata": {},
   "source": [
    "**Tuning hyperparameters**"
   ]
  },
  {
   "cell_type": "code",
   "execution_count": 94,
   "metadata": {
    "ExecuteTime": {
     "end_time": "2020-01-13T20:25:06.740423Z",
     "start_time": "2020-01-13T20:25:06.737480Z"
    }
   },
   "outputs": [],
   "source": [
    "# parameter grid\n",
    "svm_grid = {'C': [0.01, 0.1, 0.5],\n",
    "           'class_weight': ['balanced', None]}"
   ]
  },
  {
   "cell_type": "code",
   "execution_count": 95,
   "metadata": {
    "ExecuteTime": {
     "end_time": "2020-01-13T20:25:08.586245Z",
     "start_time": "2020-01-13T20:25:07.693899Z"
    },
    "scrolled": true
   },
   "outputs": [
    {
     "name": "stdout",
     "output_type": "stream",
     "text": [
      "Fitting 5 folds for each of 6 candidates, totalling 30 fits\n"
     ]
    },
    {
     "name": "stderr",
     "output_type": "stream",
     "text": [
      "[Parallel(n_jobs=-1)]: Using backend LokyBackend with 8 concurrent workers.\n",
      "[Parallel(n_jobs=-1)]: Done  15 out of  30 | elapsed:    0.4s remaining:    0.4s\n",
      "[Parallel(n_jobs=-1)]: Done  30 out of  30 | elapsed:    0.8s finished\n"
     ]
    },
    {
     "data": {
      "text/plain": [
       "GridSearchCV(cv=5, error_score='raise-deprecating',\n",
       "             estimator=SVC(C=1.0, cache_size=200, class_weight=None, coef0=0.0,\n",
       "                           decision_function_shape='ovr', degree=3,\n",
       "                           gamma='auto_deprecated', kernel='linear',\n",
       "                           max_iter=-1, probability=False, random_state=220,\n",
       "                           shrinking=True, tol=0.001, verbose=False),\n",
       "             iid='warn', n_jobs=-1,\n",
       "             param_grid={'C': [0.01, 0.1, 0.5],\n",
       "                         'class_weight': ['balanced', None]},\n",
       "             pre_dispatch='2*n_jobs', refit=True, return_train_score=False,\n",
       "             scoring='recall_micro', verbose=1)"
      ]
     },
     "execution_count": 95,
     "metadata": {},
     "output_type": "execute_result"
    }
   ],
   "source": [
    "svm_gs = GridSearchCV(estimator=SVC(kernel='linear', random_state=220),\n",
    "                     param_grid=svm_grid,\n",
    "                     scoring='recall_micro',\n",
    "                     cv=5, verbose=1, n_jobs=-1)\n",
    "\n",
    "svm_gs.fit(X_train_scale, y_train)"
   ]
  },
  {
   "cell_type": "code",
   "execution_count": 96,
   "metadata": {
    "ExecuteTime": {
     "end_time": "2020-01-13T20:25:09.405558Z",
     "start_time": "2020-01-13T20:25:09.381015Z"
    }
   },
   "outputs": [
    {
     "name": "stdout",
     "output_type": "stream",
     "text": [
      "Best params: {'C': 0.1, 'class_weight': None}\n",
      "Train score: 0.523\n",
      "Test score: 0.605\n"
     ]
    }
   ],
   "source": [
    "print('Best params:', svm_gs.best_params_)\n",
    "print('Train score: %.3f' % svm_gs.best_score_)\n",
    "print('Test score: %.3f' % svm_gs.score(X_test_scale, y_test))"
   ]
  },
  {
   "cell_type": "markdown",
   "metadata": {},
   "source": [
    "## Modeling with balanced classes"
   ]
  },
  {
   "cell_type": "code",
   "execution_count": 99,
   "metadata": {
    "ExecuteTime": {
     "end_time": "2020-01-13T20:31:18.157045Z",
     "start_time": "2020-01-13T20:31:18.154105Z"
    }
   },
   "outputs": [],
   "source": [
    "from sklearn.utils import resample\n",
    "from imblearn.over_sampling import SMOTE"
   ]
  },
  {
   "cell_type": "markdown",
   "metadata": {},
   "source": [
    "### Undersampling"
   ]
  },
  {
   "cell_type": "code",
   "execution_count": 121,
   "metadata": {
    "ExecuteTime": {
     "end_time": "2020-01-13T20:46:26.222066Z",
     "start_time": "2020-01-13T20:46:26.216187Z"
    }
   },
   "outputs": [
    {
     "data": {
      "text/plain": [
       "3    531\n",
       "2    358\n",
       "4    347\n",
       "1     40\n",
       "Name: Student Achievement Rating, dtype: int64"
      ]
     },
     "execution_count": 121,
     "metadata": {},
     "output_type": "execute_result"
    }
   ],
   "source": [
    "nyc_schools['Student Achievement Rating'].value_counts()"
   ]
  },
  {
   "cell_type": "code",
   "execution_count": 108,
   "metadata": {
    "ExecuteTime": {
     "end_time": "2020-01-13T20:38:23.685926Z",
     "start_time": "2020-01-13T20:38:23.672950Z"
    }
   },
   "outputs": [],
   "source": [
    "undersampled = resample(nyc_schools[nyc_schools['Student Achievement Rating']\n",
    "                                    != 3],\n",
    "                        replace=False,  # sample without replacement\n",
    "                        # match number in majority class\n",
    "                        n_samples=sum(nyc_schools['Student Achievement Rating']\n",
    "                                      == 3),\n",
    "                        random_state=220)  # reproducible results\n",
    "output_df = pd.concat([nyc_schools.loc[nyc_schools['Student Achievement Rating']\n",
    "                                       == 3],\n",
    "                       undersampled])"
   ]
  },
  {
   "cell_type": "code",
   "execution_count": 109,
   "metadata": {
    "ExecuteTime": {
     "end_time": "2020-01-13T20:38:24.788994Z",
     "start_time": "2020-01-13T20:38:24.783096Z"
    },
    "scrolled": false
   },
   "outputs": [
    {
     "data": {
      "text/plain": [
       "3    531\n",
       "2    256\n",
       "4    242\n",
       "1     33\n",
       "Name: Student Achievement Rating, dtype: int64"
      ]
     },
     "execution_count": 109,
     "metadata": {},
     "output_type": "execute_result"
    }
   ],
   "source": [
    "output_df['Student Achievement Rating'].value_counts()"
   ]
  },
  {
   "cell_type": "code",
   "execution_count": 156,
   "metadata": {
    "ExecuteTime": {
     "end_time": "2020-01-13T21:29:21.242000Z",
     "start_time": "2020-01-13T21:29:21.236813Z"
    }
   },
   "outputs": [],
   "source": [
    "X_u = output_df.drop(columns='Student Achievement Rating',\n",
    "                          axis=1)\n",
    "y_u = output_df['Student Achievement Rating']"
   ]
  },
  {
   "cell_type": "code",
   "execution_count": 157,
   "metadata": {
    "ExecuteTime": {
     "end_time": "2020-01-13T21:29:22.629976Z",
     "start_time": "2020-01-13T21:29:22.595537Z"
    }
   },
   "outputs": [],
   "source": [
    "X_u = pd.get_dummies(X_u, drop_first=True)"
   ]
  },
  {
   "cell_type": "code",
   "execution_count": 158,
   "metadata": {
    "ExecuteTime": {
     "end_time": "2020-01-13T21:29:23.420708Z",
     "start_time": "2020-01-13T21:29:23.406472Z"
    }
   },
   "outputs": [],
   "source": [
    "X_train_u, y_train_u, X_test_u, y_test_u = train_test_split(X_u, y_u, test_size=0.2,\n",
    "                                                            random_state=220)"
   ]
  },
  {
   "cell_type": "code",
   "execution_count": 159,
   "metadata": {
    "ExecuteTime": {
     "end_time": "2020-01-13T21:29:24.295335Z",
     "start_time": "2020-01-13T21:29:24.193942Z"
    },
    "scrolled": true
   },
   "outputs": [
    {
     "ename": "ValueError",
     "evalue": "Expected 2D array, got 1D array instead:\narray=[2. 3. 3. 4. 3. 2. 3. 1. 4. 3. 2. 2. 4. 2. 3. 3. 3. 2. 2. 3. 3. 3. 4. 3.\n 3. 4. 3. 3. 4. 2. 3. 4. 3. 4. 3. 2. 3. 2. 4. 3. 4. 2. 2. 3. 3. 3. 3. 3.\n 2. 3. 3. 3. 4. 3. 2. 3. 3. 4. 4. 2. 2. 3. 3. 3. 2. 2. 3. 3. 2. 3. 2. 2.\n 2. 2. 4. 4. 3. 3. 2. 2. 4. 3. 3. 4. 3. 3. 3. 3. 3. 4. 4. 4. 3. 3. 2. 4.\n 3. 3. 2. 2. 3. 3. 4. 4. 2. 3. 3. 3. 2. 4. 4. 2. 3. 4. 3. 4. 2. 3. 2. 4.\n 2. 3. 2. 3. 3. 3. 4. 2. 3. 3. 3. 2. 2. 3. 3. 2. 3. 3. 3. 4. 2. 4. 3. 2.\n 3. 3. 2. 3. 2. 3. 3. 3. 3. 2. 3. 3. 2. 3. 1. 3. 3. 3. 3. 4. 4. 3. 2. 3.\n 2. 2. 3. 3. 3. 1. 3. 3. 1. 3. 4. 4. 3. 2. 4. 4. 2. 3. 2. 4. 4. 4. 3. 3.\n 3. 4. 4. 3. 1. 2. 3. 2. 2. 3. 3. 3. 4. 4. 4. 3. 3. 3. 3. 4. 3. 3. 2. 3.\n 3. 3. 3. 3. 3. 3. 3. 3. 3. 3. 4. 2. 2. 3. 2. 1. 3. 2. 3. 2. 3. 2. 2. 3.\n 2. 3. 2. 3. 3. 1. 3. 3. 4. 2. 3. 2. 3. 3. 3. 3. 4. 2. 3. 4. 3. 2. 4. 2.\n 3. 4. 3. 3. 4. 4. 2. 4. 3. 4. 3. 3. 3. 2. 3. 3. 2. 3. 3. 4. 3. 3. 3. 3.\n 3. 4. 2. 3. 2. 2. 4. 2. 2. 4. 4. 3. 3. 2. 2. 3. 2. 1. 2. 2. 3. 4. 2. 3.\n 3. 1. 3. 3. 4. 4. 3. 3. 2. 2. 3. 3. 3. 2. 3. 3. 3. 3. 3. 3. 3. 3. 2. 3.\n 2. 3. 4. 3. 2. 1. 2. 3. 4. 4. 3. 2. 3. 3. 3. 3. 4. 2. 2. 3. 3. 3. 4. 3.\n 4. 2. 4. 4. 1. 2. 2. 2. 2. 4. 3. 4. 3. 3. 3. 2. 3. 2. 2. 4. 4. 4. 3. 4.\n 4. 3. 3. 2. 4. 3. 4. 2. 3. 3. 3. 2. 4. 2. 3. 3. 1. 3. 3. 3. 3. 3. 4. 2.\n 3. 4. 3. 3. 2. 4. 4. 3. 4. 3. 3. 3. 1. 3. 2. 4. 4. 3. 3. 4. 3. 2. 4. 3.\n 3. 3. 4. 4. 2. 4. 3. 3. 3. 3. 3. 3. 2. 2. 2. 2. 3. 2. 3. 2. 4. 3. 2. 2.\n 2. 3. 2. 2. 3. 3. 2. 3. 4. 3. 3. 3. 3. 4. 4. 2. 3. 3. 4. 3. 4. 4. 1. 4.\n 2. 3. 3. 2. 2. 3. 2. 3. 4. 3. 4. 3. 3. 3. 1. 4. 2. 3. 1. 3. 2. 4. 2. 3.\n 4. 3. 3. 3. 3. 3. 3. 1. 3. 3. 3. 4. 2. 3. 3. 3. 4. 3. 3. 2. 3. 3. 3. 3.\n 4. 3. 3. 4. 4. 2. 4. 3. 3. 3. 2. 3. 3. 4. 3. 3. 4. 3. 3. 2. 3. 3. 3. 4.\n 3. 4. 3. 2. 3. 4. 3. 3. 3. 3. 3. 2. 2. 2. 3. 2. 2. 4. 3. 3. 1. 3. 3. 4.\n 2. 3. 2. 4. 4. 2. 4. 2. 3. 3. 4. 3. 3. 3. 3. 3. 2. 3. 3. 2. 4. 3. 3. 4.\n 3. 2. 2. 3. 3. 3. 3. 2. 3. 4. 4. 4. 4. 3. 3. 3. 3. 4. 4. 3. 3. 3. 4. 3.\n 3. 3. 4. 2. 4. 3. 4. 3. 2. 4. 3. 2. 1. 3. 3. 3. 2. 2. 3. 2. 3. 3. 3. 2.\n 3. 3. 4. 2. 1. 3. 3. 3. 3. 2. 3. 3. 4. 3. 3. 3. 2. 4. 3. 3. 3. 2. 2. 3.\n 4. 3. 3. 1. 1. 3. 3. 3. 2. 4. 4. 2. 4. 2. 4. 2. 4. 4. 4. 2. 2. 3. 3. 3.\n 3. 4. 1. 3. 2. 3. 3. 4. 4. 3. 2. 4. 4. 2. 3. 2. 3. 3. 2. 4. 3. 3. 4. 3.\n 3. 2. 2. 4. 3. 3. 2. 2. 1. 2. 3. 3. 4. 4. 4. 2. 3. 2. 3. 3. 2. 3. 3. 4.\n 3. 3. 2. 4. 2. 4. 2. 3. 4. 4. 4. 3. 4. 3. 2. 3. 2. 2. 3. 2. 2. 4. 3. 2.\n 3. 4. 4. 3. 4. 3. 3. 3. 3. 2. 3. 3. 2. 4. 3. 4. 3. 3. 2. 3. 4. 3. 2. 1.\n 2. 3. 3. 2. 3. 2. 2. 3. 4. 4. 2. 3. 2. 3. 3. 3. 3. 3. 1. 2. 3. 3. 3. 3.\n 2. 3. 3. 4. 2. 2. 4. 3. 2. 3. 4. 2. 4. 3. 3. 3. 2. 3. 3. 3. 3. 3. 2. 3.\n 3. 3. 4. 4. 2. 2. 3. 3. 4.].\nReshape your data either using array.reshape(-1, 1) if your data has a single feature or array.reshape(1, -1) if it contains a single sample.",
     "output_type": "error",
     "traceback": [
      "\u001b[0;31m---------------------------------------------------------------------------\u001b[0m",
      "\u001b[0;31mValueError\u001b[0m                                Traceback (most recent call last)",
      "\u001b[0;32m<ipython-input-159-29db4d8d18a7>\u001b[0m in \u001b[0;36m<module>\u001b[0;34m\u001b[0m\n\u001b[1;32m      1\u001b[0m X_train_scale = pd.DataFrame(scale.fit_transform(X_train_u),\n\u001b[1;32m      2\u001b[0m                              columns=X_u.columns)\n\u001b[0;32m----> 3\u001b[0;31m X_test_scale = pd.DataFrame(scale.transform(X_test_u),\n\u001b[0m\u001b[1;32m      4\u001b[0m                             columns=X_u.columns)\n",
      "\u001b[0;32m~/anaconda3/lib/python3.7/site-packages/sklearn/preprocessing/data.py\u001b[0m in \u001b[0;36mtransform\u001b[0;34m(self, X, copy)\u001b[0m\n\u001b[1;32m    756\u001b[0m         X = check_array(X, accept_sparse='csr', copy=copy,\n\u001b[1;32m    757\u001b[0m                         \u001b[0mestimator\u001b[0m\u001b[0;34m=\u001b[0m\u001b[0mself\u001b[0m\u001b[0;34m,\u001b[0m \u001b[0mdtype\u001b[0m\u001b[0;34m=\u001b[0m\u001b[0mFLOAT_DTYPES\u001b[0m\u001b[0;34m,\u001b[0m\u001b[0;34m\u001b[0m\u001b[0;34m\u001b[0m\u001b[0m\n\u001b[0;32m--> 758\u001b[0;31m                         force_all_finite='allow-nan')\n\u001b[0m\u001b[1;32m    759\u001b[0m \u001b[0;34m\u001b[0m\u001b[0m\n\u001b[1;32m    760\u001b[0m         \u001b[0;32mif\u001b[0m \u001b[0msparse\u001b[0m\u001b[0;34m.\u001b[0m\u001b[0missparse\u001b[0m\u001b[0;34m(\u001b[0m\u001b[0mX\u001b[0m\u001b[0;34m)\u001b[0m\u001b[0;34m:\u001b[0m\u001b[0;34m\u001b[0m\u001b[0;34m\u001b[0m\u001b[0m\n",
      "\u001b[0;32m~/anaconda3/lib/python3.7/site-packages/sklearn/utils/validation.py\u001b[0m in \u001b[0;36mcheck_array\u001b[0;34m(array, accept_sparse, accept_large_sparse, dtype, order, copy, force_all_finite, ensure_2d, allow_nd, ensure_min_samples, ensure_min_features, warn_on_dtype, estimator)\u001b[0m\n\u001b[1;32m    519\u001b[0m                     \u001b[0;34m\"Reshape your data either using array.reshape(-1, 1) if \"\u001b[0m\u001b[0;34m\u001b[0m\u001b[0;34m\u001b[0m\u001b[0m\n\u001b[1;32m    520\u001b[0m                     \u001b[0;34m\"your data has a single feature or array.reshape(1, -1) \"\u001b[0m\u001b[0;34m\u001b[0m\u001b[0;34m\u001b[0m\u001b[0m\n\u001b[0;32m--> 521\u001b[0;31m                     \"if it contains a single sample.\".format(array))\n\u001b[0m\u001b[1;32m    522\u001b[0m \u001b[0;34m\u001b[0m\u001b[0m\n\u001b[1;32m    523\u001b[0m         \u001b[0;31m# in the future np.flexible dtypes will be handled like object dtypes\u001b[0m\u001b[0;34m\u001b[0m\u001b[0;34m\u001b[0m\u001b[0;34m\u001b[0m\u001b[0m\n",
      "\u001b[0;31mValueError\u001b[0m: Expected 2D array, got 1D array instead:\narray=[2. 3. 3. 4. 3. 2. 3. 1. 4. 3. 2. 2. 4. 2. 3. 3. 3. 2. 2. 3. 3. 3. 4. 3.\n 3. 4. 3. 3. 4. 2. 3. 4. 3. 4. 3. 2. 3. 2. 4. 3. 4. 2. 2. 3. 3. 3. 3. 3.\n 2. 3. 3. 3. 4. 3. 2. 3. 3. 4. 4. 2. 2. 3. 3. 3. 2. 2. 3. 3. 2. 3. 2. 2.\n 2. 2. 4. 4. 3. 3. 2. 2. 4. 3. 3. 4. 3. 3. 3. 3. 3. 4. 4. 4. 3. 3. 2. 4.\n 3. 3. 2. 2. 3. 3. 4. 4. 2. 3. 3. 3. 2. 4. 4. 2. 3. 4. 3. 4. 2. 3. 2. 4.\n 2. 3. 2. 3. 3. 3. 4. 2. 3. 3. 3. 2. 2. 3. 3. 2. 3. 3. 3. 4. 2. 4. 3. 2.\n 3. 3. 2. 3. 2. 3. 3. 3. 3. 2. 3. 3. 2. 3. 1. 3. 3. 3. 3. 4. 4. 3. 2. 3.\n 2. 2. 3. 3. 3. 1. 3. 3. 1. 3. 4. 4. 3. 2. 4. 4. 2. 3. 2. 4. 4. 4. 3. 3.\n 3. 4. 4. 3. 1. 2. 3. 2. 2. 3. 3. 3. 4. 4. 4. 3. 3. 3. 3. 4. 3. 3. 2. 3.\n 3. 3. 3. 3. 3. 3. 3. 3. 3. 3. 4. 2. 2. 3. 2. 1. 3. 2. 3. 2. 3. 2. 2. 3.\n 2. 3. 2. 3. 3. 1. 3. 3. 4. 2. 3. 2. 3. 3. 3. 3. 4. 2. 3. 4. 3. 2. 4. 2.\n 3. 4. 3. 3. 4. 4. 2. 4. 3. 4. 3. 3. 3. 2. 3. 3. 2. 3. 3. 4. 3. 3. 3. 3.\n 3. 4. 2. 3. 2. 2. 4. 2. 2. 4. 4. 3. 3. 2. 2. 3. 2. 1. 2. 2. 3. 4. 2. 3.\n 3. 1. 3. 3. 4. 4. 3. 3. 2. 2. 3. 3. 3. 2. 3. 3. 3. 3. 3. 3. 3. 3. 2. 3.\n 2. 3. 4. 3. 2. 1. 2. 3. 4. 4. 3. 2. 3. 3. 3. 3. 4. 2. 2. 3. 3. 3. 4. 3.\n 4. 2. 4. 4. 1. 2. 2. 2. 2. 4. 3. 4. 3. 3. 3. 2. 3. 2. 2. 4. 4. 4. 3. 4.\n 4. 3. 3. 2. 4. 3. 4. 2. 3. 3. 3. 2. 4. 2. 3. 3. 1. 3. 3. 3. 3. 3. 4. 2.\n 3. 4. 3. 3. 2. 4. 4. 3. 4. 3. 3. 3. 1. 3. 2. 4. 4. 3. 3. 4. 3. 2. 4. 3.\n 3. 3. 4. 4. 2. 4. 3. 3. 3. 3. 3. 3. 2. 2. 2. 2. 3. 2. 3. 2. 4. 3. 2. 2.\n 2. 3. 2. 2. 3. 3. 2. 3. 4. 3. 3. 3. 3. 4. 4. 2. 3. 3. 4. 3. 4. 4. 1. 4.\n 2. 3. 3. 2. 2. 3. 2. 3. 4. 3. 4. 3. 3. 3. 1. 4. 2. 3. 1. 3. 2. 4. 2. 3.\n 4. 3. 3. 3. 3. 3. 3. 1. 3. 3. 3. 4. 2. 3. 3. 3. 4. 3. 3. 2. 3. 3. 3. 3.\n 4. 3. 3. 4. 4. 2. 4. 3. 3. 3. 2. 3. 3. 4. 3. 3. 4. 3. 3. 2. 3. 3. 3. 4.\n 3. 4. 3. 2. 3. 4. 3. 3. 3. 3. 3. 2. 2. 2. 3. 2. 2. 4. 3. 3. 1. 3. 3. 4.\n 2. 3. 2. 4. 4. 2. 4. 2. 3. 3. 4. 3. 3. 3. 3. 3. 2. 3. 3. 2. 4. 3. 3. 4.\n 3. 2. 2. 3. 3. 3. 3. 2. 3. 4. 4. 4. 4. 3. 3. 3. 3. 4. 4. 3. 3. 3. 4. 3.\n 3. 3. 4. 2. 4. 3. 4. 3. 2. 4. 3. 2. 1. 3. 3. 3. 2. 2. 3. 2. 3. 3. 3. 2.\n 3. 3. 4. 2. 1. 3. 3. 3. 3. 2. 3. 3. 4. 3. 3. 3. 2. 4. 3. 3. 3. 2. 2. 3.\n 4. 3. 3. 1. 1. 3. 3. 3. 2. 4. 4. 2. 4. 2. 4. 2. 4. 4. 4. 2. 2. 3. 3. 3.\n 3. 4. 1. 3. 2. 3. 3. 4. 4. 3. 2. 4. 4. 2. 3. 2. 3. 3. 2. 4. 3. 3. 4. 3.\n 3. 2. 2. 4. 3. 3. 2. 2. 1. 2. 3. 3. 4. 4. 4. 2. 3. 2. 3. 3. 2. 3. 3. 4.\n 3. 3. 2. 4. 2. 4. 2. 3. 4. 4. 4. 3. 4. 3. 2. 3. 2. 2. 3. 2. 2. 4. 3. 2.\n 3. 4. 4. 3. 4. 3. 3. 3. 3. 2. 3. 3. 2. 4. 3. 4. 3. 3. 2. 3. 4. 3. 2. 1.\n 2. 3. 3. 2. 3. 2. 2. 3. 4. 4. 2. 3. 2. 3. 3. 3. 3. 3. 1. 2. 3. 3. 3. 3.\n 2. 3. 3. 4. 2. 2. 4. 3. 2. 3. 4. 2. 4. 3. 3. 3. 2. 3. 3. 3. 3. 3. 2. 3.\n 3. 3. 4. 4. 2. 2. 3. 3. 4.].\nReshape your data either using array.reshape(-1, 1) if your data has a single feature or array.reshape(1, -1) if it contains a single sample."
     ]
    }
   ],
   "source": [
    "X_train_scale = pd.DataFrame(scale.fit_transform(X_train_u),\n",
    "                             columns=X_u.columns)\n",
    "X_test_scale = pd.DataFrame(scale.transform(X_test_u),\n",
    "                            columns=X_u.columns)"
   ]
  },
  {
   "cell_type": "markdown",
   "metadata": {},
   "source": [
    "### SVM"
   ]
  },
  {
   "cell_type": "code",
   "execution_count": 126,
   "metadata": {
    "ExecuteTime": {
     "end_time": "2020-01-13T20:57:13.957527Z",
     "start_time": "2020-01-13T20:57:13.542835Z"
    }
   },
   "outputs": [
    {
     "data": {
      "text/plain": [
       "SVC(C=1.0, cache_size=200, class_weight=None, coef0=0.0,\n",
       "    decision_function_shape='ovr', degree=3, gamma='auto_deprecated',\n",
       "    kernel='linear', max_iter=-1, probability=False, random_state=220,\n",
       "    shrinking=True, tol=0.001, verbose=False)"
      ]
     },
     "execution_count": 126,
     "metadata": {},
     "output_type": "execute_result"
    }
   ],
   "source": [
    "# Vanilla Model\n",
    "svm_v = SVC(kernel='linear', random_state=220)\n",
    "\n",
    "svm_v.fit(X_train_scale, y_train_u)"
   ]
  },
  {
   "cell_type": "code",
   "execution_count": 129,
   "metadata": {
    "ExecuteTime": {
     "end_time": "2020-01-13T20:57:15.099027Z",
     "start_time": "2020-01-13T20:57:15.071692Z"
    }
   },
   "outputs": [
    {
     "data": {
      "text/plain": [
       "1.0"
      ]
     },
     "execution_count": 129,
     "metadata": {},
     "output_type": "execute_result"
    }
   ],
   "source": [
    "svm_v.score(X_test_scale, y_test_u)"
   ]
  },
  {
   "cell_type": "markdown",
   "metadata": {},
   "source": [
    "**Tuning hyperparameters**"
   ]
  },
  {
   "cell_type": "code",
   "execution_count": 94,
   "metadata": {
    "ExecuteTime": {
     "end_time": "2020-01-13T21:27:40.823338Z",
     "start_time": "2020-01-13T21:27:40.820370Z"
    }
   },
   "outputs": [],
   "source": [
    "# parameter grid\n",
    "svm_grid = {'C': [0.01, 0.1, 0.5],\n",
    "           'class_weight': ['balanced', None]}"
   ]
  },
  {
   "cell_type": "code",
   "execution_count": 95,
   "metadata": {
    "ExecuteTime": {
     "end_time": "2020-01-13T21:28:12.881209Z",
     "start_time": "2020-01-13T21:27:41.581538Z"
    },
    "scrolled": true
   },
   "outputs": [
    {
     "name": "stdout",
     "output_type": "stream",
     "text": [
      "Fitting 5 folds for each of 6 candidates, totalling 30 fits\n"
     ]
    },
    {
     "name": "stderr",
     "output_type": "stream",
     "text": [
      "[Parallel(n_jobs=-1)]: Using backend LokyBackend with 8 concurrent workers.\n",
      "[Parallel(n_jobs=-1)]: Done  15 out of  30 | elapsed:    0.4s remaining:    0.4s\n",
      "[Parallel(n_jobs=-1)]: Done  30 out of  30 | elapsed:    0.8s finished\n"
     ]
    },
    {
     "data": {
      "text/plain": [
       "GridSearchCV(cv=5, error_score='raise-deprecating',\n",
       "             estimator=SVC(C=1.0, cache_size=200, class_weight=None, coef0=0.0,\n",
       "                           decision_function_shape='ovr', degree=3,\n",
       "                           gamma='auto_deprecated', kernel='linear',\n",
       "                           max_iter=-1, probability=False, random_state=220,\n",
       "                           shrinking=True, tol=0.001, verbose=False),\n",
       "             iid='warn', n_jobs=-1,\n",
       "             param_grid={'C': [0.01, 0.1, 0.5],\n",
       "                         'class_weight': ['balanced', None]},\n",
       "             pre_dispatch='2*n_jobs', refit=True, return_train_score=False,\n",
       "             scoring='recall_micro', verbose=1)"
      ]
     },
     "execution_count": 95,
     "metadata": {},
     "output_type": "execute_result"
    }
   ],
   "source": [
    "svm_gs = GridSearchCV(estimator=SVC(kernel='linear', random_state=220),\n",
    "                     param_grid=svm_grid,\n",
    "                     scoring='recall_micro',\n",
    "                     cv=5, verbose=1, n_jobs=-1)\n",
    "\n",
    "svm_gs.fit(X_train_scale, y_train_u)"
   ]
  },
  {
   "cell_type": "code",
   "execution_count": 96,
   "metadata": {
    "ExecuteTime": {
     "end_time": "2020-01-13T21:28:12.913511Z",
     "start_time": "2020-01-13T21:28:12.883867Z"
    },
    "scrolled": true
   },
   "outputs": [
    {
     "name": "stdout",
     "output_type": "stream",
     "text": [
      "Best params: {'C': 0.1, 'class_weight': None}\n",
      "Train score: 0.523\n",
      "Test score: 0.605\n"
     ]
    }
   ],
   "source": [
    "print('Best params:', svm_gs.best_params_)\n",
    "print('Train score: %.3f' % svm_gs.best_score_)\n",
    "print('Test score: %.3f' % svm_gs.score(X_test_scale, y_test_u))"
   ]
  },
  {
   "cell_type": "markdown",
   "metadata": {},
   "source": [
    "### Oversampling"
   ]
  },
  {
   "cell_type": "code",
   "execution_count": 110,
   "metadata": {
    "ExecuteTime": {
     "end_time": "2020-01-13T20:56:23.861047Z",
     "start_time": "2020-01-13T20:56:23.851445Z"
    }
   },
   "outputs": [],
   "source": [
    "oversampled = resample(nyc_schools[nyc_schools['Student Achievement Rating']\n",
    "                                   != 1],\n",
    "                       replace=True,  # sample without replacement\n",
    "                       # match number in majority class\n",
    "                       n_samples=sum(nyc_schools['Student Achievement Rating']\n",
    "                                      == 1),\n",
    "                       random_state=220)  # reproducible results\n",
    "output_df_over = pd.concat([nyc_schools.loc[nyc_schools['Student Achievement Rating']\n",
    "                                            == 1],\n",
    "                            oversampled])\n",
    "X_train_o, y_train_o = output_df_over.drop(columns='Student Achievement Rating',\n",
    "                                           axis=1\n",
    "                                           ), output_df['Student Achievement Rating']"
   ]
  },
  {
   "cell_type": "code",
   "execution_count": 111,
   "metadata": {
    "ExecuteTime": {
     "end_time": "2020-01-13T20:40:03.456190Z",
     "start_time": "2020-01-13T20:40:03.450052Z"
    },
    "scrolled": true
   },
   "outputs": [
    {
     "data": {
      "text/plain": [
       "1    40\n",
       "3    17\n",
       "4    14\n",
       "2     9\n",
       "Name: Student Achievement Rating, dtype: int64"
      ]
     },
     "execution_count": 111,
     "metadata": {},
     "output_type": "execute_result"
    }
   ],
   "source": [
    "output_df_over['Student Achievement Rating'].value_counts()"
   ]
  },
  {
   "cell_type": "code",
   "execution_count": 135,
   "metadata": {
    "ExecuteTime": {
     "end_time": "2020-01-13T20:54:30.666500Z",
     "start_time": "2020-01-13T20:54:30.662406Z"
    }
   },
   "outputs": [],
   "source": [
    "X_o = output_df.drop(columns='Student Achievement Rating',\n",
    "                          axis=1)\n",
    "y_o = output_df['Student Achievement Rating']"
   ]
  },
  {
   "cell_type": "code",
   "execution_count": null,
   "metadata": {},
   "outputs": [],
   "source": [
    "X_o = pd.get_dummies(X_u, drop_first=True)"
   ]
  },
  {
   "cell_type": "code",
   "execution_count": null,
   "metadata": {},
   "outputs": [],
   "source": [
    "X_train_o, y_train_o, X_test_o, y_test_o = train_test_split(X_o, y_o, test_size=0.2,\n",
    "                                                            random_state=220)"
   ]
  },
  {
   "cell_type": "code",
   "execution_count": 131,
   "metadata": {
    "ExecuteTime": {
     "end_time": "2020-01-13T20:52:41.940101Z",
     "start_time": "2020-01-13T20:52:41.130363Z"
    }
   },
   "outputs": [
    {
     "ename": "ValueError",
     "evalue": "operands could not be broadcast together with shapes (256,72) (2192,) (256,72) ",
     "output_type": "error",
     "traceback": [
      "\u001b[0;31m---------------------------------------------------------------------------\u001b[0m",
      "\u001b[0;31mValueError\u001b[0m                                Traceback (most recent call last)",
      "\u001b[0;32m<ipython-input-131-350d2c9644dd>\u001b[0m in \u001b[0;36m<module>\u001b[0;34m\u001b[0m\n\u001b[1;32m      2\u001b[0m X_train_scale = pd.DataFrame(scale.fit_transform(X_train_u),\n\u001b[1;32m      3\u001b[0m                              columns=X_train_u.columns)\n\u001b[0;32m----> 4\u001b[0;31m X_test_scale = pd.DataFrame(scale.transform(X_test),\n\u001b[0m\u001b[1;32m      5\u001b[0m                             columns=X_train_u.columns)\n",
      "\u001b[0;32m~/anaconda3/lib/python3.7/site-packages/sklearn/preprocessing/data.py\u001b[0m in \u001b[0;36mtransform\u001b[0;34m(self, X, copy)\u001b[0m\n\u001b[1;32m    767\u001b[0m         \u001b[0;32melse\u001b[0m\u001b[0;34m:\u001b[0m\u001b[0;34m\u001b[0m\u001b[0;34m\u001b[0m\u001b[0m\n\u001b[1;32m    768\u001b[0m             \u001b[0;32mif\u001b[0m \u001b[0mself\u001b[0m\u001b[0;34m.\u001b[0m\u001b[0mwith_mean\u001b[0m\u001b[0;34m:\u001b[0m\u001b[0;34m\u001b[0m\u001b[0;34m\u001b[0m\u001b[0m\n\u001b[0;32m--> 769\u001b[0;31m                 \u001b[0mX\u001b[0m \u001b[0;34m-=\u001b[0m \u001b[0mself\u001b[0m\u001b[0;34m.\u001b[0m\u001b[0mmean_\u001b[0m\u001b[0;34m\u001b[0m\u001b[0;34m\u001b[0m\u001b[0m\n\u001b[0m\u001b[1;32m    770\u001b[0m             \u001b[0;32mif\u001b[0m \u001b[0mself\u001b[0m\u001b[0;34m.\u001b[0m\u001b[0mwith_std\u001b[0m\u001b[0;34m:\u001b[0m\u001b[0;34m\u001b[0m\u001b[0;34m\u001b[0m\u001b[0m\n\u001b[1;32m    771\u001b[0m                 \u001b[0mX\u001b[0m \u001b[0;34m/=\u001b[0m \u001b[0mself\u001b[0m\u001b[0;34m.\u001b[0m\u001b[0mscale_\u001b[0m\u001b[0;34m\u001b[0m\u001b[0;34m\u001b[0m\u001b[0m\n",
      "\u001b[0;31mValueError\u001b[0m: operands could not be broadcast together with shapes (256,72) (2192,) (256,72) "
     ]
    }
   ],
   "source": [
    "X_train_scale = pd.DataFrame(scale.fit_transform(X_train_o),\n",
    "                             columns=X_u.columns)\n",
    "X_test_scale = pd.DataFrame(scale.transform(X_test_o),\n",
    "                            columns=X_u.columns)"
   ]
  },
  {
   "cell_type": "markdown",
   "metadata": {},
   "source": [
    "### SVM"
   ]
  },
  {
   "cell_type": "code",
   "execution_count": 126,
   "metadata": {
    "ExecuteTime": {
     "end_time": "2020-01-13T20:57:13.957527Z",
     "start_time": "2020-01-13T20:57:13.542835Z"
    }
   },
   "outputs": [
    {
     "data": {
      "text/plain": [
       "SVC(C=1.0, cache_size=200, class_weight=None, coef0=0.0,\n",
       "    decision_function_shape='ovr', degree=3, gamma='auto_deprecated',\n",
       "    kernel='linear', max_iter=-1, probability=False, random_state=220,\n",
       "    shrinking=True, tol=0.001, verbose=False)"
      ]
     },
     "execution_count": 126,
     "metadata": {},
     "output_type": "execute_result"
    }
   ],
   "source": [
    "# Vanilla Model\n",
    "svm_v = SVC(kernel='linear', random_state=220)\n",
    "\n",
    "svm_v.fit(X_train_scale, y_train_o)"
   ]
  },
  {
   "cell_type": "code",
   "execution_count": 129,
   "metadata": {
    "ExecuteTime": {
     "end_time": "2020-01-13T20:57:15.099027Z",
     "start_time": "2020-01-13T20:57:15.071692Z"
    }
   },
   "outputs": [
    {
     "data": {
      "text/plain": [
       "1.0"
      ]
     },
     "execution_count": 129,
     "metadata": {},
     "output_type": "execute_result"
    }
   ],
   "source": [
    "svm_v.score(X_test_scale, y_test_o)"
   ]
  },
  {
   "cell_type": "markdown",
   "metadata": {},
   "source": [
    "**Tuning hyperparameters**"
   ]
  },
  {
   "cell_type": "code",
   "execution_count": 94,
   "metadata": {
    "ExecuteTime": {
     "end_time": "2020-01-13T20:58:35.569086Z",
     "start_time": "2020-01-13T20:58:35.565862Z"
    }
   },
   "outputs": [],
   "source": [
    "# parameter grid\n",
    "svm_grid = {'C': [0.01, 0.1, 0.5],\n",
    "           'class_weight': ['balanced', None]}"
   ]
  },
  {
   "cell_type": "code",
   "execution_count": 95,
   "metadata": {
    "ExecuteTime": {
     "start_time": "2020-01-13T20:58:36.206Z"
    },
    "scrolled": true
   },
   "outputs": [
    {
     "name": "stdout",
     "output_type": "stream",
     "text": [
      "Fitting 5 folds for each of 6 candidates, totalling 30 fits\n"
     ]
    },
    {
     "name": "stderr",
     "output_type": "stream",
     "text": [
      "[Parallel(n_jobs=-1)]: Using backend LokyBackend with 8 concurrent workers.\n",
      "[Parallel(n_jobs=-1)]: Done  15 out of  30 | elapsed:    0.4s remaining:    0.4s\n",
      "[Parallel(n_jobs=-1)]: Done  30 out of  30 | elapsed:    0.8s finished\n"
     ]
    },
    {
     "data": {
      "text/plain": [
       "GridSearchCV(cv=5, error_score='raise-deprecating',\n",
       "             estimator=SVC(C=1.0, cache_size=200, class_weight=None, coef0=0.0,\n",
       "                           decision_function_shape='ovr', degree=3,\n",
       "                           gamma='auto_deprecated', kernel='linear',\n",
       "                           max_iter=-1, probability=False, random_state=220,\n",
       "                           shrinking=True, tol=0.001, verbose=False),\n",
       "             iid='warn', n_jobs=-1,\n",
       "             param_grid={'C': [0.01, 0.1, 0.5],\n",
       "                         'class_weight': ['balanced', None]},\n",
       "             pre_dispatch='2*n_jobs', refit=True, return_train_score=False,\n",
       "             scoring='recall_micro', verbose=1)"
      ]
     },
     "execution_count": 95,
     "metadata": {},
     "output_type": "execute_result"
    }
   ],
   "source": [
    "svm_gs = GridSearchCV(estimator=SVC(kernel='linear', random_state=220),\n",
    "                     param_grid=svm_grid,\n",
    "                     scoring='recall_micro',\n",
    "                     cv=5, verbose=1, n_jobs=-1)\n",
    "\n",
    "svm_gs.fit(X_train_scale, y_train_o)"
   ]
  },
  {
   "cell_type": "code",
   "execution_count": 96,
   "metadata": {
    "ExecuteTime": {
     "start_time": "2020-01-13T20:58:37.071Z"
    },
    "scrolled": true
   },
   "outputs": [
    {
     "name": "stdout",
     "output_type": "stream",
     "text": [
      "Best params: {'C': 0.1, 'class_weight': None}\n",
      "Train score: 0.523\n",
      "Test score: 0.605\n"
     ]
    }
   ],
   "source": [
    "print('Best params:', svm_gs.best_params_)\n",
    "print('Train score: %.3f' % svm_gs.best_score_)\n",
    "print('Test score: %.3f' % svm_gs.score(X_test_scale, y_test_o))"
   ]
  },
  {
   "cell_type": "markdown",
   "metadata": {},
   "source": [
    "### SMOTE"
   ]
  },
  {
   "cell_type": "code",
   "execution_count": 139,
   "metadata": {
    "ExecuteTime": {
     "end_time": "2020-01-13T20:56:23.861047Z",
     "start_time": "2020-01-13T20:56:23.851445Z"
    }
   },
   "outputs": [],
   "source": [
    "sm_model = SMOTE(sampling_strategy='minority',\n",
    "                 random_state=220)\n",
    "X_train_s, y_train_s = sm_model.fit_sample(X_train_scale, y_train)"
   ]
  },
  {
   "cell_type": "markdown",
   "metadata": {},
   "source": [
    "### SVM"
   ]
  },
  {
   "cell_type": "code",
   "execution_count": 140,
   "metadata": {
    "ExecuteTime": {
     "end_time": "2020-01-13T20:57:13.957527Z",
     "start_time": "2020-01-13T20:57:13.542835Z"
    }
   },
   "outputs": [
    {
     "data": {
      "text/plain": [
       "SVC(C=1.0, cache_size=200, class_weight=None, coef0=0.0,\n",
       "    decision_function_shape='ovr', degree=3, gamma='auto_deprecated',\n",
       "    kernel='linear', max_iter=-1, probability=False, random_state=220,\n",
       "    shrinking=True, tol=0.001, verbose=False)"
      ]
     },
     "execution_count": 140,
     "metadata": {},
     "output_type": "execute_result"
    }
   ],
   "source": [
    "# Vanilla Model\n",
    "svm_v = SVC(kernel='linear', random_state=220)\n",
    "\n",
    "svm_v.fit(X_train_s, y_train_s)"
   ]
  },
  {
   "cell_type": "code",
   "execution_count": 141,
   "metadata": {
    "ExecuteTime": {
     "end_time": "2020-01-13T20:57:15.099027Z",
     "start_time": "2020-01-13T20:57:15.071692Z"
    }
   },
   "outputs": [
    {
     "data": {
      "text/plain": [
       "0.5390625"
      ]
     },
     "execution_count": 141,
     "metadata": {},
     "output_type": "execute_result"
    }
   ],
   "source": [
    "svm_v.score(X_test_scale, y_test)"
   ]
  },
  {
   "cell_type": "markdown",
   "metadata": {},
   "source": [
    "**Tuning hyperparameters**"
   ]
  },
  {
   "cell_type": "code",
   "execution_count": 153,
   "metadata": {
    "ExecuteTime": {
     "end_time": "2020-01-13T21:27:40.823338Z",
     "start_time": "2020-01-13T21:27:40.820370Z"
    }
   },
   "outputs": [],
   "source": [
    "# parameter grid\n",
    "svm_grid = {'C': [5, 10, 20],\n",
    "           'class_weight': ['balanced', None]}"
   ]
  },
  {
   "cell_type": "code",
   "execution_count": 154,
   "metadata": {
    "ExecuteTime": {
     "end_time": "2020-01-13T21:28:12.881209Z",
     "start_time": "2020-01-13T21:27:41.581538Z"
    },
    "scrolled": true
   },
   "outputs": [
    {
     "name": "stdout",
     "output_type": "stream",
     "text": [
      "Fitting 5 folds for each of 6 candidates, totalling 30 fits\n"
     ]
    },
    {
     "name": "stderr",
     "output_type": "stream",
     "text": [
      "[Parallel(n_jobs=-1)]: Using backend LokyBackend with 8 concurrent workers.\n",
      "[Parallel(n_jobs=-1)]: Done  30 out of  30 | elapsed:   27.9s finished\n"
     ]
    },
    {
     "data": {
      "text/plain": [
       "GridSearchCV(cv=5, error_score='raise-deprecating',\n",
       "             estimator=SVC(C=1.0, cache_size=200, class_weight=None, coef0=0.0,\n",
       "                           decision_function_shape='ovr', degree=3,\n",
       "                           gamma='auto_deprecated', kernel='linear',\n",
       "                           max_iter=-1, probability=False, random_state=220,\n",
       "                           shrinking=True, tol=0.001, verbose=False),\n",
       "             iid='warn', n_jobs=-1,\n",
       "             param_grid={'C': [5, 10, 20], 'class_weight': ['balanced', None]},\n",
       "             pre_dispatch='2*n_jobs', refit=True, return_train_score=False,\n",
       "             scoring='recall_micro', verbose=1)"
      ]
     },
     "execution_count": 154,
     "metadata": {},
     "output_type": "execute_result"
    }
   ],
   "source": [
    "svm_gs = GridSearchCV(estimator=SVC(kernel='linear', random_state=220),\n",
    "                     param_grid=svm_grid,\n",
    "                     scoring='recall_micro',\n",
    "                     cv=5, verbose=1, n_jobs=-1)\n",
    "\n",
    "svm_gs.fit(X_train_s, y_train_s)"
   ]
  },
  {
   "cell_type": "code",
   "execution_count": 155,
   "metadata": {
    "ExecuteTime": {
     "end_time": "2020-01-13T21:28:12.913511Z",
     "start_time": "2020-01-13T21:28:12.883867Z"
    }
   },
   "outputs": [
    {
     "name": "stdout",
     "output_type": "stream",
     "text": [
      "Best params: {'C': 10, 'class_weight': None}\n",
      "Train score: 0.641\n",
      "Test score: 0.547\n"
     ]
    }
   ],
   "source": [
    "print('Best params:', svm_gs.best_params_)\n",
    "print('Train score: %.3f' % svm_gs.best_score_)\n",
    "print('Test score: %.3f' % svm_gs.score(X_test_scale, y_test))"
   ]
  },
  {
   "cell_type": "markdown",
   "metadata": {},
   "source": [
    "## Findings"
   ]
  },
  {
   "cell_type": "markdown",
   "metadata": {},
   "source": [
    "### Comparing models"
   ]
  },
  {
   "cell_type": "code",
   "execution_count": null,
   "metadata": {},
   "outputs": [],
   "source": []
  },
  {
   "cell_type": "markdown",
   "metadata": {},
   "source": [
    "### Interpreting results"
   ]
  },
  {
   "cell_type": "code",
   "execution_count": null,
   "metadata": {},
   "outputs": [],
   "source": []
  }
 ],
 "metadata": {
  "kernelspec": {
   "display_name": "Python 3",
   "language": "python",
   "name": "python3"
  },
  "language_info": {
   "codemirror_mode": {
    "name": "ipython",
    "version": 3
   },
   "file_extension": ".py",
   "mimetype": "text/x-python",
   "name": "python",
   "nbconvert_exporter": "python",
   "pygments_lexer": "ipython3",
   "version": "3.7.3"
  },
  "toc": {
   "base_numbering": 1,
   "nav_menu": {},
   "number_sections": true,
   "sideBar": true,
   "skip_h1_title": false,
   "title_cell": "Table of Contents",
   "title_sidebar": "Contents",
   "toc_cell": false,
   "toc_position": {},
   "toc_section_display": true,
   "toc_window_display": false
  }
 },
 "nbformat": 4,
 "nbformat_minor": 2
}
